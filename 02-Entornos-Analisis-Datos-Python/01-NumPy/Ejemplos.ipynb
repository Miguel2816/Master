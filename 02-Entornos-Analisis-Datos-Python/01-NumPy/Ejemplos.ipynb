{
 "cells": [
  {
   "cell_type": "code",
   "execution_count": 1,
   "metadata": {},
   "outputs": [],
   "source": [
    "import numpy as np"
   ]
  },
  {
   "cell_type": "code",
   "execution_count": 40,
   "metadata": {},
   "outputs": [
    {
     "name": "stdout",
     "output_type": "stream",
     "text": [
      "[[2 8 1 6 3 2 6 3 5 4 5 2 4 7 7 6 9 3 6 6]\n",
      " [3 2 6 2 2 6 2 7 1 1 3 4 0 9 7 6 5 0 6 2]\n",
      " [6 8 5 9 2 8 5 1 9 2 9 4 5 1 1 5 2 0 6 9]\n",
      " [0 7 6 8 5 8 9 0 4 3 2 4 0 6 7 3 7 5 5 6]\n",
      " [2 7 0 7 2 0 5 4 1 6 3 6 1 9 9 0 0 3 2 5]\n",
      " [1 7 8 9 3 2 1 3 9 5 2 6 0 0 2 0 9 5 8 9]\n",
      " [9 4 2 3 5 6 5 8 3 7 5 4 2 6 6 9 9 5 0 1]\n",
      " [0 5 4 3 7 6 0 3 6 9 4 7 7 8 1 4 9 0 6 6]\n",
      " [2 0 5 9 3 7 1 8 0 3 8 0 3 5 8 9 8 9 3 6]\n",
      " [4 8 4 0 5 2 2 2 8 8 6 5 6 0 2 4 0 8 9 0]]\n"
     ]
    }
   ],
   "source": [
    "# Creamos array\n",
    "\n",
    "a = np.random.randint(0,10, size=(10,20))\n",
    "print(a)"
   ]
  },
  {
   "cell_type": "code",
   "execution_count": 41,
   "metadata": {},
   "outputs": [],
   "source": [
    "b = np.arange(19,-1,-1)"
   ]
  },
  {
   "cell_type": "code",
   "execution_count": 42,
   "metadata": {},
   "outputs": [],
   "source": [
    "c = a.copy()\n",
    "for i in range(0,20):\n",
    "    c[:,i] = a[:,b[i]]"
   ]
  },
  {
   "cell_type": "code",
   "execution_count": 44,
   "metadata": {},
   "outputs": [],
   "source": [
    "d = a[:,b]"
   ]
  },
  {
   "cell_type": "code",
   "execution_count": 45,
   "metadata": {},
   "outputs": [
    {
     "name": "stdout",
     "output_type": "stream",
     "text": [
      "[[6 6 3 9 6 7 7 4 2 5 4 5 3 6 2 3 6 1 8 2]\n",
      " [2 6 0 5 6 7 9 0 4 3 1 1 7 2 6 2 2 6 2 3]\n",
      " [9 6 0 2 5 1 1 5 4 9 2 9 1 5 8 2 9 5 8 6]\n",
      " [6 5 5 7 3 7 6 0 4 2 3 4 0 9 8 5 8 6 7 0]\n",
      " [5 2 3 0 0 9 9 1 6 3 6 1 4 5 0 2 7 0 7 2]\n",
      " [9 8 5 9 0 2 0 0 6 2 5 9 3 1 2 3 9 8 7 1]\n",
      " [1 0 5 9 9 6 6 2 4 5 7 3 8 5 6 5 3 2 4 9]\n",
      " [6 6 0 9 4 1 8 7 7 4 9 6 3 0 6 7 3 4 5 0]\n",
      " [6 3 9 8 9 8 5 3 0 8 3 0 8 1 7 3 9 5 0 2]\n",
      " [0 9 8 0 4 2 0 6 5 6 8 8 2 2 2 5 0 4 8 4]]\n"
     ]
    }
   ],
   "source": [
    "print(c)"
   ]
  },
  {
   "cell_type": "code",
   "execution_count": 46,
   "metadata": {},
   "outputs": [
    {
     "name": "stdout",
     "output_type": "stream",
     "text": [
      "[[6 6 3 9 6 7 7 4 2 5 4 5 3 6 2 3 6 1 8 2]\n",
      " [2 6 0 5 6 7 9 0 4 3 1 1 7 2 6 2 2 6 2 3]\n",
      " [9 6 0 2 5 1 1 5 4 9 2 9 1 5 8 2 9 5 8 6]\n",
      " [6 5 5 7 3 7 6 0 4 2 3 4 0 9 8 5 8 6 7 0]\n",
      " [5 2 3 0 0 9 9 1 6 3 6 1 4 5 0 2 7 0 7 2]\n",
      " [9 8 5 9 0 2 0 0 6 2 5 9 3 1 2 3 9 8 7 1]\n",
      " [1 0 5 9 9 6 6 2 4 5 7 3 8 5 6 5 3 2 4 9]\n",
      " [6 6 0 9 4 1 8 7 7 4 9 6 3 0 6 7 3 4 5 0]\n",
      " [6 3 9 8 9 8 5 3 0 8 3 0 8 1 7 3 9 5 0 2]\n",
      " [0 9 8 0 4 2 0 6 5 6 8 8 2 2 2 5 0 4 8 4]]\n"
     ]
    }
   ],
   "source": [
    "print(d)"
   ]
  }
 ],
 "metadata": {
  "kernelspec": {
   "display_name": "Python 3",
   "language": "python",
   "name": "python3"
  },
  "language_info": {
   "codemirror_mode": {
    "name": "ipython",
    "version": 3
   },
   "file_extension": ".py",
   "mimetype": "text/x-python",
   "name": "python",
   "nbconvert_exporter": "python",
   "pygments_lexer": "ipython3",
   "version": "3.7.6"
  }
 },
 "nbformat": 4,
 "nbformat_minor": 4
}
