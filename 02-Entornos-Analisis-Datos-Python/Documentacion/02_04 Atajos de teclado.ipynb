{
 "cells": [
  {
   "cell_type": "markdown",
   "metadata": {},
   "source": [
    "<a name = \"inicio\"></a>"
   ]
  },
  {
   "cell_type": "markdown",
   "metadata": {},
   "source": [
    "<div style=\"font-size: 50px;text-align: center;height:60px;padding:10px;margin:10px 0 0 0;\">El entorno Jupyter</div>\n",
    "<div style=\"font-size: 40px;text-align: center;height:50px;padding:10px;margin:0 0 10px 0;\">Atajos de teclado</div>"
   ]
  },
  {
   "cell_type": "markdown",
   "metadata": {},
   "source": [
    "En función del modo de trabajo en el que estemos, Jupyter nos ofrece un interesante conjunto de atajos de teclado (que, además, podemos editar). Destaquemos algunos:"
   ]
  },
  {
   "cell_type": "markdown",
   "metadata": {},
   "source": [
    "###### Modo comando"
   ]
  },
  {
   "cell_type": "markdown",
   "metadata": {},
   "source": [
    "* **Intro**: Pasa a modo de edición\n",
    "* **A**: Inserta una celda encima de la celda actual\n",
    "* **B**: Inserta una celda debajo de la celda actual\n",
    "* **C**: Copia las celdas seleccionadas\n",
    "* **X**: Corta las celdas seleccionadas\n",
    "* **V**: Pega las celdas copiadas o cortadas debajo de la celda seleccionada\n",
    "* **Mayúsculas-V**: Pega las celdas copiadas o cortadas encima de la celda seleccionada\n",
    "* **Z**: Deshace la anterior eliminación de celda\n",
    "* **D**, **D** (doble pulsación de la tecla D): Elimina las celdas seleccionadas"
   ]
  },
  {
   "cell_type": "markdown",
   "metadata": {},
   "source": [
    "###### Modo de edición"
   ]
  },
  {
   "cell_type": "markdown",
   "metadata": {},
   "source": [
    "* **Escape**: Pasa a modo comando\n",
    "* **Control-Inicio**: Va al comienzo de la celda\n",
    "* **Control-Fin**: Va al final de la celda"
   ]
  },
  {
   "cell_type": "markdown",
   "metadata": {},
   "source": [
    "###### En ambos modos"
   ]
  },
  {
   "cell_type": "markdown",
   "metadata": {},
   "source": [
    "* **Mayúsculas-Intro**: Ejecuta la celda seleccionada y selecciona la siguiente\n",
    "* **Control-Intro**: Ejecuta la/s celda/s seleccionada/s (sin seleccionar la siguiente)"
   ]
  },
  {
   "cell_type": "markdown",
   "metadata": {},
   "source": [
    "Tienes en el menú superior del cuaderno Jupyter un listado de los atajos de teclado disponibles, opción Help > Keyboard Shortcuts.\n",
    "\n",
    "Por cierto, puedes seleccionar más de una celda simultáneamente si haces clic en la primera, presionas la tecla Mayúsculas y, sin soltarla, haces clic en la última celda a seleccionar."
   ]
  },
  {
   "cell_type": "markdown",
   "metadata": {},
   "source": [
    "<div style = \"float:right\"><a style=\"text-decoration:none\" href = \"#inicio\">Inicio</a></div>"
   ]
  }
 ],
 "metadata": {
  "kernelspec": {
   "display_name": "Python 3",
   "language": "python",
   "name": "python3"
  },
  "language_info": {
   "codemirror_mode": {
    "name": "ipython",
    "version": 3
   },
   "file_extension": ".py",
   "mimetype": "text/x-python",
   "name": "python",
   "nbconvert_exporter": "python",
   "pygments_lexer": "ipython3",
   "version": "3.7.6"
  }
 },
 "nbformat": 4,
 "nbformat_minor": 2
}
