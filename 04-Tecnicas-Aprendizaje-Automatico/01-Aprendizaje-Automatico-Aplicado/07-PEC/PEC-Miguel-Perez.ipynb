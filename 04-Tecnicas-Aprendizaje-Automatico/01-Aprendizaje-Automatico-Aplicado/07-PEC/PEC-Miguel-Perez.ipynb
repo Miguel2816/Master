{
 "cells": [
  {
   "cell_type": "markdown",
   "metadata": {},
   "source": [
    "# Prueba de evaluación del Aprendizaje Automático\n",
    "En primer lugar, vamos a generar una semilla para el resto del ejercicio a partir de una cadena de texto, por eso escribiremos en `name` un mensaje único. A partir de esta cadena se generará una semilla."
   ]
  },
  {
   "cell_type": "code",
   "execution_count": 1,
   "metadata": {},
   "outputs": [],
   "source": [
    "name = 'Miguel Pérez'\n",
    "seed = sum(ord(s) for s in name)"
   ]
  },
  {
   "cell_type": "markdown",
   "metadata": {},
   "source": [
    "Ahora, siempre que sea necesario usar una semilla para generar números aleatorios se usará esta variable."
   ]
  },
  {
   "cell_type": "markdown",
   "metadata": {},
   "source": [
    "A continuación, se descativan los warnings porque en la creación de los modelos ajustando los hiperparámetros, al establecer muchas combinaciones puede suceder que alguna de ellas no sea compatible y salten los warning, por lo que para evitar que el resultado pueda quedar lleno de warnings es conveniente ignorarlos."
   ]
  },
  {
   "cell_type": "code",
   "execution_count": 2,
   "metadata": {},
   "outputs": [],
   "source": [
    "import warnings\n",
    "warnings.filterwarnings('ignore')"
   ]
  },
  {
   "cell_type": "markdown",
   "metadata": {},
   "source": [
    "\n",
    "## 1. Ejercicio de regresión  (1.5 puntos)\n",
    "Generar un conjunto de datos mediante la función `make_regression` con cien muestras, cinco características, de las cuales solo dos son informativas, un ruido de 1 y utilizando la semilla. Esto es, ejecutar el siguiente código."
   ]
  },
  {
   "cell_type": "code",
   "execution_count": 3,
   "metadata": {},
   "outputs": [],
   "source": [
    "from sklearn.datasets import make_regression\n",
    "\n",
    "x_1, y_1 = make_regression(n_samples=100, n_features=5, n_informative=2, noise=1, random_state=seed)"
   ]
  },
  {
   "cell_type": "markdown",
   "metadata": {},
   "source": [
    "Sin la necesidad de dividir el conjunto de datos en entrenamiento y test, ni normalizar los datos. Crear un modelo de regresión lineal y Lasso para predecir el valor de `y`. \n",
    "\n",
    "Responder a las siguientes preguntas:\n",
    "1.\tObtener los parámetros ambos modelos.\n",
    "2.\tObtener el $R^2$ de ambos modelos, ¿cuál es mejor?\n",
    "3.\tEn el caso del modelo Lasso ¿qué características son eliminadas? Indicar la posición de estas.\n",
    "\n",
    "## Solución"
   ]
  },
  {
   "cell_type": "markdown",
   "metadata": {},
   "source": [
    "Importar librerías necesarias para la resolución del ejercicio"
   ]
  },
  {
   "cell_type": "code",
   "execution_count": 4,
   "metadata": {},
   "outputs": [],
   "source": [
    "from sklearn.linear_model import LinearRegression\n",
    "from sklearn.linear_model import Lasso\n",
    "import pandas as pd\n",
    "import numpy as np"
   ]
  },
  {
   "cell_type": "markdown",
   "metadata": {},
   "source": [
    "Generar el modelo de regresión lineal sin dividir el conjunto de datos en entrenamiento y test, ni normalizar los datos. Para la generación del modelo no se incluye ningún parámetro ya que no se especifica en el enunciado, y es interesante destacar que el parámetro fit_intercept tiene el valor de True por defecto, y será el valor que tome la variable dependiente, \"y\", cuando las variables independientes sean 0."
   ]
  },
  {
   "cell_type": "code",
   "execution_count": 5,
   "metadata": {},
   "outputs": [],
   "source": [
    "model_lr = LinearRegression()\n",
    "model_lr.fit(x_1, y_1)\n",
    "\n",
    "coef_lr = model_lr.coef_\n",
    "intercept_lr = model_lr.intercept_\n",
    "R2_lr = model_lr.score(x_1,y_1)"
   ]
  },
  {
   "cell_type": "markdown",
   "metadata": {},
   "source": [
    "Se genera el modelo Lasso nuevamente con el parámetro fit_intercept igual a True por defecto."
   ]
  },
  {
   "cell_type": "code",
   "execution_count": 6,
   "metadata": {},
   "outputs": [],
   "source": [
    "model_lasso = Lasso()\n",
    "model_lasso.fit(x_1, y_1)\n",
    "\n",
    "intercept_lasso = model_lasso.intercept_\n",
    "coef_lasso = model_lasso.coef_\n",
    "R2_lasso = model_lasso.score(x_1, y_1)"
   ]
  },
  {
   "cell_type": "markdown",
   "metadata": {},
   "source": [
    "Los resultados se muestran en la siguiente tabla. Los coeficientes en ambos casos serán un array de 5 valores, uno por cada característica, que serán identificados por x1, x2, x3, x4, x5, mientras que el intercept será x0."
   ]
  },
  {
   "cell_type": "code",
   "execution_count": 7,
   "metadata": {},
   "outputs": [
    {
     "data": {
      "text/html": [
       "<div>\n",
       "<style scoped>\n",
       "    .dataframe tbody tr th:only-of-type {\n",
       "        vertical-align: middle;\n",
       "    }\n",
       "\n",
       "    .dataframe tbody tr th {\n",
       "        vertical-align: top;\n",
       "    }\n",
       "\n",
       "    .dataframe thead th {\n",
       "        text-align: right;\n",
       "    }\n",
       "</style>\n",
       "<table border=\"1\" class=\"dataframe\">\n",
       "  <thead>\n",
       "    <tr style=\"text-align: right;\">\n",
       "      <th></th>\n",
       "      <th>x0</th>\n",
       "      <th>x1</th>\n",
       "      <th>x2</th>\n",
       "      <th>x3</th>\n",
       "      <th>x4</th>\n",
       "      <th>x5</th>\n",
       "      <th>R2</th>\n",
       "    </tr>\n",
       "  </thead>\n",
       "  <tbody>\n",
       "    <tr>\n",
       "      <th>Regresión Lineal</th>\n",
       "      <td>0.049708</td>\n",
       "      <td>-0.070253</td>\n",
       "      <td>0.012177</td>\n",
       "      <td>25.097666</td>\n",
       "      <td>0.060767</td>\n",
       "      <td>24.755628</td>\n",
       "      <td>0.999313</td>\n",
       "    </tr>\n",
       "    <tr>\n",
       "      <th>Lasso</th>\n",
       "      <td>0.028262</td>\n",
       "      <td>-0.000000</td>\n",
       "      <td>0.000000</td>\n",
       "      <td>24.354952</td>\n",
       "      <td>0.000000</td>\n",
       "      <td>23.875610</td>\n",
       "      <td>0.998244</td>\n",
       "    </tr>\n",
       "  </tbody>\n",
       "</table>\n",
       "</div>"
      ],
      "text/plain": [
       "                        x0        x1        x2         x3        x4  \\\n",
       "Regresión Lineal  0.049708 -0.070253  0.012177  25.097666  0.060767   \n",
       "Lasso             0.028262 -0.000000  0.000000  24.354952  0.000000   \n",
       "\n",
       "                         x5        R2  \n",
       "Regresión Lineal  24.755628  0.999313  \n",
       "Lasso             23.875610  0.998244  "
      ]
     },
     "execution_count": 7,
     "metadata": {},
     "output_type": "execute_result"
    }
   ],
   "source": [
    "columns_1 = ['x0', 'x1', 'x2', 'x3', 'x4', 'x5', 'R2']\n",
    "rows_1 = ['Regresión Lineal', 'Lasso']\n",
    "\n",
    "array_1 = np.array([[intercept_lr, coef_lr[0], coef_lr[1], coef_lr[2], coef_lr[3], coef_lr[4], R2_lr], \n",
    "                          [intercept_lasso, coef_lasso[0], coef_lasso[1], coef_lasso[2], coef_lasso[3], \n",
    "                           coef_lasso[4], R2_lasso]])\n",
    "\n",
    "df_1 = pd.DataFrame(data=array_1, index=rows_1, columns=columns_1)\n",
    "df_1"
   ]
  },
  {
   "cell_type": "markdown",
   "metadata": {},
   "source": [
    "En la tabla anterior se pueden observar los valores del término independiente y los parámetros de ajuste de la recta en ambos casos, de forma que las ecuaciones (con los parámetros redondeados) quedarían de la siguiente forma. En primer lugar la regresión lineal:\n",
    "\n",
    "$$y = 0.05 - 0.07 x_1 + 0.01 x_2 + 25.1 x_3 + 0.06 x_4 + 24.76 x_5$$\n",
    "\n",
    "En el caso Lasso, se observa que hay valores que son iguales a 0 por lo que se omiten de la ecuación:\n",
    "\n",
    "$$y = 0.03 + 24.35 x_3 + 23.88 x_5$$\n",
    "\n",
    "Respondiendo a las preguntas:\n",
    "\n",
    "* Los parámetros han sido obtenidos y se pueden observar tanto en la tabla como en las ecuaciones anteriores.\n",
    "* El $R^2$ de ambos modelos se puede obtener de la tabla anterior. Se observa que el valor de la regresión lineal es ligeramente superior.\n",
    "* El modelo Lasso elimina 3 características quedándose con las 2 que son informativas. Estas características eliminadas son las que se corresponden con las columnas 1, 2 y 4 del conjunto de valores x_1 que representa las variables independientes."
   ]
  },
  {
   "cell_type": "markdown",
   "metadata": {},
   "source": [
    "## 2. Ejercicio de clasificación  (1.5 puntos)\n",
    "Generar un conjunto de datos utilizando la función make_classification. En este caso es necesario que el conjunto de datos cuente con doscientos registros, cinco características, dos de las cuales han de ser redundantes y la semilla. Esto es, ejecutar el siguiente código"
   ]
  },
  {
   "cell_type": "code",
   "execution_count": 8,
   "metadata": {},
   "outputs": [],
   "source": [
    "from sklearn.datasets import make_classification\n",
    "\n",
    "x_2, y_2 = make_classification(n_samples=200, n_features=5, n_redundant=2, random_state=seed)"
   ]
  },
  {
   "cell_type": "markdown",
   "metadata": {},
   "source": [
    "Sin la necesidad de dividir el conjunto de datos en entrenamiento y test, ni normalizar los datos. Crear modelos para predecir el resultado de y utilizando una regresión logística, un árbol de decisión y un Random Forest. Tanto el árbol de decisión como Random Forest deben tener una profundidad máxima de 3. \n",
    "\n",
    "Responder a las siguientes preguntas:\n",
    "1. ¿Cuál de los tres modelos tiene una mayor precisión?\n",
    "2. ¿Cuál de los tres modelos tiene una mayor exactitud?\n",
    "3. ¿Cuál de los tres modelos tiene una mayor exhaustividad?\n",
    "4. En el árbol de decisión y Random Forest, ¿se usan todas las características? En caso negativo, cuales son las que no se usan.\n",
    "\n",
    "## Solución"
   ]
  },
  {
   "cell_type": "markdown",
   "metadata": {},
   "source": [
    "Importar librerías"
   ]
  },
  {
   "cell_type": "code",
   "execution_count": 9,
   "metadata": {},
   "outputs": [],
   "source": [
    "from sklearn.linear_model import LogisticRegression\n",
    "from sklearn.ensemble import RandomForestClassifier\n",
    "from sklearn.tree import DecisionTreeClassifier\n",
    "from sklearn.metrics import precision_score\n",
    "from sklearn.metrics import accuracy_score\n",
    "from sklearn.metrics import recall_score\n",
    "from sklearn.externals.six import StringIO\n",
    "from sklearn.tree import export_graphviz\n",
    "from IPython.display import Image  \n",
    "import pandas as pd\n",
    "import numpy as np\n",
    "import pydotplus"
   ]
  },
  {
   "cell_type": "markdown",
   "metadata": {},
   "source": [
    "Generar el modelo de regresión logística. Como no hay necesidad de separar el conjunto de datos en entrenamiento y test, ni normalizar los datos, se puede hacer uso del conjunto de datos generado en el enunciado.\n",
    "\n",
    "Como el enunciado no especifica ningún parámetro, se mantienen todos los parámetros en su valores por defecto excepto random_state cuyo valor será el de la semilla generada y almacenada en la variable seed."
   ]
  },
  {
   "cell_type": "code",
   "execution_count": 10,
   "metadata": {},
   "outputs": [],
   "source": [
    "model_logr = LogisticRegression(random_state = seed)\n",
    "model_logr.fit(x_2, y_2)\n",
    "y_2_pred_logr = model_logr.predict(x_2)"
   ]
  },
  {
   "cell_type": "markdown",
   "metadata": {},
   "source": [
    "Generar el modelo de árbol de decisión. Como no hay necesidad de separar el conjunto de datos en entrenamiento y test, ni normalizar los datos, se puede hacer uso del conjunto de datos generado en el enunciado.\n",
    "\n",
    "Se mantienen todos parámetros en su valores por defecto, excepto max_depth que se especifica que ha de ser 3, y random_state cuyo valor será el de la semilla generada y almacenada en la variable seed."
   ]
  },
  {
   "cell_type": "code",
   "execution_count": 11,
   "metadata": {},
   "outputs": [],
   "source": [
    "model_tree = DecisionTreeClassifier(max_depth = 3, random_state = seed)\n",
    "model_tree.fit(x_2, y_2)\n",
    "y_2_pred_tree = model_tree.predict(x_2)"
   ]
  },
  {
   "cell_type": "markdown",
   "metadata": {},
   "source": [
    "Generar el modelo random forest. Como no hay necesidad de separar el conjunto de datos en entrenamiento y test, ni normalizar los datos, se puede hacer uso del conjunto de datos generado en el enunciado.\n",
    "\n",
    "Se mantienen todos parámetros en su valores por defecto, excepto max_depth que se especifica que ha de ser 3, y random_state cuyo valor será el de la semilla generada y almacenada en la variable seed."
   ]
  },
  {
   "cell_type": "code",
   "execution_count": 12,
   "metadata": {},
   "outputs": [],
   "source": [
    "model_rf = RandomForestClassifier(max_depth = 3, random_state = seed)\n",
    "model_rf.fit(x_2, y_2)\n",
    "y_2_pred_rf = model_rf.predict(x_2)"
   ]
  },
  {
   "cell_type": "markdown",
   "metadata": {},
   "source": [
    "Se generan las métricas para los 3 modelos y se presentan en forma de dataframe."
   ]
  },
  {
   "cell_type": "code",
   "execution_count": 13,
   "metadata": {},
   "outputs": [
    {
     "data": {
      "text/html": [
       "<div>\n",
       "<style scoped>\n",
       "    .dataframe tbody tr th:only-of-type {\n",
       "        vertical-align: middle;\n",
       "    }\n",
       "\n",
       "    .dataframe tbody tr th {\n",
       "        vertical-align: top;\n",
       "    }\n",
       "\n",
       "    .dataframe thead th {\n",
       "        text-align: right;\n",
       "    }\n",
       "</style>\n",
       "<table border=\"1\" class=\"dataframe\">\n",
       "  <thead>\n",
       "    <tr style=\"text-align: right;\">\n",
       "      <th></th>\n",
       "      <th>Logistic Regression</th>\n",
       "      <th>Decision Tree</th>\n",
       "      <th>Random Forest</th>\n",
       "    </tr>\n",
       "  </thead>\n",
       "  <tbody>\n",
       "    <tr>\n",
       "      <th>Precisión</th>\n",
       "      <td>0.94</td>\n",
       "      <td>0.915888</td>\n",
       "      <td>0.970297</td>\n",
       "    </tr>\n",
       "    <tr>\n",
       "      <th>Exactitud</th>\n",
       "      <td>0.95</td>\n",
       "      <td>0.925234</td>\n",
       "      <td>0.980198</td>\n",
       "    </tr>\n",
       "    <tr>\n",
       "      <th>Exhaustividad</th>\n",
       "      <td>0.95</td>\n",
       "      <td>0.909910</td>\n",
       "      <td>1.000000</td>\n",
       "    </tr>\n",
       "  </tbody>\n",
       "</table>\n",
       "</div>"
      ],
      "text/plain": [
       "               Logistic Regression  Decision Tree  Random Forest\n",
       "Precisión                     0.94       0.915888       0.970297\n",
       "Exactitud                     0.95       0.925234       0.980198\n",
       "Exhaustividad                 0.95       0.909910       1.000000"
      ]
     },
     "execution_count": 13,
     "metadata": {},
     "output_type": "execute_result"
    }
   ],
   "source": [
    "columns = ['Logistic Regression', 'Decision Tree', 'Random Forest']\n",
    "rows = ['Precisión', 'Exactitud', 'Exhaustividad']\n",
    "\n",
    "array_metrics = np.array([[accuracy_score(y_2,y_2_pred_logr), precision_score(y_2,y_2_pred_logr), \n",
    "                          recall_score(y_2,y_2_pred_logr)], \n",
    "                         [accuracy_score(y_2,y_2_pred_tree), precision_score(y_2,y_2_pred_tree), \n",
    "                          recall_score(y_2,y_2_pred_tree)],\n",
    "                         [accuracy_score(y_2,y_2_pred_rf), precision_score(y_2,y_2_pred_rf), \n",
    "                          recall_score(y_2,y_2_pred_rf)]])\n",
    "\n",
    "df_metrics = pd.DataFrame(data=array_metrics, index=rows, columns=columns)\n",
    "df_metrics"
   ]
  },
  {
   "cell_type": "markdown",
   "metadata": {},
   "source": [
    "En la tabla anterior se puede encontrar la solución a las 3 primeras preguntas expuestas en el enunciado de forma que el modelo Random Forest es el que tiene un valor superior en las 3 métricas y el Decision Tree el que peor valor tiene.\n",
    "\n",
    "Para contestar a la última pregunta, se puede comprobar la importancia de las características en el modelo de dos formas, siendo la primera la utilización del atributo feature importance que mide el efecto de cada característica en el modelo, tal que las que tengan un valor igual a 0 será porque han sido desechadas. Otra forma sería pintar el árbol para comprobar qué características se han usado. Se van a comprobar ambas formas comenzando por el árbol de decisión."
   ]
  },
  {
   "cell_type": "code",
   "execution_count": 14,
   "metadata": {},
   "outputs": [
    {
     "data": {
      "text/plain": [
       "array([0.        , 0.96799097, 0.        , 0.        , 0.03200903])"
      ]
     },
     "execution_count": 14,
     "metadata": {},
     "output_type": "execute_result"
    }
   ],
   "source": [
    "# Se comprueban las características\n",
    "model_tree.feature_importances_"
   ]
  },
  {
   "cell_type": "code",
   "execution_count": 15,
   "metadata": {},
   "outputs": [
    {
     "data": {
      "image/png": "[encoded data removed]",
      "text/plain": [
       "<IPython.core.display.Image object>"
      ]
     },
     "execution_count": 15,
     "metadata": {},
     "output_type": "execute_result"
    }
   ],
   "source": [
    "# Se dibuja el árbol\n",
    "dot_data = StringIO()\n",
    "export_graphviz(\n",
    "    model_tree,\n",
    "    out_file = dot_data,\n",
    "    filled = True,\n",
    "    rounded = True,\n",
    "    special_characters = True\n",
    ")\n",
    "graph = pydotplus.graph_from_dot_data(dot_data.getvalue())  \n",
    "Image(graph.create_png())"
   ]
  },
  {
   "cell_type": "markdown",
   "metadata": {},
   "source": [
    "En ambos casos se puede comprobar que solo se hace uso de dos características que se corresponden con la segunda y quinta columna del conjunto de datos.\n",
    "\n",
    "Para el modelo random forest, como se crean multitud de árboles de decisión que luego se combinan, en concreto 100 que es el valor por defecto de este hiperparámetro, solo se va a dibujar uno de ellos, que será suficiente para contestar a la pregunta."
   ]
  },
  {
   "cell_type": "code",
   "execution_count": 16,
   "metadata": {},
   "outputs": [
    {
     "data": {
      "text/plain": [
       "array([0.01019972, 0.49193528, 0.24220153, 0.21395473, 0.04170874])"
      ]
     },
     "execution_count": 16,
     "metadata": {},
     "output_type": "execute_result"
    }
   ],
   "source": [
    "# Se comprueban las características\n",
    "model_rf.feature_importances_"
   ]
  },
  {
   "cell_type": "code",
   "execution_count": 17,
   "metadata": {},
   "outputs": [
    {
     "data": {
      "image/png": "[encoded data removed]",
      "text/plain": [
       "<IPython.core.display.Image object>"
      ]
     },
     "execution_count": 17,
     "metadata": {},
     "output_type": "execute_result"
    }
   ],
   "source": [
    "dot_data = StringIO()\n",
    "export_graphviz(\n",
    "    model_rf.estimators_[0],\n",
    "    out_file = dot_data,\n",
    "    filled = True,\n",
    "    rounded = True,\n",
    "    special_characters = True\n",
    ")\n",
    "graph = pydotplus.graph_from_dot_data(dot_data.getvalue())  \n",
    "Image(graph.create_png())"
   ]
  },
  {
   "cell_type": "markdown",
   "metadata": {},
   "source": [
    "Se comprueba tanto en la importancia de las características en el modelo como en el dibujo que se hace uso de las 5 columnas que componen el conjunto de datos x_2."
   ]
  },
  {
   "cell_type": "markdown",
   "metadata": {},
   "source": [
    "## 3. Ejercicio de clustering  (1 punto)\n",
    "Utilizar la función `make_blobs` para crear un conjunto de datos de doscientos registros, con siete grupos y nueve características. Seleccionar las tres primeras características del conjunto de datos, es decir, ejecutar el siguiente código."
   ]
  },
  {
   "cell_type": "code",
   "execution_count": 18,
   "metadata": {},
   "outputs": [],
   "source": [
    "from sklearn.datasets import make_blobs\n",
    "\n",
    "x_3, y_3 = make_blobs(n_samples=200, centers=7, n_features=9, random_state=seed)\n",
    "data = x_3[:, 0:3]"
   ]
  },
  {
   "cell_type": "code",
   "execution_count": 19,
   "metadata": {},
   "outputs": [
    {
     "data": {
      "text/plain": [
       "(200, 3)"
      ]
     },
     "execution_count": 19,
     "metadata": {},
     "output_type": "execute_result"
    }
   ],
   "source": [
    "data.shape"
   ]
  },
  {
   "cell_type": "markdown",
   "metadata": {},
   "source": [
    "El conjunto de datos en la variable `x` tiene 7 clústeres, pero no así el conjunto en la variable `data` ya que es una proyección en tres dimensiones de un conjunto de datos de nueve dimensiones.  Utilizando el método de la Silhouette obtener el número de clústeres de este conjunto de datos.\n",
    "\n",
    "Responder a las siguientes preguntas:\n",
    "1. ¿Cuál es el número de clústeres optimo en el que se pude dividir este subconjunto de datos?\n",
    "\n",
    "## Solución"
   ]
  },
  {
   "cell_type": "markdown",
   "metadata": {},
   "source": [
    "Importar las librerías necesarias"
   ]
  },
  {
   "cell_type": "code",
   "execution_count": 20,
   "metadata": {},
   "outputs": [],
   "source": [
    "from sklearn.metrics import silhouette_score\n",
    "from sklearn.cluster import KMeans\n",
    "import matplotlib.pyplot as plt"
   ]
  },
  {
   "cell_type": "markdown",
   "metadata": {},
   "source": [
    "Silhouette es una técnica que nos ayuda a calcular el número de clústers óptimo en el que se debe dividir un conjunto de datos. \n",
    "\n",
    "Para obtenerlo, se calcula el coeficiente de Silhouette que para una muestra se representa como \n",
    "\n",
    "$$ \\frac{b - a}{max(a,b)}$$\n",
    "\n",
    "Siendo:\n",
    "\n",
    "* a: media de la distancia intracluster.\n",
    "* b: representa la distancia entre la muestra y el cluster más cercano al que no pertenece.\n",
    "\n",
    "De esta forma la métrica silhouette_score devuelve la media de los coeficientes de todas las muestras siendo el mejor valor posible 1 y el peor -1."
   ]
  },
  {
   "cell_type": "code",
   "execution_count": 21,
   "metadata": {},
   "outputs": [
    {
     "data": {
      "image/png": "[encoded data removed]",
      "text/plain": [
       "<Figure size 432x288 with 1 Axes>"
      ]
     },
     "metadata": {
      "needs_background": "light"
     },
     "output_type": "display_data"
    }
   ],
   "source": [
    "sillhouette_avgs_3 = []\n",
    "\n",
    "for k in range(2, 10):\n",
    "    kmean_3 = KMeans(n_clusters = k, random_state=seed).fit(data)\n",
    "    sillhouette_avgs_3.append(silhouette_score(data, kmean_3.labels_))\n",
    "\n",
    "fig, ax = plt.subplots()\n",
    "ax.plot(range(2,10), sillhouette_avgs_3)\n",
    "ax.set_xlabel('Número de Clústers')\n",
    "ax.set_ylabel('Silhouette Coefficient')\n",
    "ax.grid()"
   ]
  },
  {
   "cell_type": "markdown",
   "metadata": {},
   "source": [
    "Como se ha comentado anteriormente, cuanto mayor sea el coeficiente mejor, por lo que en la gráfica anterior el número de clústers óptimo está representado por el punto máximo que hace un total de 7 clústers."
   ]
  },
  {
   "cell_type": "markdown",
   "metadata": {},
   "source": [
    "## 4. Ejercicio de componentes principales (1 punto)\n",
    "Crear mediante la función `make_regression` un conjunto de datos de cien muestras, y tres características. Esto es ejecutar el siguiente código"
   ]
  },
  {
   "cell_type": "code",
   "execution_count": 22,
   "metadata": {},
   "outputs": [],
   "source": [
    "from sklearn.datasets import make_regression\n",
    "\n",
    "x_4, y_4 = make_regression(n_samples=100, n_features=3, random_state=seed)"
   ]
  },
  {
   "cell_type": "markdown",
   "metadata": {},
   "source": [
    "Sin normalizar los datos, obtener las dos primeras componentes principales. A partir de las dos primeras componentes principales volver a obtener los datos originales.\n",
    "\n",
    "Responder a las siguientes preguntas:\n",
    "\n",
    "1. ¿Cuál es porcentaje de varianza que explica la primera, segunda y tercera componente?\n",
    "2. ¿Cuál es el error cuadrático medio que existe entre los valores originales y los recuperados?\n",
    "\n",
    "## Solución"
   ]
  },
  {
   "cell_type": "markdown",
   "metadata": {},
   "source": [
    "Importar librerías"
   ]
  },
  {
   "cell_type": "code",
   "execution_count": 23,
   "metadata": {},
   "outputs": [],
   "source": [
    "from sklearn.decomposition import PCA\n",
    "from sklearn.metrics import mean_squared_error\n",
    "import matplotlib.pyplot as plt"
   ]
  },
  {
   "cell_type": "markdown",
   "metadata": {},
   "source": [
    "A continuación se obtienen las dos primeras componenetes y se usa fit_transform para adaptar el modelo al conjunto de datos y aplicar la reducción de dimensión para posteriormente invertirla. Se imprime a modo de comprobación el tamaño de los 3 conjuntos de datos"
   ]
  },
  {
   "cell_type": "code",
   "execution_count": 24,
   "metadata": {},
   "outputs": [
    {
     "name": "stdout",
     "output_type": "stream",
     "text": [
      "(100, 3)\n",
      "(100, 2)\n",
      "(100, 3)\n"
     ]
    }
   ],
   "source": [
    "pca = PCA(n_components = 2)\n",
    "x_4_tr = pca.fit_transform(x_4)\n",
    "x_4_new = pca.inverse_transform(x_4_tr)\n",
    "\n",
    "print(x_4.shape)\n",
    "print(x_4_tr.shape)\n",
    "print(x_4_new.shape)"
   ]
  },
  {
   "cell_type": "markdown",
   "metadata": {},
   "source": [
    "También se genera el pca para 3 componentes"
   ]
  },
  {
   "cell_type": "code",
   "execution_count": 25,
   "metadata": {},
   "outputs": [],
   "source": [
    "pca3 = PCA(n_components = 3)\n",
    "x_4_tr3 = pca3.fit_transform(x_4)"
   ]
  },
  {
   "cell_type": "markdown",
   "metadata": {},
   "source": [
    "Para contestar a la primera pregunta se genera el ratio de varianza explicada para los dos componentes que se han creado en el modelo, redondeando a tres decimales. \n",
    "\n",
    "El ratio de la tercera componente se puede obtener del modelo de 3 componentes, ya que las dos primeras son idénticas para ambos modelos. También se expone mediante un gráfico la variación del porcentaje de varianza explicada según se incrementa el número de componentes."
   ]
  },
  {
   "cell_type": "code",
   "execution_count": 26,
   "metadata": {},
   "outputs": [
    {
     "name": "stdout",
     "output_type": "stream",
     "text": [
      "La primera componente explica el 41.441% de la varianza, la segunda explica el 34.819% y la tercera explica el 23.74%\n"
     ]
    },
    {
     "data": {
      "image/png": "[encoded data removed]",
      "text/plain": [
       "<Figure size 432x288 with 1 Axes>"
      ]
     },
     "metadata": {
      "needs_background": "light"
     },
     "output_type": "display_data"
    }
   ],
   "source": [
    "ratio1 = round(pca.explained_variance_ratio_[0]*100,3)\n",
    "ratio2 = round(pca.explained_variance_ratio_[1]*100,3)\n",
    "ratio3 = round(pca3.explained_variance_ratio_[2]*100,3)\n",
    "\n",
    "print(\"\"\"La primera componente explica el {}% de la varianza, la segunda explica el {}% y la tercera explica el {}%\"\"\"\n",
    "      .format(ratio1, ratio2, ratio3))\n",
    "\n",
    "fig, ax = plt.subplots()\n",
    "ax.plot(['Primera', 'Segunda', 'Tercera'], [ratio1, ratio1 + ratio2, ratio1 + ratio2 + ratio3] )\n",
    "ax.set_xlabel('Componentes')\n",
    "ax.set_ylabel('Porcentaje de varianza')\n",
    "ax.set_title('PCA')\n",
    "ax.set_yticks([0,1], minor = True)\n",
    "ax.grid()"
   ]
  },
  {
   "cell_type": "markdown",
   "metadata": {},
   "source": [
    "Se puede observar como la suma de los porcentajes de varianza explicada redondeados a 3 decimales es igual al 100%.\n",
    "\n",
    "Para contestar la segunda pregunta se hace uso de la función mean_squared_error que permite calcular el error cuadrático medio que existe entre los datos originales y los recuperados."
   ]
  },
  {
   "cell_type": "code",
   "execution_count": 27,
   "metadata": {},
   "outputs": [
    {
     "name": "stdout",
     "output_type": "stream",
     "text": [
      "El error cuadrático medio es: 0.23810001217638652.\n"
     ]
    }
   ],
   "source": [
    "print('El error cuadrático medio es: {}.'.format(mean_squared_error(x_4, x_4_new)))"
   ]
  },
  {
   "cell_type": "markdown",
   "metadata": {},
   "source": [
    "## 5. Solicitudes de acceso a la Universidad (1 punto)\n",
    "En la hoja “College_Data” hay datos de solicitudes de acceso a diferentes universidades. Los datos de cada columna son:\n",
    "\n",
    "* University: nombre de la universidad\n",
    "* Private: indican universidad privada o pública\n",
    "* Apps: número de aplicaciones recibidas\n",
    "* Accept: número de solicitudes aceptadas\n",
    "* Enroll: número de nuevos estudiantes matriculados\n",
    "* Top10perc: porcentaje de nuevos estudiantes del 10% superior de clase\n",
    "* Top25perc: porcentaje nuevos estudiantes del 25% superior de H.S. clase\n",
    "* F.Undergrad: número de estudiantes a tiempo completo\n",
    "* P.Undergrad: número de estudiantes universitarios a tiempo parcial\n",
    "* Outstate: fuera del estado\n",
    "* Room.Board: coste de habitación y comida\n",
    "* Books: costos estimados de libros\n",
    "* Personal: gastos personales estimados\n",
    "* PhD: porcentaje de la facultad con doctorado\n",
    "* Terminal: porcentaje de facultad con título terminal\n",
    "* S.F.Ratio: Relación estudiante / facultad\n",
    "* perc.alumni: porcentaje de exalumnos que donan\n",
    "* Expend: gastos de la instrucción por alumno\n",
    "* Grad.Rate: tasa de graduación\n",
    "\n",
    "Importar los datos, normalizarlo utilizando la normalización estándar y estimar mediante el método de Silhouette el número óptimo de clústeres para este conjunto de datos. Para el número optimo de clústeres obtener la posición de los centroides.\n",
    "\n",
    "Responder a las siguientes preguntas:\n",
    "1. ¿Cuál es el número óptimo de clústeres en base a Silhouette?\n",
    "2. ¿Cuál es el coste de la habitación y comida estimado en cada uno de los clústeres?\n",
    "\n",
    "## Solución\n",
    "Lo primero es cargar los datos en Python."
   ]
  },
  {
   "cell_type": "code",
   "execution_count": 28,
   "metadata": {},
   "outputs": [],
   "source": [
    "import pandas as pd\n",
    "df_5 = pd.read_excel('P1_PEC.xlsx', 'College_Data')"
   ]
  },
  {
   "cell_type": "markdown",
   "metadata": {},
   "source": [
    "Importar librerías necesarias."
   ]
  },
  {
   "cell_type": "code",
   "execution_count": 29,
   "metadata": {},
   "outputs": [],
   "source": [
    "from sklearn.preprocessing import StandardScaler\n",
    "from sklearn.cluster import KMeans\n",
    "import numpy as np"
   ]
  },
  {
   "cell_type": "markdown",
   "metadata": {},
   "source": [
    "Comprobar la forma de los datos."
   ]
  },
  {
   "cell_type": "code",
   "execution_count": 30,
   "metadata": {},
   "outputs": [
    {
     "data": {
      "text/html": [
       "<div>\n",
       "<style scoped>\n",
       "    .dataframe tbody tr th:only-of-type {\n",
       "        vertical-align: middle;\n",
       "    }\n",
       "\n",
       "    .dataframe tbody tr th {\n",
       "        vertical-align: top;\n",
       "    }\n",
       "\n",
       "    .dataframe thead th {\n",
       "        text-align: right;\n",
       "    }\n",
       "</style>\n",
       "<table border=\"1\" class=\"dataframe\">\n",
       "  <thead>\n",
       "    <tr style=\"text-align: right;\">\n",
       "      <th></th>\n",
       "      <th>University</th>\n",
       "      <th>Private</th>\n",
       "      <th>Apps</th>\n",
       "      <th>Accept</th>\n",
       "      <th>Enroll</th>\n",
       "      <th>Top10perc</th>\n",
       "      <th>Top25perc</th>\n",
       "      <th>F.Undergrad</th>\n",
       "      <th>P.Undergrad</th>\n",
       "      <th>Outstate</th>\n",
       "      <th>Room.Board</th>\n",
       "      <th>Books</th>\n",
       "      <th>Personal</th>\n",
       "      <th>PhD</th>\n",
       "      <th>Terminal</th>\n",
       "      <th>S.F.Ratio</th>\n",
       "      <th>perc.alumni</th>\n",
       "      <th>Expend</th>\n",
       "      <th>Grad.Rate</th>\n",
       "    </tr>\n",
       "  </thead>\n",
       "  <tbody>\n",
       "    <tr>\n",
       "      <th>0</th>\n",
       "      <td>Abilene Christian University</td>\n",
       "      <td>Yes</td>\n",
       "      <td>1660</td>\n",
       "      <td>1232</td>\n",
       "      <td>721</td>\n",
       "      <td>23</td>\n",
       "      <td>52</td>\n",
       "      <td>2885</td>\n",
       "      <td>537</td>\n",
       "      <td>7440</td>\n",
       "      <td>3300</td>\n",
       "      <td>450</td>\n",
       "      <td>2200</td>\n",
       "      <td>70</td>\n",
       "      <td>78</td>\n",
       "      <td>18.1</td>\n",
       "      <td>12</td>\n",
       "      <td>7041</td>\n",
       "      <td>60</td>\n",
       "    </tr>\n",
       "    <tr>\n",
       "      <th>1</th>\n",
       "      <td>Adelphi University</td>\n",
       "      <td>Yes</td>\n",
       "      <td>2186</td>\n",
       "      <td>1924</td>\n",
       "      <td>512</td>\n",
       "      <td>16</td>\n",
       "      <td>29</td>\n",
       "      <td>2683</td>\n",
       "      <td>1227</td>\n",
       "      <td>12280</td>\n",
       "      <td>6450</td>\n",
       "      <td>750</td>\n",
       "      <td>1500</td>\n",
       "      <td>29</td>\n",
       "      <td>30</td>\n",
       "      <td>12.2</td>\n",
       "      <td>16</td>\n",
       "      <td>10527</td>\n",
       "      <td>56</td>\n",
       "    </tr>\n",
       "    <tr>\n",
       "      <th>2</th>\n",
       "      <td>Adrian College</td>\n",
       "      <td>Yes</td>\n",
       "      <td>1428</td>\n",
       "      <td>1097</td>\n",
       "      <td>336</td>\n",
       "      <td>22</td>\n",
       "      <td>50</td>\n",
       "      <td>1036</td>\n",
       "      <td>99</td>\n",
       "      <td>11250</td>\n",
       "      <td>3750</td>\n",
       "      <td>400</td>\n",
       "      <td>1165</td>\n",
       "      <td>53</td>\n",
       "      <td>66</td>\n",
       "      <td>12.9</td>\n",
       "      <td>30</td>\n",
       "      <td>8735</td>\n",
       "      <td>54</td>\n",
       "    </tr>\n",
       "    <tr>\n",
       "      <th>3</th>\n",
       "      <td>Agnes Scott College</td>\n",
       "      <td>Yes</td>\n",
       "      <td>417</td>\n",
       "      <td>349</td>\n",
       "      <td>137</td>\n",
       "      <td>60</td>\n",
       "      <td>89</td>\n",
       "      <td>510</td>\n",
       "      <td>63</td>\n",
       "      <td>12960</td>\n",
       "      <td>5450</td>\n",
       "      <td>450</td>\n",
       "      <td>875</td>\n",
       "      <td>92</td>\n",
       "      <td>97</td>\n",
       "      <td>7.7</td>\n",
       "      <td>37</td>\n",
       "      <td>19016</td>\n",
       "      <td>59</td>\n",
       "    </tr>\n",
       "    <tr>\n",
       "      <th>4</th>\n",
       "      <td>Alaska Pacific University</td>\n",
       "      <td>Yes</td>\n",
       "      <td>193</td>\n",
       "      <td>146</td>\n",
       "      <td>55</td>\n",
       "      <td>16</td>\n",
       "      <td>44</td>\n",
       "      <td>249</td>\n",
       "      <td>869</td>\n",
       "      <td>7560</td>\n",
       "      <td>4120</td>\n",
       "      <td>800</td>\n",
       "      <td>1500</td>\n",
       "      <td>76</td>\n",
       "      <td>72</td>\n",
       "      <td>11.9</td>\n",
       "      <td>2</td>\n",
       "      <td>10922</td>\n",
       "      <td>15</td>\n",
       "    </tr>\n",
       "  </tbody>\n",
       "</table>\n",
       "</div>"
      ],
      "text/plain": [
       "                     University Private  Apps  Accept  Enroll  Top10perc  \\\n",
       "0  Abilene Christian University     Yes  1660    1232     721         23   \n",
       "1            Adelphi University     Yes  2186    1924     512         16   \n",
       "2                Adrian College     Yes  1428    1097     336         22   \n",
       "3           Agnes Scott College     Yes   417     349     137         60   \n",
       "4     Alaska Pacific University     Yes   193     146      55         16   \n",
       "\n",
       "   Top25perc  F.Undergrad  P.Undergrad  Outstate  Room.Board  Books  Personal  \\\n",
       "0         52         2885          537      7440        3300    450      2200   \n",
       "1         29         2683         1227     12280        6450    750      1500   \n",
       "2         50         1036           99     11250        3750    400      1165   \n",
       "3         89          510           63     12960        5450    450       875   \n",
       "4         44          249          869      7560        4120    800      1500   \n",
       "\n",
       "   PhD  Terminal  S.F.Ratio  perc.alumni  Expend  Grad.Rate  \n",
       "0   70        78       18.1           12    7041         60  \n",
       "1   29        30       12.2           16   10527         56  \n",
       "2   53        66       12.9           30    8735         54  \n",
       "3   92        97        7.7           37   19016         59  \n",
       "4   76        72       11.9            2   10922         15  "
      ]
     },
     "execution_count": 30,
     "metadata": {},
     "output_type": "execute_result"
    }
   ],
   "source": [
    "# Observar el contenido\n",
    "df_5.head(5)"
   ]
  },
  {
   "cell_type": "code",
   "execution_count": 31,
   "metadata": {},
   "outputs": [
    {
     "name": "stdout",
     "output_type": "stream",
     "text": [
      "(777, 19)\n",
      "777\n"
     ]
    }
   ],
   "source": [
    "# Comprobar el tamaño\n",
    "print(df_5.shape)\n",
    "print(len(df_5.University.unique()))"
   ]
  },
  {
   "cell_type": "code",
   "execution_count": 32,
   "metadata": {},
   "outputs": [],
   "source": [
    "# Modificar columna university como índice de fila\n",
    "df_5.set_index('University', inplace = True)"
   ]
  },
  {
   "cell_type": "markdown",
   "metadata": {},
   "source": [
    "Como la variable Private es categórica binaria, y para el cálculo del número óptimo de clusters mediante el método Silhouette es necesario generar el algoritmo K-means, que no trabaja con variables categóricas, se decide eliminar dicha variable."
   ]
  },
  {
   "cell_type": "code",
   "execution_count": 33,
   "metadata": {},
   "outputs": [],
   "source": [
    "df_5.drop('Private', axis = 1, inplace = True)"
   ]
  },
  {
   "cell_type": "code",
   "execution_count": 34,
   "metadata": {},
   "outputs": [
    {
     "name": "stdout",
     "output_type": "stream",
     "text": [
      "Apps           0\n",
      "Accept         0\n",
      "Enroll         0\n",
      "Top10perc      0\n",
      "Top25perc      0\n",
      "F.Undergrad    0\n",
      "P.Undergrad    0\n",
      "Outstate       0\n",
      "Room.Board     0\n",
      "Books          0\n",
      "Personal       0\n",
      "PhD            0\n",
      "Terminal       0\n",
      "S.F.Ratio      0\n",
      "perc.alumni    0\n",
      "Expend         0\n",
      "Grad.Rate      0\n",
      "dtype: int64\n"
     ]
    }
   ],
   "source": [
    "# Comprobar que no hay valores nulos\n",
    "print(df_5.isna().sum())"
   ]
  },
  {
   "cell_type": "code",
   "execution_count": 35,
   "metadata": {},
   "outputs": [
    {
     "name": "stdout",
     "output_type": "stream",
     "text": [
      "<class 'pandas.core.frame.DataFrame'>\n",
      "Index: 777 entries, Abilene Christian University to York College of Pennsylvania\n",
      "Data columns (total 17 columns):\n",
      " #   Column       Non-Null Count  Dtype  \n",
      "---  ------       --------------  -----  \n",
      " 0   Apps         777 non-null    int64  \n",
      " 1   Accept       777 non-null    int64  \n",
      " 2   Enroll       777 non-null    int64  \n",
      " 3   Top10perc    777 non-null    int64  \n",
      " 4   Top25perc    777 non-null    int64  \n",
      " 5   F.Undergrad  777 non-null    int64  \n",
      " 6   P.Undergrad  777 non-null    int64  \n",
      " 7   Outstate     777 non-null    int64  \n",
      " 8   Room.Board   777 non-null    int64  \n",
      " 9   Books        777 non-null    int64  \n",
      " 10  Personal     777 non-null    int64  \n",
      " 11  PhD          777 non-null    int64  \n",
      " 12  Terminal     777 non-null    int64  \n",
      " 13  S.F.Ratio    777 non-null    float64\n",
      " 14  perc.alumni  777 non-null    int64  \n",
      " 15  Expend       777 non-null    int64  \n",
      " 16  Grad.Rate    777 non-null    int64  \n",
      "dtypes: float64(1), int64(16)\n",
      "memory usage: 109.3+ KB\n"
     ]
    }
   ],
   "source": [
    "# Comprobar el tipo de las variables\n",
    "df_5.info()"
   ]
  },
  {
   "cell_type": "code",
   "execution_count": 36,
   "metadata": {},
   "outputs": [
    {
     "data": {
      "text/html": [
       "<div>\n",
       "<style scoped>\n",
       "    .dataframe tbody tr th:only-of-type {\n",
       "        vertical-align: middle;\n",
       "    }\n",
       "\n",
       "    .dataframe tbody tr th {\n",
       "        vertical-align: top;\n",
       "    }\n",
       "\n",
       "    .dataframe thead th {\n",
       "        text-align: right;\n",
       "    }\n",
       "</style>\n",
       "<table border=\"1\" class=\"dataframe\">\n",
       "  <thead>\n",
       "    <tr style=\"text-align: right;\">\n",
       "      <th></th>\n",
       "      <th>Apps</th>\n",
       "      <th>Accept</th>\n",
       "      <th>Enroll</th>\n",
       "      <th>Top10perc</th>\n",
       "      <th>Top25perc</th>\n",
       "      <th>F.Undergrad</th>\n",
       "      <th>P.Undergrad</th>\n",
       "      <th>Outstate</th>\n",
       "      <th>Room.Board</th>\n",
       "      <th>Books</th>\n",
       "      <th>Personal</th>\n",
       "      <th>PhD</th>\n",
       "      <th>Terminal</th>\n",
       "      <th>S.F.Ratio</th>\n",
       "      <th>perc.alumni</th>\n",
       "      <th>Expend</th>\n",
       "      <th>Grad.Rate</th>\n",
       "    </tr>\n",
       "    <tr>\n",
       "      <th>University</th>\n",
       "      <th></th>\n",
       "      <th></th>\n",
       "      <th></th>\n",
       "      <th></th>\n",
       "      <th></th>\n",
       "      <th></th>\n",
       "      <th></th>\n",
       "      <th></th>\n",
       "      <th></th>\n",
       "      <th></th>\n",
       "      <th></th>\n",
       "      <th></th>\n",
       "      <th></th>\n",
       "      <th></th>\n",
       "      <th></th>\n",
       "      <th></th>\n",
       "      <th></th>\n",
       "    </tr>\n",
       "  </thead>\n",
       "  <tbody>\n",
       "    <tr>\n",
       "      <th>Abilene Christian University</th>\n",
       "      <td>1660</td>\n",
       "      <td>1232</td>\n",
       "      <td>721</td>\n",
       "      <td>23</td>\n",
       "      <td>52</td>\n",
       "      <td>2885</td>\n",
       "      <td>537</td>\n",
       "      <td>7440</td>\n",
       "      <td>3300</td>\n",
       "      <td>450</td>\n",
       "      <td>2200</td>\n",
       "      <td>70</td>\n",
       "      <td>78</td>\n",
       "      <td>18.1</td>\n",
       "      <td>12</td>\n",
       "      <td>7041</td>\n",
       "      <td>60</td>\n",
       "    </tr>\n",
       "    <tr>\n",
       "      <th>Adelphi University</th>\n",
       "      <td>2186</td>\n",
       "      <td>1924</td>\n",
       "      <td>512</td>\n",
       "      <td>16</td>\n",
       "      <td>29</td>\n",
       "      <td>2683</td>\n",
       "      <td>1227</td>\n",
       "      <td>12280</td>\n",
       "      <td>6450</td>\n",
       "      <td>750</td>\n",
       "      <td>1500</td>\n",
       "      <td>29</td>\n",
       "      <td>30</td>\n",
       "      <td>12.2</td>\n",
       "      <td>16</td>\n",
       "      <td>10527</td>\n",
       "      <td>56</td>\n",
       "    </tr>\n",
       "    <tr>\n",
       "      <th>Adrian College</th>\n",
       "      <td>1428</td>\n",
       "      <td>1097</td>\n",
       "      <td>336</td>\n",
       "      <td>22</td>\n",
       "      <td>50</td>\n",
       "      <td>1036</td>\n",
       "      <td>99</td>\n",
       "      <td>11250</td>\n",
       "      <td>3750</td>\n",
       "      <td>400</td>\n",
       "      <td>1165</td>\n",
       "      <td>53</td>\n",
       "      <td>66</td>\n",
       "      <td>12.9</td>\n",
       "      <td>30</td>\n",
       "      <td>8735</td>\n",
       "      <td>54</td>\n",
       "    </tr>\n",
       "    <tr>\n",
       "      <th>Agnes Scott College</th>\n",
       "      <td>417</td>\n",
       "      <td>349</td>\n",
       "      <td>137</td>\n",
       "      <td>60</td>\n",
       "      <td>89</td>\n",
       "      <td>510</td>\n",
       "      <td>63</td>\n",
       "      <td>12960</td>\n",
       "      <td>5450</td>\n",
       "      <td>450</td>\n",
       "      <td>875</td>\n",
       "      <td>92</td>\n",
       "      <td>97</td>\n",
       "      <td>7.7</td>\n",
       "      <td>37</td>\n",
       "      <td>19016</td>\n",
       "      <td>59</td>\n",
       "    </tr>\n",
       "    <tr>\n",
       "      <th>Alaska Pacific University</th>\n",
       "      <td>193</td>\n",
       "      <td>146</td>\n",
       "      <td>55</td>\n",
       "      <td>16</td>\n",
       "      <td>44</td>\n",
       "      <td>249</td>\n",
       "      <td>869</td>\n",
       "      <td>7560</td>\n",
       "      <td>4120</td>\n",
       "      <td>800</td>\n",
       "      <td>1500</td>\n",
       "      <td>76</td>\n",
       "      <td>72</td>\n",
       "      <td>11.9</td>\n",
       "      <td>2</td>\n",
       "      <td>10922</td>\n",
       "      <td>15</td>\n",
       "    </tr>\n",
       "  </tbody>\n",
       "</table>\n",
       "</div>"
      ],
      "text/plain": [
       "                              Apps  Accept  Enroll  Top10perc  Top25perc  \\\n",
       "University                                                                 \n",
       "Abilene Christian University  1660    1232     721         23         52   \n",
       "Adelphi University            2186    1924     512         16         29   \n",
       "Adrian College                1428    1097     336         22         50   \n",
       "Agnes Scott College            417     349     137         60         89   \n",
       "Alaska Pacific University      193     146      55         16         44   \n",
       "\n",
       "                              F.Undergrad  P.Undergrad  Outstate  Room.Board  \\\n",
       "University                                                                     \n",
       "Abilene Christian University         2885          537      7440        3300   \n",
       "Adelphi University                   2683         1227     12280        6450   \n",
       "Adrian College                       1036           99     11250        3750   \n",
       "Agnes Scott College                   510           63     12960        5450   \n",
       "Alaska Pacific University             249          869      7560        4120   \n",
       "\n",
       "                              Books  Personal  PhD  Terminal  S.F.Ratio  \\\n",
       "University                                                                \n",
       "Abilene Christian University    450      2200   70        78       18.1   \n",
       "Adelphi University              750      1500   29        30       12.2   \n",
       "Adrian College                  400      1165   53        66       12.9   \n",
       "Agnes Scott College             450       875   92        97        7.7   \n",
       "Alaska Pacific University       800      1500   76        72       11.9   \n",
       "\n",
       "                              perc.alumni  Expend  Grad.Rate  \n",
       "University                                                    \n",
       "Abilene Christian University           12    7041         60  \n",
       "Adelphi University                     16   10527         56  \n",
       "Adrian College                         30    8735         54  \n",
       "Agnes Scott College                    37   19016         59  \n",
       "Alaska Pacific University               2   10922         15  "
      ]
     },
     "execution_count": 36,
     "metadata": {},
     "output_type": "execute_result"
    }
   ],
   "source": [
    "# Conjunto de datos final\n",
    "df_5.head(5)"
   ]
  },
  {
   "cell_type": "markdown",
   "metadata": {},
   "source": [
    "Normalizar los datos utilizando la normalización estándar, cuya fórmula es la siguiente:\n",
    "\n",
    "$$ x_{sd} = \\frac{X - \\mu}{\\sigma}  $$\n",
    "\n",
    "Para ello se hará uso de la función StandardScaler."
   ]
  },
  {
   "cell_type": "code",
   "execution_count": 37,
   "metadata": {},
   "outputs": [],
   "source": [
    "scaler = StandardScaler()\n",
    "df_5_scaled = scaler.fit_transform(np.array(df_5).astype(float))"
   ]
  },
  {
   "cell_type": "markdown",
   "metadata": {},
   "source": [
    "Obtener el número óptimo de clúster mediante el metodo silhouette que ya ha sido explicado en el ejercicio 3."
   ]
  },
  {
   "cell_type": "code",
   "execution_count": 38,
   "metadata": {},
   "outputs": [
    {
     "data": {
      "image/png": "[encoded data removed]",
      "text/plain": [
       "<Figure size 432x288 with 1 Axes>"
      ]
     },
     "metadata": {
      "needs_background": "light"
     },
     "output_type": "display_data"
    }
   ],
   "source": [
    "silhouette_avgs_5 = []\n",
    "\n",
    "for k in range(2, 15):\n",
    "    kmean_5 = KMeans(n_clusters = k, random_state=seed).fit(df_5_scaled)\n",
    "    silhouette_avgs_5.append(silhouette_score(df_5_scaled, kmean_5.labels_))\n",
    "\n",
    "fig, ax = plt.subplots()\n",
    "ax.plot(range(2,15), silhouette_avgs_5)\n",
    "ax.set_xlabel('Número de Clústers')\n",
    "ax.set_ylabel('Silhouette Coefficient')\n",
    "ax.grid()"
   ]
  },
  {
   "cell_type": "markdown",
   "metadata": {},
   "source": [
    "Se observa claramente que el número óptimo de cluster es 3.\n",
    "\n",
    "Para obtener los centroides, se genera el modelo con el número óptimo de clústers y se muestran a continuación."
   ]
  },
  {
   "cell_type": "code",
   "execution_count": 39,
   "metadata": {},
   "outputs": [],
   "source": [
    "model_kmeans_5 = KMeans(n_clusters=3, random_state=seed).fit(df_5_scaled)"
   ]
  },
  {
   "cell_type": "code",
   "execution_count": 40,
   "metadata": {},
   "outputs": [
    {
     "name": "stdout",
     "output_type": "stream",
     "text": [
      "El primer centroide es: [-0.37121158 -0.36101357 -0.33696673 -0.5295144  -0.55519495 -0.31185023\n",
      " -0.12785759 -0.47491443 -0.3670614  -0.10248925  0.03788793 -0.56081008\n",
      " -0.55751843  0.23271392 -0.33255606 -0.44007987 -0.354028  ]\n",
      "\n",
      "El segundo centroide es: [ 1.8406535   2.0087858   2.20390747  0.22998143  0.39926533  2.26775172\n",
      "  1.57976036 -0.53724098 -0.16966     0.3264646   0.81215031  0.69032634\n",
      "  0.67868889  0.5848428  -0.59493273 -0.05853333 -0.363977  ]\n",
      "\n",
      "El tercer centroide es: [-0.03491912 -0.11663877 -0.23321938  0.85584974  0.83757607 -0.30207524\n",
      " -0.36957759  1.04868266  0.71768809  0.05906132 -0.37449144  0.73753847\n",
      "  0.73607726 -0.6354434   0.8170256   0.80568529  0.76794361]\n"
     ]
    }
   ],
   "source": [
    "centroides = model_kmeans_5.cluster_centers_\n",
    "print('El primer centroide es: {}\\n'.format(centroides[0]))\n",
    "print('El segundo centroide es: {}\\n'.format(centroides[1]))\n",
    "print('El tercer centroide es: {}'.format(centroides[2]))"
   ]
  },
  {
   "cell_type": "markdown",
   "metadata": {},
   "source": [
    "Para obtener el coste de comida y habitación estimado en cada uno de los clusters, es necesario separar el conjunto de datos según el clúster al que pertenezca, y realizar la media de la característica Room.Board"
   ]
  },
  {
   "cell_type": "code",
   "execution_count": 41,
   "metadata": {},
   "outputs": [],
   "source": [
    "df_5['clusters'] = model_kmeans_5.labels_"
   ]
  },
  {
   "cell_type": "code",
   "execution_count": 42,
   "metadata": {},
   "outputs": [
    {
     "name": "stdout",
     "output_type": "stream",
     "text": [
      "El coste medio de comida y habitación en el cluster 0 es: 3955.23\n",
      "El coste medio de comida y habitación en el cluster 1 es: 4171.58\n",
      "El coste medio de comida y habitación en el cluster 2 es: 5144.11\n"
     ]
    }
   ],
   "source": [
    "mean_room_board_cluster0 = round(df_5[df_5['clusters']==0]['Room.Board'].mean(),2)\n",
    "mean_room_board_cluster1 = round(df_5[df_5['clusters']==1]['Room.Board'].mean(),2)\n",
    "mean_room_board_cluster2 = round(df_5[df_5['clusters']==2]['Room.Board'].mean(),2)\n",
    "\n",
    "\n",
    "print('El coste medio de comida y habitación en el cluster 0 es: {}'.format(mean_room_board_cluster0))\n",
    "print('El coste medio de comida y habitación en el cluster 1 es: {}'.format(mean_room_board_cluster1))\n",
    "print('El coste medio de comida y habitación en el cluster 2 es: {}'.format(mean_room_board_cluster2))"
   ]
  },
  {
   "cell_type": "markdown",
   "metadata": {},
   "source": [
    "## 6. Ionosfera (2 puntos)\n",
    "En la hoja “Ionosphere” hay datos de la ionosfera. Las 34 primeras columnas son valores numéricos y la última es una etiqueta de texto con ‘g’ cuando el resultado es bueno y ‘b’ cuando es malo. Importar los datos y obtener el mejor de los siguientes modelos:\n",
    "\n",
    "* regresión logística\n",
    "* máquinas de vector soporte con kernel: linear, poly, rbf o sigmoid\n",
    "* k-nn con entre 1 y 15 vecinos\n",
    "* Radius Neighbors con radio 10, 15, 20 y 25\n",
    "\n",
    "Para la creación de los modelos no es necesario normalizar los datos. Comprobar si existe multicolinealidad en el conjunto de datos y, en el caso de que sea así, eliminar las características redundantes.\n",
    "\n",
    "Los datos se han de dividir en un conjunto de entrenamiento que contenga el 65% de los datos y el resto para test.\n",
    "\n",
    "Responder a las siguientes preguntas:\n",
    "1.\t¿Cuál es el mejor modelo en cada una de las familias?\n",
    "2.\t¿Cual es el mejor modelo de todas las familias?\n",
    "\n",
    "## Solución\n",
    "Como siempre el primer paso es importar los datos y visualizarlos."
   ]
  },
  {
   "cell_type": "code",
   "execution_count": 43,
   "metadata": {},
   "outputs": [],
   "source": [
    "import pandas as pd\n",
    "pd.set_option('display.max_columns', 50)\n",
    "df_6 = pd.read_excel('P1_PEC.xlsx', 'Ionosphere')"
   ]
  },
  {
   "cell_type": "markdown",
   "metadata": {},
   "source": [
    "Importar librerías."
   ]
  },
  {
   "cell_type": "code",
   "execution_count": 44,
   "metadata": {},
   "outputs": [],
   "source": [
    "from sklearn.neighbors import RadiusNeighborsClassifier\n",
    "from sklearn.model_selection import train_test_split\n",
    "from sklearn.linear_model import LogisticRegression\n",
    "from sklearn.neighbors import KNeighborsClassifier\n",
    "from sklearn.linear_model import LinearRegression\n",
    "from sklearn.model_selection import GridSearchCV\n",
    "from sklearn.svm import SVC"
   ]
  },
  {
   "cell_type": "markdown",
   "metadata": {},
   "source": [
    "Tratamiento de datos."
   ]
  },
  {
   "cell_type": "code",
   "execution_count": 45,
   "metadata": {},
   "outputs": [
    {
     "data": {
      "text/html": [
       "<div>\n",
       "<style scoped>\n",
       "    .dataframe tbody tr th:only-of-type {\n",
       "        vertical-align: middle;\n",
       "    }\n",
       "\n",
       "    .dataframe tbody tr th {\n",
       "        vertical-align: top;\n",
       "    }\n",
       "\n",
       "    .dataframe thead th {\n",
       "        text-align: right;\n",
       "    }\n",
       "</style>\n",
       "<table border=\"1\" class=\"dataframe\">\n",
       "  <thead>\n",
       "    <tr style=\"text-align: right;\">\n",
       "      <th></th>\n",
       "      <th>0</th>\n",
       "      <th>1</th>\n",
       "      <th>2</th>\n",
       "      <th>3</th>\n",
       "      <th>4</th>\n",
       "      <th>5</th>\n",
       "      <th>6</th>\n",
       "      <th>7</th>\n",
       "      <th>8</th>\n",
       "      <th>9</th>\n",
       "      <th>10</th>\n",
       "      <th>11</th>\n",
       "      <th>12</th>\n",
       "      <th>13</th>\n",
       "      <th>14</th>\n",
       "      <th>15</th>\n",
       "      <th>16</th>\n",
       "      <th>17</th>\n",
       "      <th>18</th>\n",
       "      <th>19</th>\n",
       "      <th>20</th>\n",
       "      <th>21</th>\n",
       "      <th>22</th>\n",
       "      <th>23</th>\n",
       "      <th>24</th>\n",
       "      <th>25</th>\n",
       "      <th>26</th>\n",
       "      <th>27</th>\n",
       "      <th>28</th>\n",
       "      <th>29</th>\n",
       "      <th>30</th>\n",
       "      <th>31</th>\n",
       "      <th>32</th>\n",
       "      <th>33</th>\n",
       "      <th>34</th>\n",
       "    </tr>\n",
       "  </thead>\n",
       "  <tbody>\n",
       "    <tr>\n",
       "      <th>0</th>\n",
       "      <td>1</td>\n",
       "      <td>0</td>\n",
       "      <td>0.99539</td>\n",
       "      <td>-0.05889</td>\n",
       "      <td>0.85243</td>\n",
       "      <td>0.02306</td>\n",
       "      <td>0.83398</td>\n",
       "      <td>-0.37708</td>\n",
       "      <td>1.00000</td>\n",
       "      <td>0.03760</td>\n",
       "      <td>0.85243</td>\n",
       "      <td>-0.17755</td>\n",
       "      <td>0.59755</td>\n",
       "      <td>-0.44945</td>\n",
       "      <td>0.60536</td>\n",
       "      <td>-0.38223</td>\n",
       "      <td>0.84356</td>\n",
       "      <td>-0.38542</td>\n",
       "      <td>0.58212</td>\n",
       "      <td>-0.32192</td>\n",
       "      <td>0.56971</td>\n",
       "      <td>-0.29674</td>\n",
       "      <td>0.36946</td>\n",
       "      <td>-0.47357</td>\n",
       "      <td>0.56811</td>\n",
       "      <td>-0.51171</td>\n",
       "      <td>0.41078</td>\n",
       "      <td>-0.46168</td>\n",
       "      <td>0.21266</td>\n",
       "      <td>-0.34090</td>\n",
       "      <td>0.42267</td>\n",
       "      <td>-0.54487</td>\n",
       "      <td>0.18641</td>\n",
       "      <td>-0.45300</td>\n",
       "      <td>g</td>\n",
       "    </tr>\n",
       "    <tr>\n",
       "      <th>1</th>\n",
       "      <td>1</td>\n",
       "      <td>0</td>\n",
       "      <td>1.00000</td>\n",
       "      <td>-0.18829</td>\n",
       "      <td>0.93035</td>\n",
       "      <td>-0.36156</td>\n",
       "      <td>-0.10868</td>\n",
       "      <td>-0.93597</td>\n",
       "      <td>1.00000</td>\n",
       "      <td>-0.04549</td>\n",
       "      <td>0.50874</td>\n",
       "      <td>-0.67743</td>\n",
       "      <td>0.34432</td>\n",
       "      <td>-0.69707</td>\n",
       "      <td>-0.51685</td>\n",
       "      <td>-0.97515</td>\n",
       "      <td>0.05499</td>\n",
       "      <td>-0.62237</td>\n",
       "      <td>0.33109</td>\n",
       "      <td>-1.00000</td>\n",
       "      <td>-0.13151</td>\n",
       "      <td>-0.45300</td>\n",
       "      <td>-0.18056</td>\n",
       "      <td>-0.35734</td>\n",
       "      <td>-0.20332</td>\n",
       "      <td>-0.26569</td>\n",
       "      <td>-0.20468</td>\n",
       "      <td>-0.18401</td>\n",
       "      <td>-0.19040</td>\n",
       "      <td>-0.11593</td>\n",
       "      <td>-0.16626</td>\n",
       "      <td>-0.06288</td>\n",
       "      <td>-0.13738</td>\n",
       "      <td>-0.02447</td>\n",
       "      <td>b</td>\n",
       "    </tr>\n",
       "    <tr>\n",
       "      <th>2</th>\n",
       "      <td>1</td>\n",
       "      <td>0</td>\n",
       "      <td>1.00000</td>\n",
       "      <td>-0.03365</td>\n",
       "      <td>1.00000</td>\n",
       "      <td>0.00485</td>\n",
       "      <td>1.00000</td>\n",
       "      <td>-0.12062</td>\n",
       "      <td>0.88965</td>\n",
       "      <td>0.01198</td>\n",
       "      <td>0.73082</td>\n",
       "      <td>0.05346</td>\n",
       "      <td>0.85443</td>\n",
       "      <td>0.00827</td>\n",
       "      <td>0.54591</td>\n",
       "      <td>0.00299</td>\n",
       "      <td>0.83775</td>\n",
       "      <td>-0.13644</td>\n",
       "      <td>0.75535</td>\n",
       "      <td>-0.08540</td>\n",
       "      <td>0.70887</td>\n",
       "      <td>-0.27502</td>\n",
       "      <td>0.43385</td>\n",
       "      <td>-0.12062</td>\n",
       "      <td>0.57528</td>\n",
       "      <td>-0.40220</td>\n",
       "      <td>0.58984</td>\n",
       "      <td>-0.22145</td>\n",
       "      <td>0.43100</td>\n",
       "      <td>-0.17365</td>\n",
       "      <td>0.60436</td>\n",
       "      <td>-0.24180</td>\n",
       "      <td>0.56045</td>\n",
       "      <td>-0.38238</td>\n",
       "      <td>g</td>\n",
       "    </tr>\n",
       "    <tr>\n",
       "      <th>3</th>\n",
       "      <td>1</td>\n",
       "      <td>0</td>\n",
       "      <td>1.00000</td>\n",
       "      <td>-0.45161</td>\n",
       "      <td>1.00000</td>\n",
       "      <td>1.00000</td>\n",
       "      <td>0.71216</td>\n",
       "      <td>-1.00000</td>\n",
       "      <td>0.00000</td>\n",
       "      <td>0.00000</td>\n",
       "      <td>0.00000</td>\n",
       "      <td>0.00000</td>\n",
       "      <td>0.00000</td>\n",
       "      <td>0.00000</td>\n",
       "      <td>-1.00000</td>\n",
       "      <td>0.14516</td>\n",
       "      <td>0.54094</td>\n",
       "      <td>-0.39330</td>\n",
       "      <td>-1.00000</td>\n",
       "      <td>-0.54467</td>\n",
       "      <td>-0.69975</td>\n",
       "      <td>1.00000</td>\n",
       "      <td>0.00000</td>\n",
       "      <td>0.00000</td>\n",
       "      <td>1.00000</td>\n",
       "      <td>0.90695</td>\n",
       "      <td>0.51613</td>\n",
       "      <td>1.00000</td>\n",
       "      <td>1.00000</td>\n",
       "      <td>-0.20099</td>\n",
       "      <td>0.25682</td>\n",
       "      <td>1.00000</td>\n",
       "      <td>-0.32382</td>\n",
       "      <td>1.00000</td>\n",
       "      <td>b</td>\n",
       "    </tr>\n",
       "    <tr>\n",
       "      <th>4</th>\n",
       "      <td>1</td>\n",
       "      <td>0</td>\n",
       "      <td>1.00000</td>\n",
       "      <td>-0.02401</td>\n",
       "      <td>0.94140</td>\n",
       "      <td>0.06531</td>\n",
       "      <td>0.92106</td>\n",
       "      <td>-0.23255</td>\n",
       "      <td>0.77152</td>\n",
       "      <td>-0.16399</td>\n",
       "      <td>0.52798</td>\n",
       "      <td>-0.20275</td>\n",
       "      <td>0.56409</td>\n",
       "      <td>-0.00712</td>\n",
       "      <td>0.34395</td>\n",
       "      <td>-0.27457</td>\n",
       "      <td>0.52940</td>\n",
       "      <td>-0.21780</td>\n",
       "      <td>0.45107</td>\n",
       "      <td>-0.17813</td>\n",
       "      <td>0.05982</td>\n",
       "      <td>-0.35575</td>\n",
       "      <td>0.02309</td>\n",
       "      <td>-0.52879</td>\n",
       "      <td>0.03286</td>\n",
       "      <td>-0.65158</td>\n",
       "      <td>0.13290</td>\n",
       "      <td>-0.53206</td>\n",
       "      <td>0.02431</td>\n",
       "      <td>-0.62197</td>\n",
       "      <td>-0.05707</td>\n",
       "      <td>-0.59573</td>\n",
       "      <td>-0.04608</td>\n",
       "      <td>-0.65697</td>\n",
       "      <td>g</td>\n",
       "    </tr>\n",
       "  </tbody>\n",
       "</table>\n",
       "</div>"
      ],
      "text/plain": [
       "   0   1        2        3        4        5        6        7        8   \\\n",
       "0   1   0  0.99539 -0.05889  0.85243  0.02306  0.83398 -0.37708  1.00000   \n",
       "1   1   0  1.00000 -0.18829  0.93035 -0.36156 -0.10868 -0.93597  1.00000   \n",
       "2   1   0  1.00000 -0.03365  1.00000  0.00485  1.00000 -0.12062  0.88965   \n",
       "3   1   0  1.00000 -0.45161  1.00000  1.00000  0.71216 -1.00000  0.00000   \n",
       "4   1   0  1.00000 -0.02401  0.94140  0.06531  0.92106 -0.23255  0.77152   \n",
       "\n",
       "        9        10       11       12       13       14       15       16  \\\n",
       "0  0.03760  0.85243 -0.17755  0.59755 -0.44945  0.60536 -0.38223  0.84356   \n",
       "1 -0.04549  0.50874 -0.67743  0.34432 -0.69707 -0.51685 -0.97515  0.05499   \n",
       "2  0.01198  0.73082  0.05346  0.85443  0.00827  0.54591  0.00299  0.83775   \n",
       "3  0.00000  0.00000  0.00000  0.00000  0.00000 -1.00000  0.14516  0.54094   \n",
       "4 -0.16399  0.52798 -0.20275  0.56409 -0.00712  0.34395 -0.27457  0.52940   \n",
       "\n",
       "        17       18       19       20       21       22       23       24  \\\n",
       "0 -0.38542  0.58212 -0.32192  0.56971 -0.29674  0.36946 -0.47357  0.56811   \n",
       "1 -0.62237  0.33109 -1.00000 -0.13151 -0.45300 -0.18056 -0.35734 -0.20332   \n",
       "2 -0.13644  0.75535 -0.08540  0.70887 -0.27502  0.43385 -0.12062  0.57528   \n",
       "3 -0.39330 -1.00000 -0.54467 -0.69975  1.00000  0.00000  0.00000  1.00000   \n",
       "4 -0.21780  0.45107 -0.17813  0.05982 -0.35575  0.02309 -0.52879  0.03286   \n",
       "\n",
       "        25       26       27       28       29       30       31       32  \\\n",
       "0 -0.51171  0.41078 -0.46168  0.21266 -0.34090  0.42267 -0.54487  0.18641   \n",
       "1 -0.26569 -0.20468 -0.18401 -0.19040 -0.11593 -0.16626 -0.06288 -0.13738   \n",
       "2 -0.40220  0.58984 -0.22145  0.43100 -0.17365  0.60436 -0.24180  0.56045   \n",
       "3  0.90695  0.51613  1.00000  1.00000 -0.20099  0.25682  1.00000 -0.32382   \n",
       "4 -0.65158  0.13290 -0.53206  0.02431 -0.62197 -0.05707 -0.59573 -0.04608   \n",
       "\n",
       "        33 34  \n",
       "0 -0.45300  g  \n",
       "1 -0.02447  b  \n",
       "2 -0.38238  g  \n",
       "3  1.00000  b  \n",
       "4 -0.65697  g  "
      ]
     },
     "execution_count": 45,
     "metadata": {},
     "output_type": "execute_result"
    }
   ],
   "source": [
    "# Comprobar dataframe\n",
    "df_6.head(5)"
   ]
  },
  {
   "cell_type": "code",
   "execution_count": 46,
   "metadata": {},
   "outputs": [
    {
     "name": "stdout",
     "output_type": "stream",
     "text": [
      "<class 'pandas.core.frame.DataFrame'>\n",
      "RangeIndex: 351 entries, 0 to 350\n",
      "Data columns (total 35 columns):\n",
      " #   Column  Non-Null Count  Dtype  \n",
      "---  ------  --------------  -----  \n",
      " 0   0       351 non-null    int64  \n",
      " 1   1       351 non-null    int64  \n",
      " 2   2       351 non-null    float64\n",
      " 3   3       351 non-null    float64\n",
      " 4   4       351 non-null    float64\n",
      " 5   5       351 non-null    float64\n",
      " 6   6       351 non-null    float64\n",
      " 7   7       351 non-null    float64\n",
      " 8   8       351 non-null    float64\n",
      " 9   9       351 non-null    float64\n",
      " 10  10      351 non-null    float64\n",
      " 11  11      351 non-null    float64\n",
      " 12  12      351 non-null    float64\n",
      " 13  13      351 non-null    float64\n",
      " 14  14      351 non-null    float64\n",
      " 15  15      351 non-null    float64\n",
      " 16  16      351 non-null    float64\n",
      " 17  17      351 non-null    float64\n",
      " 18  18      351 non-null    float64\n",
      " 19  19      351 non-null    float64\n",
      " 20  20      351 non-null    float64\n",
      " 21  21      351 non-null    float64\n",
      " 22  22      351 non-null    float64\n",
      " 23  23      351 non-null    float64\n",
      " 24  24      351 non-null    float64\n",
      " 25  25      351 non-null    float64\n",
      " 26  26      351 non-null    float64\n",
      " 27  27      351 non-null    float64\n",
      " 28  28      351 non-null    float64\n",
      " 29  29      351 non-null    float64\n",
      " 30  30      351 non-null    float64\n",
      " 31  31      351 non-null    float64\n",
      " 32  32      351 non-null    float64\n",
      " 33  33      351 non-null    float64\n",
      " 34  34      351 non-null    object \n",
      "dtypes: float64(32), int64(2), object(1)\n",
      "memory usage: 96.1+ KB\n"
     ]
    }
   ],
   "source": [
    "# Comproabar tipo de las columnas\n",
    "df_6.info()"
   ]
  },
  {
   "cell_type": "code",
   "execution_count": 47,
   "metadata": {},
   "outputs": [],
   "source": [
    "# Modificar el tipo de dato de los nombres de las columnas\n",
    "df_6.columns = df_6.columns.astype(str)"
   ]
  },
  {
   "cell_type": "code",
   "execution_count": 48,
   "metadata": {},
   "outputs": [
    {
     "data": {
      "text/plain": [
       "(351, 35)"
      ]
     },
     "execution_count": 48,
     "metadata": {},
     "output_type": "execute_result"
    }
   ],
   "source": [
    "# Comprobar tamaño\n",
    "df_6.shape"
   ]
  },
  {
   "cell_type": "code",
   "execution_count": 49,
   "metadata": {},
   "outputs": [
    {
     "data": {
      "text/html": [
       "<div>\n",
       "<style scoped>\n",
       "    .dataframe tbody tr th:only-of-type {\n",
       "        vertical-align: middle;\n",
       "    }\n",
       "\n",
       "    .dataframe tbody tr th {\n",
       "        vertical-align: top;\n",
       "    }\n",
       "\n",
       "    .dataframe thead th {\n",
       "        text-align: right;\n",
       "    }\n",
       "</style>\n",
       "<table border=\"1\" class=\"dataframe\">\n",
       "  <thead>\n",
       "    <tr style=\"text-align: right;\">\n",
       "      <th></th>\n",
       "      <th>0</th>\n",
       "      <th>1</th>\n",
       "      <th>2</th>\n",
       "      <th>3</th>\n",
       "      <th>4</th>\n",
       "      <th>5</th>\n",
       "      <th>6</th>\n",
       "      <th>7</th>\n",
       "      <th>8</th>\n",
       "      <th>9</th>\n",
       "      <th>10</th>\n",
       "      <th>11</th>\n",
       "      <th>12</th>\n",
       "      <th>13</th>\n",
       "      <th>14</th>\n",
       "      <th>15</th>\n",
       "      <th>16</th>\n",
       "      <th>17</th>\n",
       "      <th>18</th>\n",
       "      <th>19</th>\n",
       "      <th>20</th>\n",
       "      <th>21</th>\n",
       "      <th>22</th>\n",
       "      <th>23</th>\n",
       "      <th>24</th>\n",
       "      <th>25</th>\n",
       "      <th>26</th>\n",
       "      <th>27</th>\n",
       "      <th>28</th>\n",
       "      <th>29</th>\n",
       "      <th>30</th>\n",
       "      <th>31</th>\n",
       "      <th>32</th>\n",
       "      <th>33</th>\n",
       "    </tr>\n",
       "  </thead>\n",
       "  <tbody>\n",
       "    <tr>\n",
       "      <th>count</th>\n",
       "      <td>351.000000</td>\n",
       "      <td>351.0</td>\n",
       "      <td>351.000000</td>\n",
       "      <td>351.000000</td>\n",
       "      <td>351.000000</td>\n",
       "      <td>351.000000</td>\n",
       "      <td>351.000000</td>\n",
       "      <td>351.000000</td>\n",
       "      <td>351.000000</td>\n",
       "      <td>351.000000</td>\n",
       "      <td>351.000000</td>\n",
       "      <td>351.000000</td>\n",
       "      <td>351.000000</td>\n",
       "      <td>351.000000</td>\n",
       "      <td>351.000000</td>\n",
       "      <td>351.000000</td>\n",
       "      <td>351.000000</td>\n",
       "      <td>351.000000</td>\n",
       "      <td>351.000000</td>\n",
       "      <td>351.000000</td>\n",
       "      <td>351.000000</td>\n",
       "      <td>351.000000</td>\n",
       "      <td>351.000000</td>\n",
       "      <td>351.000000</td>\n",
       "      <td>351.000000</td>\n",
       "      <td>351.000000</td>\n",
       "      <td>351.000000</td>\n",
       "      <td>351.000000</td>\n",
       "      <td>351.000000</td>\n",
       "      <td>351.000000</td>\n",
       "      <td>351.000000</td>\n",
       "      <td>351.000000</td>\n",
       "      <td>351.000000</td>\n",
       "      <td>351.000000</td>\n",
       "    </tr>\n",
       "    <tr>\n",
       "      <th>mean</th>\n",
       "      <td>0.891738</td>\n",
       "      <td>0.0</td>\n",
       "      <td>0.641342</td>\n",
       "      <td>0.044372</td>\n",
       "      <td>0.601068</td>\n",
       "      <td>0.115889</td>\n",
       "      <td>0.550095</td>\n",
       "      <td>0.119360</td>\n",
       "      <td>0.511848</td>\n",
       "      <td>0.181345</td>\n",
       "      <td>0.476183</td>\n",
       "      <td>0.155040</td>\n",
       "      <td>0.400801</td>\n",
       "      <td>0.093414</td>\n",
       "      <td>0.344159</td>\n",
       "      <td>0.071132</td>\n",
       "      <td>0.381949</td>\n",
       "      <td>-0.003617</td>\n",
       "      <td>0.359390</td>\n",
       "      <td>-0.024025</td>\n",
       "      <td>0.336695</td>\n",
       "      <td>0.008296</td>\n",
       "      <td>0.362475</td>\n",
       "      <td>-0.057406</td>\n",
       "      <td>0.396135</td>\n",
       "      <td>-0.071187</td>\n",
       "      <td>0.541641</td>\n",
       "      <td>-0.069538</td>\n",
       "      <td>0.378445</td>\n",
       "      <td>-0.027907</td>\n",
       "      <td>0.352514</td>\n",
       "      <td>-0.003794</td>\n",
       "      <td>0.349364</td>\n",
       "      <td>0.014480</td>\n",
       "    </tr>\n",
       "    <tr>\n",
       "      <th>std</th>\n",
       "      <td>0.311155</td>\n",
       "      <td>0.0</td>\n",
       "      <td>0.497708</td>\n",
       "      <td>0.441435</td>\n",
       "      <td>0.519862</td>\n",
       "      <td>0.460810</td>\n",
       "      <td>0.492654</td>\n",
       "      <td>0.520750</td>\n",
       "      <td>0.507066</td>\n",
       "      <td>0.483851</td>\n",
       "      <td>0.563496</td>\n",
       "      <td>0.494817</td>\n",
       "      <td>0.622186</td>\n",
       "      <td>0.494873</td>\n",
       "      <td>0.652828</td>\n",
       "      <td>0.458371</td>\n",
       "      <td>0.618020</td>\n",
       "      <td>0.496762</td>\n",
       "      <td>0.626267</td>\n",
       "      <td>0.519076</td>\n",
       "      <td>0.609828</td>\n",
       "      <td>0.518166</td>\n",
       "      <td>0.603767</td>\n",
       "      <td>0.527456</td>\n",
       "      <td>0.578451</td>\n",
       "      <td>0.508495</td>\n",
       "      <td>0.516205</td>\n",
       "      <td>0.550025</td>\n",
       "      <td>0.575886</td>\n",
       "      <td>0.507974</td>\n",
       "      <td>0.571483</td>\n",
       "      <td>0.513574</td>\n",
       "      <td>0.522663</td>\n",
       "      <td>0.468337</td>\n",
       "    </tr>\n",
       "    <tr>\n",
       "      <th>min</th>\n",
       "      <td>0.000000</td>\n",
       "      <td>0.0</td>\n",
       "      <td>-1.000000</td>\n",
       "      <td>-1.000000</td>\n",
       "      <td>-1.000000</td>\n",
       "      <td>-1.000000</td>\n",
       "      <td>-1.000000</td>\n",
       "      <td>-1.000000</td>\n",
       "      <td>-1.000000</td>\n",
       "      <td>-1.000000</td>\n",
       "      <td>-1.000000</td>\n",
       "      <td>-1.000000</td>\n",
       "      <td>-1.000000</td>\n",
       "      <td>-1.000000</td>\n",
       "      <td>-1.000000</td>\n",
       "      <td>-1.000000</td>\n",
       "      <td>-1.000000</td>\n",
       "      <td>-1.000000</td>\n",
       "      <td>-1.000000</td>\n",
       "      <td>-1.000000</td>\n",
       "      <td>-1.000000</td>\n",
       "      <td>-1.000000</td>\n",
       "      <td>-1.000000</td>\n",
       "      <td>-1.000000</td>\n",
       "      <td>-1.000000</td>\n",
       "      <td>-1.000000</td>\n",
       "      <td>-1.000000</td>\n",
       "      <td>-1.000000</td>\n",
       "      <td>-1.000000</td>\n",
       "      <td>-1.000000</td>\n",
       "      <td>-1.000000</td>\n",
       "      <td>-1.000000</td>\n",
       "      <td>-1.000000</td>\n",
       "      <td>-1.000000</td>\n",
       "    </tr>\n",
       "    <tr>\n",
       "      <th>25%</th>\n",
       "      <td>1.000000</td>\n",
       "      <td>0.0</td>\n",
       "      <td>0.472135</td>\n",
       "      <td>-0.064735</td>\n",
       "      <td>0.412660</td>\n",
       "      <td>-0.024795</td>\n",
       "      <td>0.211310</td>\n",
       "      <td>-0.054840</td>\n",
       "      <td>0.087110</td>\n",
       "      <td>-0.048075</td>\n",
       "      <td>0.021120</td>\n",
       "      <td>-0.065265</td>\n",
       "      <td>0.000000</td>\n",
       "      <td>-0.073725</td>\n",
       "      <td>0.000000</td>\n",
       "      <td>-0.081705</td>\n",
       "      <td>0.000000</td>\n",
       "      <td>-0.225690</td>\n",
       "      <td>0.000000</td>\n",
       "      <td>-0.234670</td>\n",
       "      <td>0.000000</td>\n",
       "      <td>-0.243870</td>\n",
       "      <td>0.000000</td>\n",
       "      <td>-0.366885</td>\n",
       "      <td>0.000000</td>\n",
       "      <td>-0.332390</td>\n",
       "      <td>0.286435</td>\n",
       "      <td>-0.443165</td>\n",
       "      <td>0.000000</td>\n",
       "      <td>-0.236885</td>\n",
       "      <td>0.000000</td>\n",
       "      <td>-0.242595</td>\n",
       "      <td>0.000000</td>\n",
       "      <td>-0.165350</td>\n",
       "    </tr>\n",
       "    <tr>\n",
       "      <th>50%</th>\n",
       "      <td>1.000000</td>\n",
       "      <td>0.0</td>\n",
       "      <td>0.871110</td>\n",
       "      <td>0.016310</td>\n",
       "      <td>0.809200</td>\n",
       "      <td>0.022800</td>\n",
       "      <td>0.728730</td>\n",
       "      <td>0.014710</td>\n",
       "      <td>0.684210</td>\n",
       "      <td>0.018290</td>\n",
       "      <td>0.667980</td>\n",
       "      <td>0.028250</td>\n",
       "      <td>0.644070</td>\n",
       "      <td>0.030270</td>\n",
       "      <td>0.601940</td>\n",
       "      <td>0.000000</td>\n",
       "      <td>0.590910</td>\n",
       "      <td>0.000000</td>\n",
       "      <td>0.576190</td>\n",
       "      <td>0.000000</td>\n",
       "      <td>0.499090</td>\n",
       "      <td>0.000000</td>\n",
       "      <td>0.531760</td>\n",
       "      <td>0.000000</td>\n",
       "      <td>0.553890</td>\n",
       "      <td>-0.015050</td>\n",
       "      <td>0.708240</td>\n",
       "      <td>-0.017690</td>\n",
       "      <td>0.496640</td>\n",
       "      <td>0.000000</td>\n",
       "      <td>0.442770</td>\n",
       "      <td>0.000000</td>\n",
       "      <td>0.409560</td>\n",
       "      <td>0.000000</td>\n",
       "    </tr>\n",
       "    <tr>\n",
       "      <th>75%</th>\n",
       "      <td>1.000000</td>\n",
       "      <td>0.0</td>\n",
       "      <td>1.000000</td>\n",
       "      <td>0.194185</td>\n",
       "      <td>1.000000</td>\n",
       "      <td>0.334655</td>\n",
       "      <td>0.969240</td>\n",
       "      <td>0.445675</td>\n",
       "      <td>0.953240</td>\n",
       "      <td>0.534195</td>\n",
       "      <td>0.957895</td>\n",
       "      <td>0.482375</td>\n",
       "      <td>0.955505</td>\n",
       "      <td>0.374860</td>\n",
       "      <td>0.919330</td>\n",
       "      <td>0.308975</td>\n",
       "      <td>0.935705</td>\n",
       "      <td>0.195285</td>\n",
       "      <td>0.899265</td>\n",
       "      <td>0.134370</td>\n",
       "      <td>0.894865</td>\n",
       "      <td>0.188760</td>\n",
       "      <td>0.911235</td>\n",
       "      <td>0.164630</td>\n",
       "      <td>0.905240</td>\n",
       "      <td>0.156765</td>\n",
       "      <td>0.999945</td>\n",
       "      <td>0.153535</td>\n",
       "      <td>0.883465</td>\n",
       "      <td>0.154075</td>\n",
       "      <td>0.857620</td>\n",
       "      <td>0.200120</td>\n",
       "      <td>0.813765</td>\n",
       "      <td>0.171660</td>\n",
       "    </tr>\n",
       "    <tr>\n",
       "      <th>max</th>\n",
       "      <td>1.000000</td>\n",
       "      <td>0.0</td>\n",
       "      <td>1.000000</td>\n",
       "      <td>1.000000</td>\n",
       "      <td>1.000000</td>\n",
       "      <td>1.000000</td>\n",
       "      <td>1.000000</td>\n",
       "      <td>1.000000</td>\n",
       "      <td>1.000000</td>\n",
       "      <td>1.000000</td>\n",
       "      <td>1.000000</td>\n",
       "      <td>1.000000</td>\n",
       "      <td>1.000000</td>\n",
       "      <td>1.000000</td>\n",
       "      <td>1.000000</td>\n",
       "      <td>1.000000</td>\n",
       "      <td>1.000000</td>\n",
       "      <td>1.000000</td>\n",
       "      <td>1.000000</td>\n",
       "      <td>1.000000</td>\n",
       "      <td>1.000000</td>\n",
       "      <td>1.000000</td>\n",
       "      <td>1.000000</td>\n",
       "      <td>1.000000</td>\n",
       "      <td>1.000000</td>\n",
       "      <td>1.000000</td>\n",
       "      <td>1.000000</td>\n",
       "      <td>1.000000</td>\n",
       "      <td>1.000000</td>\n",
       "      <td>1.000000</td>\n",
       "      <td>1.000000</td>\n",
       "      <td>1.000000</td>\n",
       "      <td>1.000000</td>\n",
       "      <td>1.000000</td>\n",
       "    </tr>\n",
       "  </tbody>\n",
       "</table>\n",
       "</div>"
      ],
      "text/plain": [
       "                0      1           2           3           4           5  \\\n",
       "count  351.000000  351.0  351.000000  351.000000  351.000000  351.000000   \n",
       "mean     0.891738    0.0    0.641342    0.044372    0.601068    0.115889   \n",
       "std      0.311155    0.0    0.497708    0.441435    0.519862    0.460810   \n",
       "min      0.000000    0.0   -1.000000   -1.000000   -1.000000   -1.000000   \n",
       "25%      1.000000    0.0    0.472135   -0.064735    0.412660   -0.024795   \n",
       "50%      1.000000    0.0    0.871110    0.016310    0.809200    0.022800   \n",
       "75%      1.000000    0.0    1.000000    0.194185    1.000000    0.334655   \n",
       "max      1.000000    0.0    1.000000    1.000000    1.000000    1.000000   \n",
       "\n",
       "                6           7           8           9          10          11  \\\n",
       "count  351.000000  351.000000  351.000000  351.000000  351.000000  351.000000   \n",
       "mean     0.550095    0.119360    0.511848    0.181345    0.476183    0.155040   \n",
       "std      0.492654    0.520750    0.507066    0.483851    0.563496    0.494817   \n",
       "min     -1.000000   -1.000000   -1.000000   -1.000000   -1.000000   -1.000000   \n",
       "25%      0.211310   -0.054840    0.087110   -0.048075    0.021120   -0.065265   \n",
       "50%      0.728730    0.014710    0.684210    0.018290    0.667980    0.028250   \n",
       "75%      0.969240    0.445675    0.953240    0.534195    0.957895    0.482375   \n",
       "max      1.000000    1.000000    1.000000    1.000000    1.000000    1.000000   \n",
       "\n",
       "               12          13          14          15          16          17  \\\n",
       "count  351.000000  351.000000  351.000000  351.000000  351.000000  351.000000   \n",
       "mean     0.400801    0.093414    0.344159    0.071132    0.381949   -0.003617   \n",
       "std      0.622186    0.494873    0.652828    0.458371    0.618020    0.496762   \n",
       "min     -1.000000   -1.000000   -1.000000   -1.000000   -1.000000   -1.000000   \n",
       "25%      0.000000   -0.073725    0.000000   -0.081705    0.000000   -0.225690   \n",
       "50%      0.644070    0.030270    0.601940    0.000000    0.590910    0.000000   \n",
       "75%      0.955505    0.374860    0.919330    0.308975    0.935705    0.195285   \n",
       "max      1.000000    1.000000    1.000000    1.000000    1.000000    1.000000   \n",
       "\n",
       "               18          19          20          21          22          23  \\\n",
       "count  351.000000  351.000000  351.000000  351.000000  351.000000  351.000000   \n",
       "mean     0.359390   -0.024025    0.336695    0.008296    0.362475   -0.057406   \n",
       "std      0.626267    0.519076    0.609828    0.518166    0.603767    0.527456   \n",
       "min     -1.000000   -1.000000   -1.000000   -1.000000   -1.000000   -1.000000   \n",
       "25%      0.000000   -0.234670    0.000000   -0.243870    0.000000   -0.366885   \n",
       "50%      0.576190    0.000000    0.499090    0.000000    0.531760    0.000000   \n",
       "75%      0.899265    0.134370    0.894865    0.188760    0.911235    0.164630   \n",
       "max      1.000000    1.000000    1.000000    1.000000    1.000000    1.000000   \n",
       "\n",
       "               24          25          26          27          28          29  \\\n",
       "count  351.000000  351.000000  351.000000  351.000000  351.000000  351.000000   \n",
       "mean     0.396135   -0.071187    0.541641   -0.069538    0.378445   -0.027907   \n",
       "std      0.578451    0.508495    0.516205    0.550025    0.575886    0.507974   \n",
       "min     -1.000000   -1.000000   -1.000000   -1.000000   -1.000000   -1.000000   \n",
       "25%      0.000000   -0.332390    0.286435   -0.443165    0.000000   -0.236885   \n",
       "50%      0.553890   -0.015050    0.708240   -0.017690    0.496640    0.000000   \n",
       "75%      0.905240    0.156765    0.999945    0.153535    0.883465    0.154075   \n",
       "max      1.000000    1.000000    1.000000    1.000000    1.000000    1.000000   \n",
       "\n",
       "               30          31          32          33  \n",
       "count  351.000000  351.000000  351.000000  351.000000  \n",
       "mean     0.352514   -0.003794    0.349364    0.014480  \n",
       "std      0.571483    0.513574    0.522663    0.468337  \n",
       "min     -1.000000   -1.000000   -1.000000   -1.000000  \n",
       "25%      0.000000   -0.242595    0.000000   -0.165350  \n",
       "50%      0.442770    0.000000    0.409560    0.000000  \n",
       "75%      0.857620    0.200120    0.813765    0.171660  \n",
       "max      1.000000    1.000000    1.000000    1.000000  "
      ]
     },
     "execution_count": 49,
     "metadata": {},
     "output_type": "execute_result"
    }
   ],
   "source": [
    "# Comprobar estadísticas de las variables\n",
    "df_6.describe()"
   ]
  },
  {
   "cell_type": "markdown",
   "metadata": {},
   "source": [
    "Se observa que la variable 1 son todo valores 0 por lo que no aporta ningún valor y se elimina"
   ]
  },
  {
   "cell_type": "code",
   "execution_count": 50,
   "metadata": {},
   "outputs": [],
   "source": [
    "df_6.drop('1', axis = 1, inplace = True)"
   ]
  },
  {
   "cell_type": "code",
   "execution_count": 51,
   "metadata": {},
   "outputs": [
    {
     "name": "stdout",
     "output_type": "stream",
     "text": [
      "0     0\n",
      "2     0\n",
      "3     0\n",
      "4     0\n",
      "5     0\n",
      "6     0\n",
      "7     0\n",
      "8     0\n",
      "9     0\n",
      "10    0\n",
      "11    0\n",
      "12    0\n",
      "13    0\n",
      "14    0\n",
      "15    0\n",
      "16    0\n",
      "17    0\n",
      "18    0\n",
      "19    0\n",
      "20    0\n",
      "21    0\n",
      "22    0\n",
      "23    0\n",
      "24    0\n",
      "25    0\n",
      "26    0\n",
      "27    0\n",
      "28    0\n",
      "29    0\n",
      "30    0\n",
      "31    0\n",
      "32    0\n",
      "33    0\n",
      "34    0\n",
      "dtype: int64\n"
     ]
    }
   ],
   "source": [
    "# Comprobar valores nulos\n",
    "print(df_6.isna().sum())"
   ]
  },
  {
   "cell_type": "code",
   "execution_count": 52,
   "metadata": {},
   "outputs": [],
   "source": [
    "# Mapear los valores de la variable dependiente de forma que el resultado bueno es 1 y el malo es 0\n",
    "gb_dict = {'g':1, 'b':0}\n",
    "df_6['34'] = df_6['34'].map(gb_dict)"
   ]
  },
  {
   "cell_type": "markdown",
   "metadata": {},
   "source": [
    "La existencia de multicolinealidad, que consiste en poder explicar una característica independiente mediante una combinación lineal del resto, entre las características que se van a utilizar para los modelos puede ser problemático, y una de las técnicas para identificar este problema es el VIF.\n",
    "\n",
    "El valor de VIF se calcula sobre las variables independientes por lo que para este cálculo se eliminará la variable 34 que es la dependiente. Posteriormente, se calculará el valor que sigue la siguiente fórmula:\n",
    "\n",
    "$$VIF_i = \\frac{1}{1 - R_i^2}$$\n",
    "\n",
    "Para su cálculo se hará uso de una función que se generará a continuación. El valor del VIF se encuentra acotado entre 1 (no existe multicolinealidad) e infinito (existe una multicolinealidad perfecta). Es habitual eliminar las características con un valor por encima de 5 y aunque este criterio se puede relajar, es el que se va a llevar a cabo a continuación. También hay que destacar que tras el primer cálculo de los valores de vif, se elimina la característica con un valor máximo superior a 5, y se vuelven a calcular los valores de vif y así sucesivamente hasta que no haya ningún valor superior a 5."
   ]
  },
  {
   "cell_type": "code",
   "execution_count": 53,
   "metadata": {},
   "outputs": [],
   "source": [
    "def VIF(df):\n",
    "    \"\"\"\n",
    "    param: dataframe que contiene las variables para calcular el VIF\n",
    "    return: dataframe con los valores de VIF\n",
    "    \"\"\"\n",
    "    \n",
    "    # Almacenar los valores de las columnas\n",
    "    features = list(df.columns)\n",
    "    num_features = len(features)\n",
    "    \n",
    "    # Generar el modelo de regresión lineal\n",
    "    model = LinearRegression()\n",
    "    \n",
    "    # Crear el dataframe para almacenar los valores VIF\n",
    "    vif_df = pd.DataFrame(index = ['VIF'], columns = features)\n",
    "    vif_df = vif_df.fillna(0)\n",
    "    \n",
    "    # Generar valores VIF y almacenarlos en el dataframe\n",
    "    for i in range(num_features):\n",
    "        x_features = features[:]\n",
    "        y_feature = features[i]\n",
    "        x_features.remove(y_feature)\n",
    "        \n",
    "        x = df[x_features]\n",
    "        y = df[y_feature]\n",
    "        \n",
    "        model.fit(df[x_features], df[y_feature])\n",
    "        \n",
    "        vif_df[y_feature] = 1/(1 - model.score(df[x_features], df[y_feature]))\n",
    "    \n",
    "    return vif_df"
   ]
  },
  {
   "cell_type": "code",
   "execution_count": 54,
   "metadata": {},
   "outputs": [],
   "source": [
    "# Establecer variable a borrar\n",
    "variable_borrar = '34'\n",
    "\n",
    "# Crear copia del dataframe\n",
    "df_6_vif = df_6.copy()\n",
    "\n",
    "# Establecer valor límite de vif\n",
    "vif_max = 5\n",
    "\n",
    "# Crear listas para almacenar valores\n",
    "lista_vif_max = []\n",
    "lista_feature_vif_max = []\n",
    "\n",
    "# Almacenar variables\n",
    "features = list(df_6_vif.columns)\n",
    "\n",
    "while vif_max >= 5:\n",
    "    \n",
    "    # Borrar variable con mayor vif. En la primera iteración se borrará la variable dependiente\n",
    "    features.remove(variable_borrar)\n",
    "    \n",
    "    # Crear el dataframe sin la variable eliminada\n",
    "    df_6_vif = df_6_vif[features]\n",
    "    \n",
    "    # Generar los valores VIF a través de la función creada en la celda anterior\n",
    "    vif_data = VIF(df_6_vif)\n",
    "    \n",
    "    # Almacenar valor mayor de VIF y su variable\n",
    "    variable_borrar = vif_data.transpose().idxmax()[0]\n",
    "    vif_max = round(vif_data.transpose().max()[0],4)\n",
    "    \n",
    "    # Añadir los valores a las listas\n",
    "    lista_vif_max.append(vif_max)\n",
    "    lista_feature_vif_max.append(variable_borrar)\n",
    "    "
   ]
  },
  {
   "cell_type": "code",
   "execution_count": 55,
   "metadata": {},
   "outputs": [
    {
     "data": {
      "text/html": [
       "<div>\n",
       "<style scoped>\n",
       "    .dataframe tbody tr th:only-of-type {\n",
       "        vertical-align: middle;\n",
       "    }\n",
       "\n",
       "    .dataframe tbody tr th {\n",
       "        vertical-align: top;\n",
       "    }\n",
       "\n",
       "    .dataframe thead th {\n",
       "        text-align: right;\n",
       "    }\n",
       "</style>\n",
       "<table border=\"1\" class=\"dataframe\">\n",
       "  <thead>\n",
       "    <tr style=\"text-align: right;\">\n",
       "      <th></th>\n",
       "      <th>feature</th>\n",
       "      <th>vif</th>\n",
       "    </tr>\n",
       "  </thead>\n",
       "  <tbody>\n",
       "    <tr>\n",
       "      <th>0</th>\n",
       "      <td>14</td>\n",
       "      <td>7.1097</td>\n",
       "    </tr>\n",
       "    <tr>\n",
       "      <th>1</th>\n",
       "      <td>20</td>\n",
       "      <td>5.9591</td>\n",
       "    </tr>\n",
       "    <tr>\n",
       "      <th>2</th>\n",
       "      <td>16</td>\n",
       "      <td>4.7621</td>\n",
       "    </tr>\n",
       "  </tbody>\n",
       "</table>\n",
       "</div>"
      ],
      "text/plain": [
       "  feature     vif\n",
       "0      14  7.1097\n",
       "1      20  5.9591\n",
       "2      16  4.7621"
      ]
     },
     "execution_count": 55,
     "metadata": {},
     "output_type": "execute_result"
    }
   ],
   "source": [
    "vif_data = np.array([lista_feature_vif_max, lista_vif_max])\n",
    "vif = pd.DataFrame(data = vif_data.T, columns = ['feature', 'vif'])\n",
    "vif"
   ]
  },
  {
   "cell_type": "markdown",
   "metadata": {},
   "source": [
    "Se comprueba en la tabla anterior que las características a eliminar son 14 y 20. Por lo tanto, se procede a su eliminación del dataset df_6 para continuar con la creación de los modelos una vez la multicolinealidad ya ha sido analizada."
   ]
  },
  {
   "cell_type": "code",
   "execution_count": 56,
   "metadata": {},
   "outputs": [
    {
     "data": {
      "text/html": [
       "<div>\n",
       "<style scoped>\n",
       "    .dataframe tbody tr th:only-of-type {\n",
       "        vertical-align: middle;\n",
       "    }\n",
       "\n",
       "    .dataframe tbody tr th {\n",
       "        vertical-align: top;\n",
       "    }\n",
       "\n",
       "    .dataframe thead th {\n",
       "        text-align: right;\n",
       "    }\n",
       "</style>\n",
       "<table border=\"1\" class=\"dataframe\">\n",
       "  <thead>\n",
       "    <tr style=\"text-align: right;\">\n",
       "      <th></th>\n",
       "      <th>0</th>\n",
       "      <th>2</th>\n",
       "      <th>3</th>\n",
       "      <th>4</th>\n",
       "      <th>5</th>\n",
       "      <th>6</th>\n",
       "      <th>7</th>\n",
       "      <th>8</th>\n",
       "      <th>9</th>\n",
       "      <th>10</th>\n",
       "      <th>11</th>\n",
       "      <th>12</th>\n",
       "      <th>13</th>\n",
       "      <th>15</th>\n",
       "      <th>16</th>\n",
       "      <th>17</th>\n",
       "      <th>18</th>\n",
       "      <th>19</th>\n",
       "      <th>21</th>\n",
       "      <th>22</th>\n",
       "      <th>23</th>\n",
       "      <th>24</th>\n",
       "      <th>25</th>\n",
       "      <th>26</th>\n",
       "      <th>27</th>\n",
       "      <th>28</th>\n",
       "      <th>29</th>\n",
       "      <th>30</th>\n",
       "      <th>31</th>\n",
       "      <th>32</th>\n",
       "      <th>33</th>\n",
       "      <th>34</th>\n",
       "    </tr>\n",
       "  </thead>\n",
       "  <tbody>\n",
       "    <tr>\n",
       "      <th>0</th>\n",
       "      <td>1</td>\n",
       "      <td>0.99539</td>\n",
       "      <td>-0.05889</td>\n",
       "      <td>0.85243</td>\n",
       "      <td>0.02306</td>\n",
       "      <td>0.83398</td>\n",
       "      <td>-0.37708</td>\n",
       "      <td>1.00000</td>\n",
       "      <td>0.03760</td>\n",
       "      <td>0.85243</td>\n",
       "      <td>-0.17755</td>\n",
       "      <td>0.59755</td>\n",
       "      <td>-0.44945</td>\n",
       "      <td>-0.38223</td>\n",
       "      <td>0.84356</td>\n",
       "      <td>-0.38542</td>\n",
       "      <td>0.58212</td>\n",
       "      <td>-0.32192</td>\n",
       "      <td>-0.29674</td>\n",
       "      <td>0.36946</td>\n",
       "      <td>-0.47357</td>\n",
       "      <td>0.56811</td>\n",
       "      <td>-0.51171</td>\n",
       "      <td>0.41078</td>\n",
       "      <td>-0.46168</td>\n",
       "      <td>0.21266</td>\n",
       "      <td>-0.34090</td>\n",
       "      <td>0.42267</td>\n",
       "      <td>-0.54487</td>\n",
       "      <td>0.18641</td>\n",
       "      <td>-0.45300</td>\n",
       "      <td>1</td>\n",
       "    </tr>\n",
       "    <tr>\n",
       "      <th>1</th>\n",
       "      <td>1</td>\n",
       "      <td>1.00000</td>\n",
       "      <td>-0.18829</td>\n",
       "      <td>0.93035</td>\n",
       "      <td>-0.36156</td>\n",
       "      <td>-0.10868</td>\n",
       "      <td>-0.93597</td>\n",
       "      <td>1.00000</td>\n",
       "      <td>-0.04549</td>\n",
       "      <td>0.50874</td>\n",
       "      <td>-0.67743</td>\n",
       "      <td>0.34432</td>\n",
       "      <td>-0.69707</td>\n",
       "      <td>-0.97515</td>\n",
       "      <td>0.05499</td>\n",
       "      <td>-0.62237</td>\n",
       "      <td>0.33109</td>\n",
       "      <td>-1.00000</td>\n",
       "      <td>-0.45300</td>\n",
       "      <td>-0.18056</td>\n",
       "      <td>-0.35734</td>\n",
       "      <td>-0.20332</td>\n",
       "      <td>-0.26569</td>\n",
       "      <td>-0.20468</td>\n",
       "      <td>-0.18401</td>\n",
       "      <td>-0.19040</td>\n",
       "      <td>-0.11593</td>\n",
       "      <td>-0.16626</td>\n",
       "      <td>-0.06288</td>\n",
       "      <td>-0.13738</td>\n",
       "      <td>-0.02447</td>\n",
       "      <td>0</td>\n",
       "    </tr>\n",
       "    <tr>\n",
       "      <th>2</th>\n",
       "      <td>1</td>\n",
       "      <td>1.00000</td>\n",
       "      <td>-0.03365</td>\n",
       "      <td>1.00000</td>\n",
       "      <td>0.00485</td>\n",
       "      <td>1.00000</td>\n",
       "      <td>-0.12062</td>\n",
       "      <td>0.88965</td>\n",
       "      <td>0.01198</td>\n",
       "      <td>0.73082</td>\n",
       "      <td>0.05346</td>\n",
       "      <td>0.85443</td>\n",
       "      <td>0.00827</td>\n",
       "      <td>0.00299</td>\n",
       "      <td>0.83775</td>\n",
       "      <td>-0.13644</td>\n",
       "      <td>0.75535</td>\n",
       "      <td>-0.08540</td>\n",
       "      <td>-0.27502</td>\n",
       "      <td>0.43385</td>\n",
       "      <td>-0.12062</td>\n",
       "      <td>0.57528</td>\n",
       "      <td>-0.40220</td>\n",
       "      <td>0.58984</td>\n",
       "      <td>-0.22145</td>\n",
       "      <td>0.43100</td>\n",
       "      <td>-0.17365</td>\n",
       "      <td>0.60436</td>\n",
       "      <td>-0.24180</td>\n",
       "      <td>0.56045</td>\n",
       "      <td>-0.38238</td>\n",
       "      <td>1</td>\n",
       "    </tr>\n",
       "    <tr>\n",
       "      <th>3</th>\n",
       "      <td>1</td>\n",
       "      <td>1.00000</td>\n",
       "      <td>-0.45161</td>\n",
       "      <td>1.00000</td>\n",
       "      <td>1.00000</td>\n",
       "      <td>0.71216</td>\n",
       "      <td>-1.00000</td>\n",
       "      <td>0.00000</td>\n",
       "      <td>0.00000</td>\n",
       "      <td>0.00000</td>\n",
       "      <td>0.00000</td>\n",
       "      <td>0.00000</td>\n",
       "      <td>0.00000</td>\n",
       "      <td>0.14516</td>\n",
       "      <td>0.54094</td>\n",
       "      <td>-0.39330</td>\n",
       "      <td>-1.00000</td>\n",
       "      <td>-0.54467</td>\n",
       "      <td>1.00000</td>\n",
       "      <td>0.00000</td>\n",
       "      <td>0.00000</td>\n",
       "      <td>1.00000</td>\n",
       "      <td>0.90695</td>\n",
       "      <td>0.51613</td>\n",
       "      <td>1.00000</td>\n",
       "      <td>1.00000</td>\n",
       "      <td>-0.20099</td>\n",
       "      <td>0.25682</td>\n",
       "      <td>1.00000</td>\n",
       "      <td>-0.32382</td>\n",
       "      <td>1.00000</td>\n",
       "      <td>0</td>\n",
       "    </tr>\n",
       "    <tr>\n",
       "      <th>4</th>\n",
       "      <td>1</td>\n",
       "      <td>1.00000</td>\n",
       "      <td>-0.02401</td>\n",
       "      <td>0.94140</td>\n",
       "      <td>0.06531</td>\n",
       "      <td>0.92106</td>\n",
       "      <td>-0.23255</td>\n",
       "      <td>0.77152</td>\n",
       "      <td>-0.16399</td>\n",
       "      <td>0.52798</td>\n",
       "      <td>-0.20275</td>\n",
       "      <td>0.56409</td>\n",
       "      <td>-0.00712</td>\n",
       "      <td>-0.27457</td>\n",
       "      <td>0.52940</td>\n",
       "      <td>-0.21780</td>\n",
       "      <td>0.45107</td>\n",
       "      <td>-0.17813</td>\n",
       "      <td>-0.35575</td>\n",
       "      <td>0.02309</td>\n",
       "      <td>-0.52879</td>\n",
       "      <td>0.03286</td>\n",
       "      <td>-0.65158</td>\n",
       "      <td>0.13290</td>\n",
       "      <td>-0.53206</td>\n",
       "      <td>0.02431</td>\n",
       "      <td>-0.62197</td>\n",
       "      <td>-0.05707</td>\n",
       "      <td>-0.59573</td>\n",
       "      <td>-0.04608</td>\n",
       "      <td>-0.65697</td>\n",
       "      <td>1</td>\n",
       "    </tr>\n",
       "  </tbody>\n",
       "</table>\n",
       "</div>"
      ],
      "text/plain": [
       "   0        2        3        4        5        6        7        8        9  \\\n",
       "0  1  0.99539 -0.05889  0.85243  0.02306  0.83398 -0.37708  1.00000  0.03760   \n",
       "1  1  1.00000 -0.18829  0.93035 -0.36156 -0.10868 -0.93597  1.00000 -0.04549   \n",
       "2  1  1.00000 -0.03365  1.00000  0.00485  1.00000 -0.12062  0.88965  0.01198   \n",
       "3  1  1.00000 -0.45161  1.00000  1.00000  0.71216 -1.00000  0.00000  0.00000   \n",
       "4  1  1.00000 -0.02401  0.94140  0.06531  0.92106 -0.23255  0.77152 -0.16399   \n",
       "\n",
       "        10       11       12       13       15       16       17       18  \\\n",
       "0  0.85243 -0.17755  0.59755 -0.44945 -0.38223  0.84356 -0.38542  0.58212   \n",
       "1  0.50874 -0.67743  0.34432 -0.69707 -0.97515  0.05499 -0.62237  0.33109   \n",
       "2  0.73082  0.05346  0.85443  0.00827  0.00299  0.83775 -0.13644  0.75535   \n",
       "3  0.00000  0.00000  0.00000  0.00000  0.14516  0.54094 -0.39330 -1.00000   \n",
       "4  0.52798 -0.20275  0.56409 -0.00712 -0.27457  0.52940 -0.21780  0.45107   \n",
       "\n",
       "        19       21       22       23       24       25       26       27  \\\n",
       "0 -0.32192 -0.29674  0.36946 -0.47357  0.56811 -0.51171  0.41078 -0.46168   \n",
       "1 -1.00000 -0.45300 -0.18056 -0.35734 -0.20332 -0.26569 -0.20468 -0.18401   \n",
       "2 -0.08540 -0.27502  0.43385 -0.12062  0.57528 -0.40220  0.58984 -0.22145   \n",
       "3 -0.54467  1.00000  0.00000  0.00000  1.00000  0.90695  0.51613  1.00000   \n",
       "4 -0.17813 -0.35575  0.02309 -0.52879  0.03286 -0.65158  0.13290 -0.53206   \n",
       "\n",
       "        28       29       30       31       32       33  34  \n",
       "0  0.21266 -0.34090  0.42267 -0.54487  0.18641 -0.45300   1  \n",
       "1 -0.19040 -0.11593 -0.16626 -0.06288 -0.13738 -0.02447   0  \n",
       "2  0.43100 -0.17365  0.60436 -0.24180  0.56045 -0.38238   1  \n",
       "3  1.00000 -0.20099  0.25682  1.00000 -0.32382  1.00000   0  \n",
       "4  0.02431 -0.62197 -0.05707 -0.59573 -0.04608 -0.65697   1  "
      ]
     },
     "execution_count": 56,
     "metadata": {},
     "output_type": "execute_result"
    }
   ],
   "source": [
    "df_6.drop(['14', '20'], axis = 1, inplace = True)\n",
    "df_6.head(5)"
   ]
  },
  {
   "cell_type": "markdown",
   "metadata": {},
   "source": [
    "El dataset ya está listo para comenzar a crear los modelos. Se ha de dividir en los conjuntos de entrenamiento y test según especifica el enunciado y se puede generar los modelos."
   ]
  },
  {
   "cell_type": "code",
   "execution_count": 57,
   "metadata": {},
   "outputs": [],
   "source": [
    "# Obtener los conjuntos de entrenamiento y test\n",
    "y_6 = df_6['34'].values\n",
    "X_6 = df_6.drop('34', axis = 1).values\n",
    "\n",
    "X_train_6, X_test_6, y_train_6, y_test_6 = train_test_split(X_6, y_6, test_size = 0.35)"
   ]
  },
  {
   "cell_type": "markdown",
   "metadata": {},
   "source": [
    "Durante la creación de los modelos, se van a comprobar muchas combinaciones entre los hiperparámetros que se especifican en el enunciado. Para poder comprobar cuál tiene un mejor rendimiento se ha de usar siempre un mismo tipo de scoring que será el F1 score que es una métrica que se calcula a partir de la exhaustividad y de la la exactitud tal que:\n",
    "\n",
    "$$F1_{score} = \\frac{2*precision*recall}{precision+recall}$$"
   ]
  },
  {
   "cell_type": "markdown",
   "metadata": {},
   "source": [
    "A continuación se van a evaluar los modelos. Para ello, se van a generar tres funciones:\n",
    "\n",
    "* models_and_parameters_definition: definir los parámetros y modelos en gridsearch.\n",
    "* select_best_model: elegir los mejores modelos por familia.\n",
    "* train_test_score: obtener scoring de training y test.\n",
    "\n",
    "Se van a evaluar: \n",
    "\n",
    "* Regresión Logística, en la que no se especifica en el enunciado la necesidad de incluir ningún parámetro, aunque se ha decidido tener en cuenta el parámetro C para considerar su influencia en el modelo. El parámetro C es el inverso de la regularización, por lo que valores bajos indican alta regularización.\n",
    "\n",
    "* Máquinas de vector soporte, en el cual se especifica un parámetro a evaluar, por lo que evaluará dicho parámetro y otro que se considera interesante. Los parámetros son el kernel, que especifica el tipo de kernel que usará el algoritmo, y C, parámetro de regularización, inversamente proporcional a la misma.\n",
    "\n",
    "* K-NN, para el cuál, el enunciado especifica el número de vecinos a comprobar, y de forma adicional también se incluirá la función de distancia.\n",
    "\n",
    "* Radius Neighbors, similar al anterior, especificando en este caso el radio a usar como hiperparámetro, y de nuevo se incluye la métrica a usar para calcular la distancia. También se incluye el hiperparámeto outlier_label, que se encarga del tratamiento de los outliers, asignándolo a uno de los cluster.\n",
    "\n",
    "Para la elección del mejor modelo de cada familia, se va a usar el atributo de la función grid search denominado best_score. Dicho atributo recoge la media de la validación cruzada con el mejor estimador de cada familia. Como se ha especificado, la métrica a considerar como el mejor scoring será F1 debido a que tiene en cuenta tanto la exactitud como la exhaustividad."
   ]
  },
  {
   "cell_type": "code",
   "execution_count": 58,
   "metadata": {},
   "outputs": [],
   "source": [
    "def models_and_parameters_definition():\n",
    "    \"\"\"\n",
    "    Función para definir los modelos y parámetros que se quieren comprobar.\n",
    "    :return: diccionario con los gridsearch preparados\n",
    "    \"\"\"\n",
    "    \n",
    "    # Regresión Logística\n",
    "    params_lr = {'C': np.arange(0.5,10, 0.5)}\n",
    "    model_logr_6 = LogisticRegression(random_state=seed)\n",
    "    gs_lr = GridSearchCV(estimator=model_logr_6,\n",
    "                        param_grid=params_lr,\n",
    "                        cv = 10,\n",
    "                        scoring = 'f1')\n",
    "    \n",
    "    # Máquinas de Vector Soporte\n",
    "    params_svc = {'kernel': ['linear', 'poly', 'rbf', 'sigmoid'],\n",
    "                'C': np.arange(0.5, 10, 0.5)}\n",
    "    model_svc = SVC(random_state=seed)\n",
    "    gs_svc = GridSearchCV(estimator=model_svc,\n",
    "                        param_grid=params_svc,\n",
    "                        cv = 10,\n",
    "                        scoring = 'f1')\n",
    "\n",
    "    # KNN\n",
    "    params_knn = {'n_neighbors': np.arange(1,16),\n",
    "                  'metric': ['minkowski', 'manhattan', 'euclidean', 'seuclidean']}\n",
    "    model_knn = KNeighborsClassifier()\n",
    "    gs_knn = GridSearchCV(estimator=model_knn,\n",
    "                        param_grid=params_knn,\n",
    "                        cv = 10,\n",
    "                        scoring = 'f1')\n",
    "    \n",
    "    # Radius Neighbors\n",
    "    params_rn = {'radius': [10, 15, 20, 25],\n",
    "                'metric': ['minkowski', 'manhattan', 'euclidean', 'seuclidean'],\n",
    "                'outlier_label': ['most_frequent', 0, 1]}\n",
    "    model_rn = RadiusNeighborsClassifier()\n",
    "    gs_rn = GridSearchCV(estimator=model_rn,\n",
    "                        param_grid=params_rn,\n",
    "                        cv = 10,\n",
    "                        scoring = 'f1')\n",
    "\n",
    "    grid_search_models = {\"gs_lr\": gs_lr,\n",
    "                          \"gs_svc\": gs_svc,\n",
    "                          \"gs_knn\": gs_knn,\n",
    "                          \"gs_rn\": gs_rn}\n",
    "    \n",
    "    return grid_search_models"
   ]
  },
  {
   "cell_type": "code",
   "execution_count": 59,
   "metadata": {},
   "outputs": [],
   "source": [
    "def select_best_model(grid_search_models, X_train_6, y_train_6):\n",
    "    \"\"\"\n",
    "    Función para elegir el mejor modelo de cada familia con los mejores parámetros\n",
    "    :param grid_search_models: diccionario con todos los gridSearch a ehecutar.\n",
    "    :param X_train: conjunto de datos con las variables independientes.\n",
    "    :param y_train: conjunto de datos con la variable dependiente.\n",
    "    :return: df con los resultados, mejor modelo lr, mejor modelo svc, mejor modelo knn, mejor modelo rn\n",
    "    \"\"\"\n",
    "    # Entrenar los gridsearch\n",
    "    for nombre, grid_search in grid_search_models.items():\n",
    "        print(\"Haciendo Grid Search de %s...\" % nombre)\n",
    "        grid_search.fit(X_train_6, y_train_6)\n",
    "\n",
    "    # Obtener datos de los mejores modelos por familia\n",
    "    mejor_score = [(nombre_modelo, grid_search.best_score_, grid_search.best_params_,\n",
    "                                       str(grid_search.best_estimator_))\n",
    "                                      for nombre_modelo, grid_search in grid_search_models.items()]\n",
    "    mejor_score_df = pd.DataFrame(mejor_score, columns=[\"gridSearchCV\", \n",
    "                                                                           \"best_score\", \n",
    "                                                                           \"best_params\", \n",
    "                                                                           \"best_estimator\"])\n",
    "    # Obtener los gr con los mejores modelos\n",
    "    best_model_lr = grid_search_models.get(\"gs_lr\")\n",
    "    best_model_svc = grid_search_models.get(\"gs_svc\")\n",
    "    best_model_knn = grid_search_models.get(\"gs_knn\")\n",
    "    best_model_rn = grid_search_models.get(\"gs_rn\")\n",
    "    \n",
    "    return mejor_score_df, best_model_lr, best_model_svc, best_model_knn, best_model_rn"
   ]
  },
  {
   "cell_type": "code",
   "execution_count": 60,
   "metadata": {},
   "outputs": [],
   "source": [
    "def train_test_score(models, X_train_6, X_test_6, y_train_6, y_test_6):\n",
    "    \"\"\"\n",
    "    Función para calcular los F1 score de los modelos generados.\n",
    "    :param models: lista con el mejor modelo de cada familia.\n",
    "    :param X_train_6: conjunto de las variables independientes de entrenamiento del dataset.\n",
    "    :param y_train_6: conjunto de las variables dependientes de entrenamiento del dataset.\n",
    "    :param X_test_6: conjunto de las variables independientes de test del dataset.\n",
    "    :param y_test_6: conjunto de las variables dependientes de test del dataset.\n",
    "    :return: dataframe que recoge los scoring\n",
    "    \"\"\"\n",
    "    \n",
    "    # Listas para almacenar los scoring\n",
    "    score_train = []\n",
    "    score_test = []\n",
    "    \n",
    "    # Valores para las columnas y filas\n",
    "    columns_scoring = ['Score Training', 'Score Test']\n",
    "    rows_scoring = ['Regresión Logística', 'SVC', 'KNN', 'Radius Neighbors']\n",
    "    \n",
    "    # Generar scorings para cada modelo\n",
    "    for i in models:\n",
    "        score_train.append(i.score(X_train_6, y_train_6))\n",
    "        score_test.append(i.score(X_test_6, y_test_6))\n",
    "        \n",
    "    # Generar dataframe con los scoring\n",
    "    score_df = pd.DataFrame(data = np.array([score_train, score_test]).transpose(), \n",
    "                            columns = columns_scoring, index = rows_scoring)\n",
    "    return score_df"
   ]
  },
  {
   "cell_type": "code",
   "execution_count": 61,
   "metadata": {},
   "outputs": [
    {
     "name": "stdout",
     "output_type": "stream",
     "text": [
      "Haciendo Grid Search de gs_lr...\n",
      "Haciendo Grid Search de gs_svc...\n",
      "Haciendo Grid Search de gs_knn...\n",
      "Haciendo Grid Search de gs_rn...\n"
     ]
    },
    {
     "data": {
      "text/html": [
       "<div>\n",
       "<style scoped>\n",
       "    .dataframe tbody tr th:only-of-type {\n",
       "        vertical-align: middle;\n",
       "    }\n",
       "\n",
       "    .dataframe tbody tr th {\n",
       "        vertical-align: top;\n",
       "    }\n",
       "\n",
       "    .dataframe thead th {\n",
       "        text-align: right;\n",
       "    }\n",
       "</style>\n",
       "<table border=\"1\" class=\"dataframe\">\n",
       "  <thead>\n",
       "    <tr style=\"text-align: right;\">\n",
       "      <th></th>\n",
       "      <th>gridSearchCV</th>\n",
       "      <th>best_score</th>\n",
       "      <th>best_params</th>\n",
       "      <th>best_estimator</th>\n",
       "    </tr>\n",
       "  </thead>\n",
       "  <tbody>\n",
       "    <tr>\n",
       "      <th>0</th>\n",
       "      <td>gs_lr</td>\n",
       "      <td>0.900033</td>\n",
       "      <td>{'C': 4.0}</td>\n",
       "      <td>LogisticRegression(C=4.0, class_weight=None, d...</td>\n",
       "    </tr>\n",
       "    <tr>\n",
       "      <th>1</th>\n",
       "      <td>gs_svc</td>\n",
       "      <td>0.973707</td>\n",
       "      <td>{'C': 8.5, 'kernel': 'rbf'}</td>\n",
       "      <td>SVC(C=8.5, break_ties=False, cache_size=200, c...</td>\n",
       "    </tr>\n",
       "    <tr>\n",
       "      <th>2</th>\n",
       "      <td>gs_knn</td>\n",
       "      <td>0.954770</td>\n",
       "      <td>{'metric': 'manhattan', 'n_neighbors': 2}</td>\n",
       "      <td>KNeighborsClassifier(algorithm='auto', leaf_si...</td>\n",
       "    </tr>\n",
       "    <tr>\n",
       "      <th>3</th>\n",
       "      <td>gs_rn</td>\n",
       "      <td>0.947834</td>\n",
       "      <td>{'metric': 'manhattan', 'outlier_label': 0, 'r...</td>\n",
       "      <td>RadiusNeighborsClassifier(algorithm='auto', le...</td>\n",
       "    </tr>\n",
       "  </tbody>\n",
       "</table>\n",
       "</div>"
      ],
      "text/plain": [
       "  gridSearchCV  best_score                                        best_params  \\\n",
       "0        gs_lr    0.900033                                         {'C': 4.0}   \n",
       "1       gs_svc    0.973707                        {'C': 8.5, 'kernel': 'rbf'}   \n",
       "2       gs_knn    0.954770          {'metric': 'manhattan', 'n_neighbors': 2}   \n",
       "3        gs_rn    0.947834  {'metric': 'manhattan', 'outlier_label': 0, 'r...   \n",
       "\n",
       "                                      best_estimator  \n",
       "0  LogisticRegression(C=4.0, class_weight=None, d...  \n",
       "1  SVC(C=8.5, break_ties=False, cache_size=200, c...  \n",
       "2  KNeighborsClassifier(algorithm='auto', leaf_si...  \n",
       "3  RadiusNeighborsClassifier(algorithm='auto', le...  "
      ]
     },
     "execution_count": 61,
     "metadata": {},
     "output_type": "execute_result"
    }
   ],
   "source": [
    "# Ejecutar las funciones para generar los mejores modelos\n",
    "grid_search_models = models_and_parameters_definition()\n",
    "best_models, best_model_lr, best_model_svc, best_model_knn, best_model_rn  = select_best_model(grid_search_models, \n",
    "                                                                                               X_train_6, y_train_6)\n",
    "best_models"
   ]
  },
  {
   "cell_type": "markdown",
   "metadata": {},
   "source": [
    "La tabla anterior, obtenida del dataframe best models, recoge el mejor modelo de cada familia obtenido gracias a la función grid search. A continuación se imprimen los resultados de los parámetros"
   ]
  },
  {
   "cell_type": "code",
   "execution_count": 62,
   "metadata": {},
   "outputs": [
    {
     "name": "stdout",
     "output_type": "stream",
     "text": [
      "El mejor modelo de regresión logística resulta con el hiperparámetros C igual a 4.0.\n",
      "\n",
      "El mejor modelo de máquinas de vector soporte resulta de el kernel igual a rbf y el hiperparámetros C igual a \n",
      "8.5.\n",
      "\n",
      "El mejor modelo de k-nn resulta de el número de vecinos igual a 2 y la función de distancia manhattan.\n",
      "\n",
      "El mejor modelo de Radius Neighbors resulta de el radio igual a 10, la función de distancia manhattan \n",
      "y asignando los outliers al cluster 0.\n"
     ]
    }
   ],
   "source": [
    "print(\"\"\"El mejor modelo de regresión logística resulta con el hiperparámetros C igual a {}.\\n\"\"\"\n",
    "      .format(best_models['best_params'][0]['C']))\n",
    "\n",
    "print(\"\"\"El mejor modelo de máquinas de vector soporte resulta de el kernel igual a {} y el hiperparámetros C igual a \n",
    "{}.\\n\"\"\".format(best_models['best_params'][1]['kernel'], best_models['best_params'][1]['C']))\n",
    "\n",
    "print(\"\"\"El mejor modelo de k-nn resulta de el número de vecinos igual a {} y la función de distancia {}.\\n\"\"\"\n",
    "      .format(best_models['best_params'][2]['n_neighbors'], best_models['best_params'][2]['metric']))\n",
    "\n",
    "print(\"\"\"El mejor modelo de Radius Neighbors resulta de el radio igual a {}, la función de distancia {} \n",
    "y asignando los outliers al cluster {}.\"\"\"\n",
    "      .format(best_models['best_params'][3]['radius'], best_models['best_params'][3]['metric'], \n",
    "              best_models['best_params'][3]['outlier_label']))"
   ]
  },
  {
   "cell_type": "markdown",
   "metadata": {},
   "source": [
    "Para escoger el mejor modelo de todas las familias se van a obtener los scoring F1 del mejor modelo de cada familia tanto para el set de datos de entrenamiento como para el de test."
   ]
  },
  {
   "cell_type": "code",
   "execution_count": 63,
   "metadata": {},
   "outputs": [
    {
     "data": {
      "text/html": [
       "<div>\n",
       "<style scoped>\n",
       "    .dataframe tbody tr th:only-of-type {\n",
       "        vertical-align: middle;\n",
       "    }\n",
       "\n",
       "    .dataframe tbody tr th {\n",
       "        vertical-align: top;\n",
       "    }\n",
       "\n",
       "    .dataframe thead th {\n",
       "        text-align: right;\n",
       "    }\n",
       "</style>\n",
       "<table border=\"1\" class=\"dataframe\">\n",
       "  <thead>\n",
       "    <tr style=\"text-align: right;\">\n",
       "      <th></th>\n",
       "      <th>Score Training</th>\n",
       "      <th>Score Test</th>\n",
       "    </tr>\n",
       "  </thead>\n",
       "  <tbody>\n",
       "    <tr>\n",
       "      <th>Regresión Logística</th>\n",
       "      <td>0.949153</td>\n",
       "      <td>0.905882</td>\n",
       "    </tr>\n",
       "    <tr>\n",
       "      <th>SVC</th>\n",
       "      <td>0.993056</td>\n",
       "      <td>0.945455</td>\n",
       "    </tr>\n",
       "    <tr>\n",
       "      <th>KNN</th>\n",
       "      <td>0.985915</td>\n",
       "      <td>0.927711</td>\n",
       "    </tr>\n",
       "    <tr>\n",
       "      <th>Radius Neighbors</th>\n",
       "      <td>0.949833</td>\n",
       "      <td>0.935673</td>\n",
       "    </tr>\n",
       "  </tbody>\n",
       "</table>\n",
       "</div>"
      ],
      "text/plain": [
       "                     Score Training  Score Test\n",
       "Regresión Logística        0.949153    0.905882\n",
       "SVC                        0.993056    0.945455\n",
       "KNN                        0.985915    0.927711\n",
       "Radius Neighbors           0.949833    0.935673"
      ]
     },
     "execution_count": 63,
     "metadata": {},
     "output_type": "execute_result"
    }
   ],
   "source": [
    "# Ejercutar función para obtener los scoring\n",
    "models = [best_model_lr, best_model_svc, best_model_knn, best_model_rn]\n",
    "score_df = train_test_score(models, X_train_6, X_test_6, y_train_6, y_test_6)\n",
    "score_df"
   ]
  },
  {
   "cell_type": "markdown",
   "metadata": {},
   "source": [
    "Se puede comprobar a partir de la tabla anterior que todos tienen valores superiores para la parte de entrenamiento que para la de test, pero en ambos casos el mejor modelo es el de máquinas de vector soporte. Aunque se hayan obtenido los dos scoring, el que realmente muestra el rendimiento del modelo es el de la parte de test, ya que son datos que el modelo no ha visto y que está prediciendo totalmente."
   ]
  },
  {
   "cell_type": "markdown",
   "metadata": {},
   "source": [
    "## 7: Predicción de la miopía en una población (2 puntos)\n",
    "El archivo myopia.csv contiene los datos de un estudio realizado durante 5 años en los que se siguió la salud ocular de una población. Los registros se corresponden con los valores tomados inicialmente estudio y una variable \"MYOPIC\" en la que registra si al sujeto se le diagnostico miopía durante el estudio. Las variables son:\n",
    "* ID: Identificador ID\n",
    "* STUDYYEAR: Año en los que se inició el estudio\n",
    "* MYOPIC: Desarrollo miopía dentro de los primeros cinco años\n",
    "* AGE: Edad a primera visita\n",
    "* GENDER: Genero\n",
    "* SPHEQ: Refracción esférica equivalente\n",
    "* AL: Longitud Axial\n",
    "* ACD: Profundidad de cámara anterior\n",
    "* LT: Grosor de la lente\n",
    "* VCD: Profundidad de cámara vítrea\n",
    "* SPORTHR: ¿Cuántas horas por semana fuera de la escuela el niño participó en deportes o actividades al aire libre?\n",
    "* READHR: ¿Cuántas horas por semana fuera de la escuela el niño pasó leyendo por placer?\n",
    "* COMPHR: ¿Cuántas horas por semana fuera de la escuela el niño pasó jugando a video juegos de ordenador o trabajando en el ordenador?\n",
    "* STUDYHR: ¿Cuántas horas por semana fuera de escuela el niño pasa leyendo o estudiando para tareas escolares?\n",
    "* TVHR: ¿Cuántas horas por semana fuera de la escuela el niño pasó mirando televisión?\n",
    "* DIOPTERHR: Compendio de horas de actividades de trabajo cercano que se define como: DIOPTERHR = 3 * (READHR + STUDYHR) + 2 * COMPHR + TVHR\n",
    "* MOMMY: ¿La madre del sujeto es miope?\n",
    "* DADMY: ¿El padre del sujeto es miope?\n",
    "\n",
    "Crear un modelo utilizando regresión logística que pueda predecir la aparición de miopía en el conjunto de estudio. Para ello eliminar las características que no son significativas y las colineales en caso de existir.\n",
    "\n",
    "Responder a las siguientes preguntas:\n",
    "1. ¿Cuál es la precisión, exactitud y exhaustividad en entrenamiento y test?\n",
    "2. ¿Por qué se producen estos resultados?\n",
    "\n",
    "## Solución\n",
    "\n",
    "Comenzar importando los datos."
   ]
  },
  {
   "cell_type": "code",
   "execution_count": 64,
   "metadata": {},
   "outputs": [],
   "source": [
    "import pandas as pd\n",
    "\n",
    "df_7 = pd.read_excel('P1_PEC.xlsx', 'Myopia')"
   ]
  },
  {
   "cell_type": "markdown",
   "metadata": {},
   "source": [
    "Importar librerías"
   ]
  },
  {
   "cell_type": "code",
   "execution_count": 65,
   "metadata": {},
   "outputs": [],
   "source": [
    "from sklearn.feature_selection import SelectKBest, f_classif\n",
    "from sklearn.model_selection import train_test_split\n",
    "from sklearn.linear_model import LogisticRegression \n",
    "from sklearn.model_selection import GridSearchCV\n",
    "from sklearn.metrics import confusion_matrix\n",
    "from sklearn.pipeline import Pipeline \n",
    "import matplotlib.pyplot as plt\n",
    "from seaborn import heatmap\n",
    "import numpy as np"
   ]
  },
  {
   "cell_type": "markdown",
   "metadata": {},
   "source": [
    "Tratamiento de datos"
   ]
  },
  {
   "cell_type": "code",
   "execution_count": 66,
   "metadata": {},
   "outputs": [
    {
     "data": {
      "text/html": [
       "<div>\n",
       "<style scoped>\n",
       "    .dataframe tbody tr th:only-of-type {\n",
       "        vertical-align: middle;\n",
       "    }\n",
       "\n",
       "    .dataframe tbody tr th {\n",
       "        vertical-align: top;\n",
       "    }\n",
       "\n",
       "    .dataframe thead th {\n",
       "        text-align: right;\n",
       "    }\n",
       "</style>\n",
       "<table border=\"1\" class=\"dataframe\">\n",
       "  <thead>\n",
       "    <tr style=\"text-align: right;\">\n",
       "      <th></th>\n",
       "      <th>ID</th>\n",
       "      <th>STUDYYEAR</th>\n",
       "      <th>MYOPIC</th>\n",
       "      <th>AGE</th>\n",
       "      <th>GENDER</th>\n",
       "      <th>SPHEQ</th>\n",
       "      <th>AL</th>\n",
       "      <th>ACD</th>\n",
       "      <th>LT</th>\n",
       "      <th>VCD</th>\n",
       "      <th>SPORTHR</th>\n",
       "      <th>READHR</th>\n",
       "      <th>COMPHR</th>\n",
       "      <th>STUDYHR</th>\n",
       "      <th>TVHR</th>\n",
       "      <th>DIOPTERHR</th>\n",
       "      <th>MOMMY</th>\n",
       "      <th>DADMY</th>\n",
       "    </tr>\n",
       "  </thead>\n",
       "  <tbody>\n",
       "    <tr>\n",
       "      <th>0</th>\n",
       "      <td>1</td>\n",
       "      <td>1992</td>\n",
       "      <td>1</td>\n",
       "      <td>6</td>\n",
       "      <td>1</td>\n",
       "      <td>-0.052</td>\n",
       "      <td>21.89</td>\n",
       "      <td>3.690</td>\n",
       "      <td>3.498</td>\n",
       "      <td>14.70</td>\n",
       "      <td>45</td>\n",
       "      <td>8</td>\n",
       "      <td>0</td>\n",
       "      <td>0</td>\n",
       "      <td>10</td>\n",
       "      <td>34</td>\n",
       "      <td>1</td>\n",
       "      <td>1</td>\n",
       "    </tr>\n",
       "    <tr>\n",
       "      <th>1</th>\n",
       "      <td>2</td>\n",
       "      <td>1995</td>\n",
       "      <td>0</td>\n",
       "      <td>6</td>\n",
       "      <td>1</td>\n",
       "      <td>0.608</td>\n",
       "      <td>22.38</td>\n",
       "      <td>3.702</td>\n",
       "      <td>3.392</td>\n",
       "      <td>15.29</td>\n",
       "      <td>4</td>\n",
       "      <td>0</td>\n",
       "      <td>1</td>\n",
       "      <td>1</td>\n",
       "      <td>7</td>\n",
       "      <td>12</td>\n",
       "      <td>1</td>\n",
       "      <td>1</td>\n",
       "    </tr>\n",
       "    <tr>\n",
       "      <th>2</th>\n",
       "      <td>3</td>\n",
       "      <td>1991</td>\n",
       "      <td>0</td>\n",
       "      <td>6</td>\n",
       "      <td>1</td>\n",
       "      <td>1.179</td>\n",
       "      <td>22.49</td>\n",
       "      <td>3.462</td>\n",
       "      <td>3.514</td>\n",
       "      <td>15.52</td>\n",
       "      <td>14</td>\n",
       "      <td>0</td>\n",
       "      <td>2</td>\n",
       "      <td>0</td>\n",
       "      <td>10</td>\n",
       "      <td>14</td>\n",
       "      <td>0</td>\n",
       "      <td>0</td>\n",
       "    </tr>\n",
       "    <tr>\n",
       "      <th>3</th>\n",
       "      <td>4</td>\n",
       "      <td>1990</td>\n",
       "      <td>1</td>\n",
       "      <td>6</td>\n",
       "      <td>1</td>\n",
       "      <td>0.525</td>\n",
       "      <td>22.20</td>\n",
       "      <td>3.862</td>\n",
       "      <td>3.612</td>\n",
       "      <td>14.73</td>\n",
       "      <td>18</td>\n",
       "      <td>11</td>\n",
       "      <td>0</td>\n",
       "      <td>0</td>\n",
       "      <td>4</td>\n",
       "      <td>37</td>\n",
       "      <td>0</td>\n",
       "      <td>1</td>\n",
       "    </tr>\n",
       "    <tr>\n",
       "      <th>4</th>\n",
       "      <td>5</td>\n",
       "      <td>1995</td>\n",
       "      <td>0</td>\n",
       "      <td>5</td>\n",
       "      <td>0</td>\n",
       "      <td>0.697</td>\n",
       "      <td>23.29</td>\n",
       "      <td>3.676</td>\n",
       "      <td>3.454</td>\n",
       "      <td>16.16</td>\n",
       "      <td>14</td>\n",
       "      <td>0</td>\n",
       "      <td>0</td>\n",
       "      <td>0</td>\n",
       "      <td>4</td>\n",
       "      <td>4</td>\n",
       "      <td>1</td>\n",
       "      <td>0</td>\n",
       "    </tr>\n",
       "  </tbody>\n",
       "</table>\n",
       "</div>"
      ],
      "text/plain": [
       "   ID  STUDYYEAR  MYOPIC  AGE  GENDER  SPHEQ     AL    ACD     LT    VCD  \\\n",
       "0   1       1992       1    6       1 -0.052  21.89  3.690  3.498  14.70   \n",
       "1   2       1995       0    6       1  0.608  22.38  3.702  3.392  15.29   \n",
       "2   3       1991       0    6       1  1.179  22.49  3.462  3.514  15.52   \n",
       "3   4       1990       1    6       1  0.525  22.20  3.862  3.612  14.73   \n",
       "4   5       1995       0    5       0  0.697  23.29  3.676  3.454  16.16   \n",
       "\n",
       "   SPORTHR  READHR  COMPHR  STUDYHR  TVHR  DIOPTERHR  MOMMY  DADMY  \n",
       "0       45       8       0        0    10         34      1      1  \n",
       "1        4       0       1        1     7         12      1      1  \n",
       "2       14       0       2        0    10         14      0      0  \n",
       "3       18      11       0        0     4         37      0      1  \n",
       "4       14       0       0        0     4          4      1      0  "
      ]
     },
     "execution_count": 66,
     "metadata": {},
     "output_type": "execute_result"
    }
   ],
   "source": [
    "df_7.head()"
   ]
  },
  {
   "cell_type": "code",
   "execution_count": 67,
   "metadata": {},
   "outputs": [
    {
     "data": {
      "text/plain": [
       "(618, 18)"
      ]
     },
     "execution_count": 67,
     "metadata": {},
     "output_type": "execute_result"
    }
   ],
   "source": [
    "df_7.shape"
   ]
  },
  {
   "cell_type": "code",
   "execution_count": 68,
   "metadata": {},
   "outputs": [],
   "source": [
    "# Establecer columna ID con índice de fila ya que no aporta nada al modelo\n",
    "df_7.set_index('ID', inplace= True)"
   ]
  },
  {
   "cell_type": "code",
   "execution_count": 69,
   "metadata": {},
   "outputs": [
    {
     "data": {
      "text/html": [
       "<div>\n",
       "<style scoped>\n",
       "    .dataframe tbody tr th:only-of-type {\n",
       "        vertical-align: middle;\n",
       "    }\n",
       "\n",
       "    .dataframe tbody tr th {\n",
       "        vertical-align: top;\n",
       "    }\n",
       "\n",
       "    .dataframe thead th {\n",
       "        text-align: right;\n",
       "    }\n",
       "</style>\n",
       "<table border=\"1\" class=\"dataframe\">\n",
       "  <thead>\n",
       "    <tr style=\"text-align: right;\">\n",
       "      <th></th>\n",
       "      <th>STUDYYEAR</th>\n",
       "      <th>MYOPIC</th>\n",
       "      <th>AGE</th>\n",
       "      <th>GENDER</th>\n",
       "      <th>SPHEQ</th>\n",
       "      <th>AL</th>\n",
       "      <th>ACD</th>\n",
       "      <th>LT</th>\n",
       "      <th>VCD</th>\n",
       "      <th>SPORTHR</th>\n",
       "      <th>READHR</th>\n",
       "      <th>COMPHR</th>\n",
       "      <th>STUDYHR</th>\n",
       "      <th>TVHR</th>\n",
       "      <th>DIOPTERHR</th>\n",
       "      <th>MOMMY</th>\n",
       "      <th>DADMY</th>\n",
       "    </tr>\n",
       "  </thead>\n",
       "  <tbody>\n",
       "    <tr>\n",
       "      <th>count</th>\n",
       "      <td>618.000000</td>\n",
       "      <td>618.000000</td>\n",
       "      <td>618.000000</td>\n",
       "      <td>618.000000</td>\n",
       "      <td>618.000000</td>\n",
       "      <td>618.000000</td>\n",
       "      <td>618.000000</td>\n",
       "      <td>618.000000</td>\n",
       "      <td>618.000000</td>\n",
       "      <td>618.000000</td>\n",
       "      <td>618.000000</td>\n",
       "      <td>618.000000</td>\n",
       "      <td>618.000000</td>\n",
       "      <td>618.000000</td>\n",
       "      <td>618.000000</td>\n",
       "      <td>618.000000</td>\n",
       "      <td>618.000000</td>\n",
       "    </tr>\n",
       "    <tr>\n",
       "      <th>mean</th>\n",
       "      <td>1992.359223</td>\n",
       "      <td>0.131068</td>\n",
       "      <td>6.299353</td>\n",
       "      <td>0.488673</td>\n",
       "      <td>0.801010</td>\n",
       "      <td>22.496780</td>\n",
       "      <td>3.578629</td>\n",
       "      <td>3.541453</td>\n",
       "      <td>15.376780</td>\n",
       "      <td>11.953074</td>\n",
       "      <td>2.796117</td>\n",
       "      <td>2.105178</td>\n",
       "      <td>1.490291</td>\n",
       "      <td>8.948220</td>\n",
       "      <td>26.017799</td>\n",
       "      <td>0.506472</td>\n",
       "      <td>0.498382</td>\n",
       "    </tr>\n",
       "    <tr>\n",
       "      <th>std</th>\n",
       "      <td>1.734507</td>\n",
       "      <td>0.337748</td>\n",
       "      <td>0.712950</td>\n",
       "      <td>0.500277</td>\n",
       "      <td>0.625918</td>\n",
       "      <td>0.680141</td>\n",
       "      <td>0.230394</td>\n",
       "      <td>0.154519</td>\n",
       "      <td>0.664183</td>\n",
       "      <td>7.968296</td>\n",
       "      <td>3.068191</td>\n",
       "      <td>3.056508</td>\n",
       "      <td>2.216207</td>\n",
       "      <td>5.719021</td>\n",
       "      <td>16.031715</td>\n",
       "      <td>0.500363</td>\n",
       "      <td>0.500402</td>\n",
       "    </tr>\n",
       "    <tr>\n",
       "      <th>min</th>\n",
       "      <td>1990.000000</td>\n",
       "      <td>0.000000</td>\n",
       "      <td>5.000000</td>\n",
       "      <td>0.000000</td>\n",
       "      <td>-0.699000</td>\n",
       "      <td>19.900000</td>\n",
       "      <td>2.772000</td>\n",
       "      <td>2.960000</td>\n",
       "      <td>13.380000</td>\n",
       "      <td>0.000000</td>\n",
       "      <td>0.000000</td>\n",
       "      <td>0.000000</td>\n",
       "      <td>0.000000</td>\n",
       "      <td>0.000000</td>\n",
       "      <td>2.000000</td>\n",
       "      <td>0.000000</td>\n",
       "      <td>0.000000</td>\n",
       "    </tr>\n",
       "    <tr>\n",
       "      <th>25%</th>\n",
       "      <td>1991.000000</td>\n",
       "      <td>0.000000</td>\n",
       "      <td>6.000000</td>\n",
       "      <td>0.000000</td>\n",
       "      <td>0.456250</td>\n",
       "      <td>22.040000</td>\n",
       "      <td>3.424000</td>\n",
       "      <td>3.436000</td>\n",
       "      <td>14.930000</td>\n",
       "      <td>6.000000</td>\n",
       "      <td>0.000000</td>\n",
       "      <td>0.000000</td>\n",
       "      <td>0.000000</td>\n",
       "      <td>4.250000</td>\n",
       "      <td>15.000000</td>\n",
       "      <td>0.000000</td>\n",
       "      <td>0.000000</td>\n",
       "    </tr>\n",
       "    <tr>\n",
       "      <th>50%</th>\n",
       "      <td>1992.000000</td>\n",
       "      <td>0.000000</td>\n",
       "      <td>6.000000</td>\n",
       "      <td>0.000000</td>\n",
       "      <td>0.729000</td>\n",
       "      <td>22.465000</td>\n",
       "      <td>3.585000</td>\n",
       "      <td>3.542000</td>\n",
       "      <td>15.360000</td>\n",
       "      <td>10.000000</td>\n",
       "      <td>2.000000</td>\n",
       "      <td>1.000000</td>\n",
       "      <td>1.000000</td>\n",
       "      <td>8.000000</td>\n",
       "      <td>23.000000</td>\n",
       "      <td>1.000000</td>\n",
       "      <td>0.000000</td>\n",
       "    </tr>\n",
       "    <tr>\n",
       "      <th>75%</th>\n",
       "      <td>1994.000000</td>\n",
       "      <td>0.000000</td>\n",
       "      <td>6.000000</td>\n",
       "      <td>1.000000</td>\n",
       "      <td>1.034000</td>\n",
       "      <td>22.970000</td>\n",
       "      <td>3.730000</td>\n",
       "      <td>3.640000</td>\n",
       "      <td>15.840000</td>\n",
       "      <td>16.000000</td>\n",
       "      <td>4.000000</td>\n",
       "      <td>3.000000</td>\n",
       "      <td>2.000000</td>\n",
       "      <td>12.000000</td>\n",
       "      <td>34.000000</td>\n",
       "      <td>1.000000</td>\n",
       "      <td>1.000000</td>\n",
       "    </tr>\n",
       "    <tr>\n",
       "      <th>max</th>\n",
       "      <td>1995.000000</td>\n",
       "      <td>1.000000</td>\n",
       "      <td>9.000000</td>\n",
       "      <td>1.000000</td>\n",
       "      <td>4.372000</td>\n",
       "      <td>24.560000</td>\n",
       "      <td>4.250000</td>\n",
       "      <td>4.112000</td>\n",
       "      <td>17.300000</td>\n",
       "      <td>45.000000</td>\n",
       "      <td>20.000000</td>\n",
       "      <td>30.000000</td>\n",
       "      <td>15.000000</td>\n",
       "      <td>31.000000</td>\n",
       "      <td>101.000000</td>\n",
       "      <td>1.000000</td>\n",
       "      <td>1.000000</td>\n",
       "    </tr>\n",
       "  </tbody>\n",
       "</table>\n",
       "</div>"
      ],
      "text/plain": [
       "         STUDYYEAR      MYOPIC         AGE      GENDER       SPHEQ  \\\n",
       "count   618.000000  618.000000  618.000000  618.000000  618.000000   \n",
       "mean   1992.359223    0.131068    6.299353    0.488673    0.801010   \n",
       "std       1.734507    0.337748    0.712950    0.500277    0.625918   \n",
       "min    1990.000000    0.000000    5.000000    0.000000   -0.699000   \n",
       "25%    1991.000000    0.000000    6.000000    0.000000    0.456250   \n",
       "50%    1992.000000    0.000000    6.000000    0.000000    0.729000   \n",
       "75%    1994.000000    0.000000    6.000000    1.000000    1.034000   \n",
       "max    1995.000000    1.000000    9.000000    1.000000    4.372000   \n",
       "\n",
       "               AL         ACD          LT         VCD     SPORTHR      READHR  \\\n",
       "count  618.000000  618.000000  618.000000  618.000000  618.000000  618.000000   \n",
       "mean    22.496780    3.578629    3.541453   15.376780   11.953074    2.796117   \n",
       "std      0.680141    0.230394    0.154519    0.664183    7.968296    3.068191   \n",
       "min     19.900000    2.772000    2.960000   13.380000    0.000000    0.000000   \n",
       "25%     22.040000    3.424000    3.436000   14.930000    6.000000    0.000000   \n",
       "50%     22.465000    3.585000    3.542000   15.360000   10.000000    2.000000   \n",
       "75%     22.970000    3.730000    3.640000   15.840000   16.000000    4.000000   \n",
       "max     24.560000    4.250000    4.112000   17.300000   45.000000   20.000000   \n",
       "\n",
       "           COMPHR     STUDYHR        TVHR   DIOPTERHR       MOMMY       DADMY  \n",
       "count  618.000000  618.000000  618.000000  618.000000  618.000000  618.000000  \n",
       "mean     2.105178    1.490291    8.948220   26.017799    0.506472    0.498382  \n",
       "std      3.056508    2.216207    5.719021   16.031715    0.500363    0.500402  \n",
       "min      0.000000    0.000000    0.000000    2.000000    0.000000    0.000000  \n",
       "25%      0.000000    0.000000    4.250000   15.000000    0.000000    0.000000  \n",
       "50%      1.000000    1.000000    8.000000   23.000000    1.000000    0.000000  \n",
       "75%      3.000000    2.000000   12.000000   34.000000    1.000000    1.000000  \n",
       "max     30.000000   15.000000   31.000000  101.000000    1.000000    1.000000  "
      ]
     },
     "execution_count": 69,
     "metadata": {},
     "output_type": "execute_result"
    }
   ],
   "source": [
    "# Estadísticas básicas de las variables\n",
    "df_7.describe()"
   ]
  },
  {
   "cell_type": "code",
   "execution_count": 70,
   "metadata": {},
   "outputs": [
    {
     "data": {
      "text/plain": [
       "STUDYYEAR    0\n",
       "MYOPIC       0\n",
       "AGE          0\n",
       "GENDER       0\n",
       "SPHEQ        0\n",
       "AL           0\n",
       "ACD          0\n",
       "LT           0\n",
       "VCD          0\n",
       "SPORTHR      0\n",
       "READHR       0\n",
       "COMPHR       0\n",
       "STUDYHR      0\n",
       "TVHR         0\n",
       "DIOPTERHR    0\n",
       "MOMMY        0\n",
       "DADMY        0\n",
       "dtype: int64"
      ]
     },
     "execution_count": 70,
     "metadata": {},
     "output_type": "execute_result"
    }
   ],
   "source": [
    "# Existencia de valores nulos\n",
    "df_7.isna().sum()"
   ]
  },
  {
   "cell_type": "code",
   "execution_count": 71,
   "metadata": {},
   "outputs": [
    {
     "data": {
      "text/plain": [
       "0    537\n",
       "1     81\n",
       "Name: MYOPIC, dtype: int64"
      ]
     },
     "execution_count": 71,
     "metadata": {},
     "output_type": "execute_result"
    }
   ],
   "source": [
    "# Comprobar variable a predecir\n",
    "df_7['MYOPIC'].value_counts()"
   ]
  },
  {
   "cell_type": "markdown",
   "metadata": {},
   "source": [
    "Tras hacer un análisis básico de los datos, se procede a comprobar la colinealidad entre las variables independientes. Para ello, se va a generar una matriz de correlación, de forma que valores supriores a 0.7 o inferiores a -0.7 indicarían una correlación alta, pudiendo ser positiva si el valor de correlación es positivo, y negativo si el valor de correlación es negativo.\n",
    "\n",
    "No se realiza un análisis del factor de inflación de varianza porque en este caso se pide la colinealidad, que se entiende como la relación entre una variable independiente y otra, mientras que en el caso anterior se preguntaba por la multicolinealidad, que es la relación entre una variable independiente y las demás variables independientes."
   ]
  },
  {
   "cell_type": "code",
   "execution_count": 72,
   "metadata": {},
   "outputs": [
    {
     "data": {
      "text/plain": [
       "<matplotlib.axes._subplots.AxesSubplot at 0x7f98d48183d0>"
      ]
     },
     "execution_count": 72,
     "metadata": {},
     "output_type": "execute_result"
    },
    {
     "data": {
      "image/png": "[encoded data removed]",
      "text/plain": [
       "<Figure size 1440x720 with 2 Axes>"
      ]
     },
     "metadata": {
      "needs_background": "light"
     },
     "output_type": "display_data"
    }
   ],
   "source": [
    "# Obtener matriz de correlación\n",
    "fig, ax = plt.subplots(figsize=(20,10)) \n",
    "heatmap(df_7.corr(), annot = True, ax = ax)"
   ]
  },
  {
   "cell_type": "markdown",
   "metadata": {},
   "source": [
    "Se observa una serie de variables que muestran una gran correlación como el caso de las variables AL y ACD, o la variable Diopterhir, por lo que se va a eliminar esta última, y también la variable AL, que muestra una correlación mayor con otras variables que la variable ACD. Una vez eliminadas, se volverá a obtener la matriz de correlación de variables."
   ]
  },
  {
   "cell_type": "code",
   "execution_count": 73,
   "metadata": {},
   "outputs": [],
   "source": [
    "# Eliminar variables\n",
    "df_7.drop(['AL', 'DIOPTERHR'], axis = 1, inplace = True)"
   ]
  },
  {
   "cell_type": "code",
   "execution_count": 74,
   "metadata": {
    "scrolled": true
   },
   "outputs": [
    {
     "data": {
      "text/plain": [
       "<matplotlib.axes._subplots.AxesSubplot at 0x7f98d4d24950>"
      ]
     },
     "execution_count": 74,
     "metadata": {},
     "output_type": "execute_result"
    },
    {
     "data": {
      "image/png": "[encoded data removed]",
      "text/plain": [
       "<Figure size 1440x720 with 2 Axes>"
      ]
     },
     "metadata": {
      "needs_background": "light"
     },
     "output_type": "display_data"
    }
   ],
   "source": [
    "# Obtener nuevamente la matriz de correlación \n",
    "fig, ax = plt.subplots(figsize=(20,10)) \n",
    "heatmap(df_7.corr(), annot = True, ax = ax)"
   ]
  },
  {
   "cell_type": "markdown",
   "metadata": {},
   "source": [
    "No existe ninguna variable que presente una correlación alta con otra variable independiente, siendo la mayor correlación de  -0.45, que se considera moderada y no se decide eliminarla del modelo. También se puede observar que no hay ninguna variable que presente una correlación considerable con la variable a predecir, MYOPIC, siendo la única variable que presenta una correlación superior a 0.2 la variable SPHEQ, por lo que se puede pensar que la predicción de la variable dependiente con los datos de los que se dispone puede ser una tarea compleja, aunque ahora se demostrará."
   ]
  },
  {
   "cell_type": "code",
   "execution_count": 75,
   "metadata": {},
   "outputs": [
    {
     "data": {
      "text/html": [
       "<div>\n",
       "<style scoped>\n",
       "    .dataframe tbody tr th:only-of-type {\n",
       "        vertical-align: middle;\n",
       "    }\n",
       "\n",
       "    .dataframe tbody tr th {\n",
       "        vertical-align: top;\n",
       "    }\n",
       "\n",
       "    .dataframe thead th {\n",
       "        text-align: right;\n",
       "    }\n",
       "</style>\n",
       "<table border=\"1\" class=\"dataframe\">\n",
       "  <thead>\n",
       "    <tr style=\"text-align: right;\">\n",
       "      <th></th>\n",
       "      <th>STUDYYEAR</th>\n",
       "      <th>MYOPIC</th>\n",
       "      <th>AGE</th>\n",
       "      <th>GENDER</th>\n",
       "      <th>SPHEQ</th>\n",
       "      <th>ACD</th>\n",
       "      <th>LT</th>\n",
       "      <th>VCD</th>\n",
       "      <th>SPORTHR</th>\n",
       "      <th>READHR</th>\n",
       "      <th>COMPHR</th>\n",
       "      <th>STUDYHR</th>\n",
       "      <th>TVHR</th>\n",
       "      <th>MOMMY</th>\n",
       "      <th>DADMY</th>\n",
       "    </tr>\n",
       "    <tr>\n",
       "      <th>ID</th>\n",
       "      <th></th>\n",
       "      <th></th>\n",
       "      <th></th>\n",
       "      <th></th>\n",
       "      <th></th>\n",
       "      <th></th>\n",
       "      <th></th>\n",
       "      <th></th>\n",
       "      <th></th>\n",
       "      <th></th>\n",
       "      <th></th>\n",
       "      <th></th>\n",
       "      <th></th>\n",
       "      <th></th>\n",
       "      <th></th>\n",
       "    </tr>\n",
       "  </thead>\n",
       "  <tbody>\n",
       "    <tr>\n",
       "      <th>1</th>\n",
       "      <td>1992</td>\n",
       "      <td>1</td>\n",
       "      <td>6</td>\n",
       "      <td>1</td>\n",
       "      <td>-0.052</td>\n",
       "      <td>3.690</td>\n",
       "      <td>3.498</td>\n",
       "      <td>14.70</td>\n",
       "      <td>45</td>\n",
       "      <td>8</td>\n",
       "      <td>0</td>\n",
       "      <td>0</td>\n",
       "      <td>10</td>\n",
       "      <td>1</td>\n",
       "      <td>1</td>\n",
       "    </tr>\n",
       "    <tr>\n",
       "      <th>2</th>\n",
       "      <td>1995</td>\n",
       "      <td>0</td>\n",
       "      <td>6</td>\n",
       "      <td>1</td>\n",
       "      <td>0.608</td>\n",
       "      <td>3.702</td>\n",
       "      <td>3.392</td>\n",
       "      <td>15.29</td>\n",
       "      <td>4</td>\n",
       "      <td>0</td>\n",
       "      <td>1</td>\n",
       "      <td>1</td>\n",
       "      <td>7</td>\n",
       "      <td>1</td>\n",
       "      <td>1</td>\n",
       "    </tr>\n",
       "    <tr>\n",
       "      <th>3</th>\n",
       "      <td>1991</td>\n",
       "      <td>0</td>\n",
       "      <td>6</td>\n",
       "      <td>1</td>\n",
       "      <td>1.179</td>\n",
       "      <td>3.462</td>\n",
       "      <td>3.514</td>\n",
       "      <td>15.52</td>\n",
       "      <td>14</td>\n",
       "      <td>0</td>\n",
       "      <td>2</td>\n",
       "      <td>0</td>\n",
       "      <td>10</td>\n",
       "      <td>0</td>\n",
       "      <td>0</td>\n",
       "    </tr>\n",
       "    <tr>\n",
       "      <th>4</th>\n",
       "      <td>1990</td>\n",
       "      <td>1</td>\n",
       "      <td>6</td>\n",
       "      <td>1</td>\n",
       "      <td>0.525</td>\n",
       "      <td>3.862</td>\n",
       "      <td>3.612</td>\n",
       "      <td>14.73</td>\n",
       "      <td>18</td>\n",
       "      <td>11</td>\n",
       "      <td>0</td>\n",
       "      <td>0</td>\n",
       "      <td>4</td>\n",
       "      <td>0</td>\n",
       "      <td>1</td>\n",
       "    </tr>\n",
       "    <tr>\n",
       "      <th>5</th>\n",
       "      <td>1995</td>\n",
       "      <td>0</td>\n",
       "      <td>5</td>\n",
       "      <td>0</td>\n",
       "      <td>0.697</td>\n",
       "      <td>3.676</td>\n",
       "      <td>3.454</td>\n",
       "      <td>16.16</td>\n",
       "      <td>14</td>\n",
       "      <td>0</td>\n",
       "      <td>0</td>\n",
       "      <td>0</td>\n",
       "      <td>4</td>\n",
       "      <td>1</td>\n",
       "      <td>0</td>\n",
       "    </tr>\n",
       "  </tbody>\n",
       "</table>\n",
       "</div>"
      ],
      "text/plain": [
       "    STUDYYEAR  MYOPIC  AGE  GENDER  SPHEQ    ACD     LT    VCD  SPORTHR  \\\n",
       "ID                                                                        \n",
       "1        1992       1    6       1 -0.052  3.690  3.498  14.70       45   \n",
       "2        1995       0    6       1  0.608  3.702  3.392  15.29        4   \n",
       "3        1991       0    6       1  1.179  3.462  3.514  15.52       14   \n",
       "4        1990       1    6       1  0.525  3.862  3.612  14.73       18   \n",
       "5        1995       0    5       0  0.697  3.676  3.454  16.16       14   \n",
       "\n",
       "    READHR  COMPHR  STUDYHR  TVHR  MOMMY  DADMY  \n",
       "ID                                               \n",
       "1        8       0        0    10      1      1  \n",
       "2        0       1        1     7      1      1  \n",
       "3        0       2        0    10      0      0  \n",
       "4       11       0        0     4      0      1  \n",
       "5        0       0        0     4      1      0  "
      ]
     },
     "execution_count": 75,
     "metadata": {},
     "output_type": "execute_result"
    }
   ],
   "source": [
    "df_7.head(5)"
   ]
  },
  {
   "cell_type": "markdown",
   "metadata": {},
   "source": [
    "Una vez se ha analizado la colinealidad de las variables, y puesto que no se decide normalizar los datos ya que no es necesario para un modelo de regresión logística, se puede continuar.\n",
    "\n",
    "En el enunciado se menciona también que se eliminen las variables no significativas. Para ello se podría llevar a cabo, por ejemplo, un análisis de la varianza, de forma que las variables cuya varianza sea baja, significará que no varían mucho y, por lo tanto, que no afectan mucho al modelo. \n",
    "\n",
    "Sin embargo, se ha optado por dejar todas las variables, y hacer uso de la función SelectKBest, que escoge las k mejores variables. Por lo tanto, se va a generar una pipeline con la función SelecKBest y con el modelo de Regresión Logística, y se incluirá el parámetro k en el gridsearch de forma que se pueda escoger desde 1 hasta todas las variables, para así generar el modelo con las variables significativas necesarias para maximizar el scoring, que en este caso será el valor por defecto de la función grid search."
   ]
  },
  {
   "cell_type": "code",
   "execution_count": 76,
   "metadata": {},
   "outputs": [],
   "source": [
    "# Obtener conjuntos de entrenamiento y test\n",
    "y_7 = df_7['MYOPIC'].values\n",
    "X_7 = df_7.drop('MYOPIC', axis = 1).values\n",
    "\n",
    "X_train_7, X_test_7, y_train_7, y_test_7 = train_test_split(X_7, y_7, test_size = 0.35)"
   ]
  },
  {
   "cell_type": "code",
   "execution_count": 77,
   "metadata": {},
   "outputs": [
    {
     "data": {
      "text/plain": [
       "GridSearchCV(cv=10, error_score=nan,\n",
       "             estimator=Pipeline(memory=None,\n",
       "                                steps=[('kbest',\n",
       "                                        SelectKBest(k=10,\n",
       "                                                    score_func=<function f_classif at 0x7f98d4920b00>)),\n",
       "                                       ('lr',\n",
       "                                        LogisticRegression(C=1.0,\n",
       "                                                           class_weight=None,\n",
       "                                                           dual=False,\n",
       "                                                           fit_intercept=True,\n",
       "                                                           intercept_scaling=1,\n",
       "                                                           l1_ratio=None,\n",
       "                                                           max_iter=100,\n",
       "                                                           multi_class='auto',\n",
       "                                                           n_jobs=None,\n",
       "                                                           penalty='l2',\n",
       "                                                           random_state=1293,\n",
       "                                                           solver='lbfgs',\n",
       "                                                           tol=0.0001,\n",
       "                                                           verbose=0,\n",
       "                                                           warm_start=False))],\n",
       "                                verbose=False),\n",
       "             iid='deprecated', n_jobs=None,\n",
       "             param_grid={'kbest__k': array([ 1,  2,  3,  4,  5,  6,  7,  8,  9, 10, 11, 12, 13, 14]),\n",
       "                         'lr__C': array([0.5, 1. , 1.5, 2. , 2.5, 3. , 3.5, 4. , 4.5, 5. , 5.5, 6. , 6.5,\n",
       "       7. , 7.5, 8. , 8.5, 9. , 9.5])},\n",
       "             pre_dispatch='2*n_jobs', refit=True, return_train_score=False,\n",
       "             scoring=None, verbose=0)"
      ]
     },
     "execution_count": 77,
     "metadata": {},
     "output_type": "execute_result"
    }
   ],
   "source": [
    "# Generar la pipeline con la regresión logística y el KBest\n",
    "pipeline = Pipeline([('kbest', SelectKBest(f_classif)), ('lr', LogisticRegression(random_state=seed))]) \n",
    "\n",
    "# Generar el grid search\n",
    "grid_search = GridSearchCV(pipeline, \n",
    "                           param_grid = {'kbest__k': np.arange(1,15), \n",
    "                                         'lr__C': np.arange(0.5, 10, 0.5)},\n",
    "                           cv = 10)\n",
    "grid_search.fit(X_train_7, y_train_7)"
   ]
  },
  {
   "cell_type": "code",
   "execution_count": 78,
   "metadata": {},
   "outputs": [
    {
     "name": "stdout",
     "output_type": "stream",
     "text": [
      "El modelo final se calcula con un conjunto de datos que contiene 11 variables significativas, y el parámetro\n",
      "C de la regresión logística es igual a 1.0.\n"
     ]
    }
   ],
   "source": [
    "parametros = grid_search.best_params_\n",
    "\n",
    "print(\"\"\"El modelo final se calcula con un conjunto de datos que contiene {} variables significativas, y el parámetro\n",
    "C de la regresión logística es igual a {}.\"\"\".format(parametros['kbest__k'], parametros['lr__C']))"
   ]
  },
  {
   "cell_type": "markdown",
   "metadata": {},
   "source": [
    "Para evaluar el modelo final se calculan las métricas tanto para la parte de entrenameinto como de test:"
   ]
  },
  {
   "cell_type": "code",
   "execution_count": 79,
   "metadata": {},
   "outputs": [
    {
     "data": {
      "text/html": [
       "<div>\n",
       "<style scoped>\n",
       "    .dataframe tbody tr th:only-of-type {\n",
       "        vertical-align: middle;\n",
       "    }\n",
       "\n",
       "    .dataframe tbody tr th {\n",
       "        vertical-align: top;\n",
       "    }\n",
       "\n",
       "    .dataframe thead th {\n",
       "        text-align: right;\n",
       "    }\n",
       "</style>\n",
       "<table border=\"1\" class=\"dataframe\">\n",
       "  <thead>\n",
       "    <tr style=\"text-align: right;\">\n",
       "      <th></th>\n",
       "      <th>Precisión</th>\n",
       "      <th>Exactitud</th>\n",
       "      <th>Exhaustividad</th>\n",
       "    </tr>\n",
       "  </thead>\n",
       "  <tbody>\n",
       "    <tr>\n",
       "      <th>Training</th>\n",
       "      <td>0.905237</td>\n",
       "      <td>0.807692</td>\n",
       "      <td>0.388889</td>\n",
       "    </tr>\n",
       "    <tr>\n",
       "      <th>Test</th>\n",
       "      <td>0.880184</td>\n",
       "      <td>0.538462</td>\n",
       "      <td>0.259259</td>\n",
       "    </tr>\n",
       "  </tbody>\n",
       "</table>\n",
       "</div>"
      ],
      "text/plain": [
       "          Precisión  Exactitud  Exhaustividad\n",
       "Training   0.905237   0.807692       0.388889\n",
       "Test       0.880184   0.538462       0.259259"
      ]
     },
     "execution_count": 79,
     "metadata": {},
     "output_type": "execute_result"
    }
   ],
   "source": [
    "rows_7 = ['Training', 'Test']\n",
    "columns_7 = ['Precisión', 'Exactitud', 'Exhaustividad']\n",
    "\n",
    "y_pred_test_7 = grid_search.predict(X_test_7)\n",
    "y_pred_train_7 = grid_search.predict(X_train_7)\n",
    "\n",
    "\n",
    "array_metrics_7 = np.array([[accuracy_score(y_train_7,y_pred_train_7), precision_score(y_train_7,y_pred_train_7), \n",
    "                          recall_score(y_train_7,y_pred_train_7)],\n",
    "                           [accuracy_score(y_test_7,y_pred_test_7), precision_score(y_test_7,y_pred_test_7), \n",
    "                          recall_score(y_test_7,y_pred_test_7)]])\n",
    "\n",
    "df_metrics_7 = pd.DataFrame(data=array_metrics_7, index=rows_7, columns=columns_7)\n",
    "df_metrics_7"
   ]
  },
  {
   "cell_type": "markdown",
   "metadata": {},
   "source": [
    "Para aportar más información a las métricas ya generadas, se va a calcular la matriz de confusión para la parte de test."
   ]
  },
  {
   "cell_type": "code",
   "execution_count": 80,
   "metadata": {},
   "outputs": [
    {
     "data": {
      "text/html": [
       "<div>\n",
       "<style scoped>\n",
       "    .dataframe tbody tr th:only-of-type {\n",
       "        vertical-align: middle;\n",
       "    }\n",
       "\n",
       "    .dataframe tbody tr th {\n",
       "        vertical-align: top;\n",
       "    }\n",
       "\n",
       "    .dataframe thead th {\n",
       "        text-align: right;\n",
       "    }\n",
       "</style>\n",
       "<table border=\"1\" class=\"dataframe\">\n",
       "  <thead>\n",
       "    <tr style=\"text-align: right;\">\n",
       "      <th></th>\n",
       "      <th>Actual Negative</th>\n",
       "      <th>Actual Positive</th>\n",
       "    </tr>\n",
       "  </thead>\n",
       "  <tbody>\n",
       "    <tr>\n",
       "      <th>Pred Negative</th>\n",
       "      <td>184</td>\n",
       "      <td>6</td>\n",
       "    </tr>\n",
       "    <tr>\n",
       "      <th>Pred Positive</th>\n",
       "      <td>20</td>\n",
       "      <td>7</td>\n",
       "    </tr>\n",
       "  </tbody>\n",
       "</table>\n",
       "</div>"
      ],
      "text/plain": [
       "               Actual Negative  Actual Positive\n",
       "Pred Negative              184                6\n",
       "Pred Positive               20                7"
      ]
     },
     "execution_count": 80,
     "metadata": {},
     "output_type": "execute_result"
    }
   ],
   "source": [
    "rows_7 = ['Pred Negative', 'Pred Positive']\n",
    "columns_7 = ['Actual Negative', 'Actual Positive']\n",
    "data_7 = confusion_matrix(y_test_7,y_pred_test_7)\n",
    "\n",
    "pd.DataFrame(data = data_7, columns = columns_7, index = rows_7)"
   ]
  },
  {
   "cell_type": "markdown",
   "metadata": {},
   "source": [
    "La matriz de confusión nos ayuda a entender los resultados expuestos en la tabla anterior que recogía las métricas de precisión, exactitud y exhaustividad de la siguiente forma:\n",
    "\n",
    "* La precisión es alta porque hay un gran número de valores negativoa que se han clasificado correctamente, y al ser esta la clase mayoritaria, la métrica tiene un valor alto.\n",
    "\n",
    "* La exactitud ya demuestra que hay algún problema, ya que no es un valor alto, ya que de los 18 valores positivos que hay, solo clasifica correctamente 11.\n",
    "\n",
    "* En la exhaustividad es donde se ve el principal problema de forma que la mayoría de las predicciones positivas no lo eran, por lo que demuestra un bajo acierto en la predicción positiva.\n",
    "\n",
    "\n",
    "Por lo tanto, se observa que la mayoría de las predicciones realizadas han sido correctas ya que la gran mayoría de los valores eran negativos, pero la exactitud y la exhaustividad demuestran que el modelo no tiene capacidad predictora ya que no es capaz de predecir con exactitud los valores positivos. Esto se puede deber a:\n",
    "\n",
    "* La baja correlación entre las variables independientes y la dependiente de forma que no se encuentran patrones para poder predecir el valor de la miopía en base a las variables aportadas.\n",
    "\n",
    "* El desbalanceamiento que se aprecia en la variable dependiente, ya que más de un 85% de los datos pertenecen a la clase de no miopía, por lo que los registros con miopía positiva son muy escasos, y el modelo no es capaz de predecir correctamente. Para este problema, se podría intentar balancear el conjunto de datos eliminando valores de la clase 0, lo cual sería perjudicial porque no hay muchos registros, generando valores de la clase 1 a partir de los datos que ya se tienen, pero se crearía registros artificiales, que tampoco es recomendable para un estudio, o buscar más datos, que sería lo óptimo, ya qu eobteniendo más registros, incluso aunque se mantuvieran las clases desbalanceadas, podría haber suficientes registros con miopía positiva para que el modelo pudiera encontrar patrones que mejoraran la capacidad predictora del mismo.\n",
    "\n",
    "Se podrían haber llevado a cabo otras técnicas como normalizar los datos, o hace un VIF previo para seleccionar las características, pero debido a que se entiende que los problemas se encuentran en el dataset, por el escaso número de registros y lo desbalanceada que se encuentra la clase a predecir, se entiende que no mejorarían mucho los resultados, y las conclusiones finales serían las mismas."
   ]
  }
 ],
 "metadata": {
  "kernelspec": {
   "display_name": "Python 3",
   "language": "python",
   "name": "python3"
  },
  "language_info": {
   "codemirror_mode": {
    "name": "ipython",
    "version": 3
   },
   "file_extension": ".py",
   "mimetype": "text/x-python",
   "name": "python",
   "nbconvert_exporter": "python",
   "pygments_lexer": "ipython3",
   "version": "3.7.6"
  }
 },
 "nbformat": 4,
 "nbformat_minor": 4
}
