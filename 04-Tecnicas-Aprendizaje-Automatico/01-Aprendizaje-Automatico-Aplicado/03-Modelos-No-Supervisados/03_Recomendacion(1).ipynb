{
 "cells": [
  {
   "cell_type": "markdown",
   "metadata": {},
   "source": [
    "# Motores de recomendación"
   ]
  },
  {
   "cell_type": "code",
   "execution_count": 1,
   "metadata": {},
   "outputs": [
    {
     "name": "stdout",
     "output_type": "stream",
     "text": [
      "Using matplotlib backend: MacOSX\n",
      "Populating the interactive namespace from numpy and matplotlib\n"
     ]
    }
   ],
   "source": [
    "%pylab\n",
    "%matplotlib inline\n",
    "\n",
    "%config InlineBackend.figure_format = 'retina'"
   ]
  },
  {
   "cell_type": "markdown",
   "metadata": {},
   "source": [
    "Se importan los datos de un página web de recomendaciones de cervezas"
   ]
  },
  {
   "cell_type": "code",
   "execution_count": 3,
   "metadata": {},
   "outputs": [
    {
     "name": "stdout",
     "output_type": "stream",
     "text": [
      "(1586614, 13)\n"
     ]
    },
    {
     "data": {
      "text/html": [
       "<div>\n",
       "<style scoped>\n",
       "    .dataframe tbody tr th:only-of-type {\n",
       "        vertical-align: middle;\n",
       "    }\n",
       "\n",
       "    .dataframe tbody tr th {\n",
       "        vertical-align: top;\n",
       "    }\n",
       "\n",
       "    .dataframe thead th {\n",
       "        text-align: right;\n",
       "    }\n",
       "</style>\n",
       "<table border=\"1\" class=\"dataframe\">\n",
       "  <thead>\n",
       "    <tr style=\"text-align: right;\">\n",
       "      <th></th>\n",
       "      <th>brewery_id</th>\n",
       "      <th>brewery_name</th>\n",
       "      <th>review_time</th>\n",
       "      <th>review_overall</th>\n",
       "      <th>review_aroma</th>\n",
       "      <th>review_appearance</th>\n",
       "      <th>review_profilename</th>\n",
       "      <th>beer_style</th>\n",
       "      <th>review_palate</th>\n",
       "      <th>review_taste</th>\n",
       "      <th>beer_name</th>\n",
       "      <th>beer_abv</th>\n",
       "      <th>beer_beerid</th>\n",
       "    </tr>\n",
       "  </thead>\n",
       "  <tbody>\n",
       "    <tr>\n",
       "      <th>0</th>\n",
       "      <td>10325</td>\n",
       "      <td>Vecchio Birraio</td>\n",
       "      <td>1234817823</td>\n",
       "      <td>1.5</td>\n",
       "      <td>2.0</td>\n",
       "      <td>2.5</td>\n",
       "      <td>stcules</td>\n",
       "      <td>Hefeweizen</td>\n",
       "      <td>1.5</td>\n",
       "      <td>1.5</td>\n",
       "      <td>Sausa Weizen</td>\n",
       "      <td>5.0</td>\n",
       "      <td>47986</td>\n",
       "    </tr>\n",
       "    <tr>\n",
       "      <th>1</th>\n",
       "      <td>10325</td>\n",
       "      <td>Vecchio Birraio</td>\n",
       "      <td>1235915097</td>\n",
       "      <td>3.0</td>\n",
       "      <td>2.5</td>\n",
       "      <td>3.0</td>\n",
       "      <td>stcules</td>\n",
       "      <td>English Strong Ale</td>\n",
       "      <td>3.0</td>\n",
       "      <td>3.0</td>\n",
       "      <td>Red Moon</td>\n",
       "      <td>6.2</td>\n",
       "      <td>48213</td>\n",
       "    </tr>\n",
       "    <tr>\n",
       "      <th>2</th>\n",
       "      <td>10325</td>\n",
       "      <td>Vecchio Birraio</td>\n",
       "      <td>1235916604</td>\n",
       "      <td>3.0</td>\n",
       "      <td>2.5</td>\n",
       "      <td>3.0</td>\n",
       "      <td>stcules</td>\n",
       "      <td>Foreign / Export Stout</td>\n",
       "      <td>3.0</td>\n",
       "      <td>3.0</td>\n",
       "      <td>Black Horse Black Beer</td>\n",
       "      <td>6.5</td>\n",
       "      <td>48215</td>\n",
       "    </tr>\n",
       "    <tr>\n",
       "      <th>3</th>\n",
       "      <td>10325</td>\n",
       "      <td>Vecchio Birraio</td>\n",
       "      <td>1234725145</td>\n",
       "      <td>3.0</td>\n",
       "      <td>3.0</td>\n",
       "      <td>3.5</td>\n",
       "      <td>stcules</td>\n",
       "      <td>German Pilsener</td>\n",
       "      <td>2.5</td>\n",
       "      <td>3.0</td>\n",
       "      <td>Sausa Pils</td>\n",
       "      <td>5.0</td>\n",
       "      <td>47969</td>\n",
       "    </tr>\n",
       "    <tr>\n",
       "      <th>4</th>\n",
       "      <td>1075</td>\n",
       "      <td>Caldera Brewing Company</td>\n",
       "      <td>1293735206</td>\n",
       "      <td>4.0</td>\n",
       "      <td>4.5</td>\n",
       "      <td>4.0</td>\n",
       "      <td>johnmichaelsen</td>\n",
       "      <td>American Double / Imperial IPA</td>\n",
       "      <td>4.0</td>\n",
       "      <td>4.5</td>\n",
       "      <td>Cauldron DIPA</td>\n",
       "      <td>7.7</td>\n",
       "      <td>64883</td>\n",
       "    </tr>\n",
       "  </tbody>\n",
       "</table>\n",
       "</div>"
      ],
      "text/plain": [
       "   brewery_id             brewery_name  review_time  review_overall  \\\n",
       "0       10325          Vecchio Birraio   1234817823             1.5   \n",
       "1       10325          Vecchio Birraio   1235915097             3.0   \n",
       "2       10325          Vecchio Birraio   1235916604             3.0   \n",
       "3       10325          Vecchio Birraio   1234725145             3.0   \n",
       "4        1075  Caldera Brewing Company   1293735206             4.0   \n",
       "\n",
       "   review_aroma  review_appearance review_profilename  \\\n",
       "0           2.0                2.5            stcules   \n",
       "1           2.5                3.0            stcules   \n",
       "2           2.5                3.0            stcules   \n",
       "3           3.0                3.5            stcules   \n",
       "4           4.5                4.0     johnmichaelsen   \n",
       "\n",
       "                       beer_style  review_palate  review_taste  \\\n",
       "0                      Hefeweizen            1.5           1.5   \n",
       "1              English Strong Ale            3.0           3.0   \n",
       "2          Foreign / Export Stout            3.0           3.0   \n",
       "3                 German Pilsener            2.5           3.0   \n",
       "4  American Double / Imperial IPA            4.0           4.5   \n",
       "\n",
       "                beer_name  beer_abv  beer_beerid  \n",
       "0            Sausa Weizen       5.0        47986  \n",
       "1                Red Moon       6.2        48213  \n",
       "2  Black Horse Black Beer       6.5        48215  \n",
       "3              Sausa Pils       5.0        47969  \n",
       "4           Cauldron DIPA       7.7        64883  "
      ]
     },
     "execution_count": 3,
     "metadata": {},
     "output_type": "execute_result"
    }
   ],
   "source": [
    "import pandas as pd\n",
    "\n",
    "beer_reviews = pd.read_csv(\"beer_reviews.csv.bz2\", compression = \"bz2\")\n",
    "\n",
    "print(shape(beer_reviews))\n",
    "beer_reviews.head()"
   ]
  },
  {
   "cell_type": "code",
   "execution_count": 4,
   "metadata": {},
   "outputs": [],
   "source": [
    "beer_reviews['review_profilename'] = beer_reviews['review_profilename'].astype(str)"
   ]
  },
  {
   "cell_type": "markdown",
   "metadata": {},
   "source": [
    "# Filtado de los datos\n",
    "\n",
    "Para acelerar los cálculos se utilizan solamente las cervezas que tienen más de 1800 evaluaciones y los usuarios con más de 5 evaluaciones"
   ]
  },
  {
   "cell_type": "code",
   "execution_count": 5,
   "metadata": {},
   "outputs": [
    {
     "data": {
      "text/html": [
       "<div>\n",
       "<style scoped>\n",
       "    .dataframe tbody tr th:only-of-type {\n",
       "        vertical-align: middle;\n",
       "    }\n",
       "\n",
       "    .dataframe tbody tr th {\n",
       "        vertical-align: top;\n",
       "    }\n",
       "\n",
       "    .dataframe thead th {\n",
       "        text-align: right;\n",
       "    }\n",
       "</style>\n",
       "<table border=\"1\" class=\"dataframe\">\n",
       "  <thead>\n",
       "    <tr style=\"text-align: right;\">\n",
       "      <th></th>\n",
       "      <th>beer_name</th>\n",
       "      <th>review_profilename</th>\n",
       "      <th>review_overall</th>\n",
       "      <th>review_aroma</th>\n",
       "      <th>review_palate</th>\n",
       "      <th>review_taste</th>\n",
       "      <th>review_appearance</th>\n",
       "    </tr>\n",
       "  </thead>\n",
       "  <tbody>\n",
       "    <tr>\n",
       "      <th>798</th>\n",
       "      <td>Imperial Stout</td>\n",
       "      <td>grumpy</td>\n",
       "      <td>4.5</td>\n",
       "      <td>4.5</td>\n",
       "      <td>4.0</td>\n",
       "      <td>4.5</td>\n",
       "      <td>4.0</td>\n",
       "    </tr>\n",
       "    <tr>\n",
       "      <th>1559</th>\n",
       "      <td>Pale Ale</td>\n",
       "      <td>blitheringidiot</td>\n",
       "      <td>4.0</td>\n",
       "      <td>3.5</td>\n",
       "      <td>3.5</td>\n",
       "      <td>3.5</td>\n",
       "      <td>4.0</td>\n",
       "    </tr>\n",
       "    <tr>\n",
       "      <th>1560</th>\n",
       "      <td>Pale Ale</td>\n",
       "      <td>NeroFiddled</td>\n",
       "      <td>4.0</td>\n",
       "      <td>2.5</td>\n",
       "      <td>4.0</td>\n",
       "      <td>3.5</td>\n",
       "      <td>4.0</td>\n",
       "    </tr>\n",
       "    <tr>\n",
       "      <th>2225</th>\n",
       "      <td>Pale Ale</td>\n",
       "      <td>DaPeculierDane</td>\n",
       "      <td>3.0</td>\n",
       "      <td>1.5</td>\n",
       "      <td>2.0</td>\n",
       "      <td>1.5</td>\n",
       "      <td>4.5</td>\n",
       "    </tr>\n",
       "    <tr>\n",
       "      <th>2382</th>\n",
       "      <td>Pale Ale</td>\n",
       "      <td>brewerburgundy</td>\n",
       "      <td>3.0</td>\n",
       "      <td>3.0</td>\n",
       "      <td>3.0</td>\n",
       "      <td>3.5</td>\n",
       "      <td>4.0</td>\n",
       "    </tr>\n",
       "  </tbody>\n",
       "</table>\n",
       "</div>"
      ],
      "text/plain": [
       "           beer_name review_profilename  review_overall  review_aroma  \\\n",
       "798   Imperial Stout             grumpy             4.5           4.5   \n",
       "1559        Pale Ale    blitheringidiot             4.0           3.5   \n",
       "1560        Pale Ale        NeroFiddled             4.0           2.5   \n",
       "2225        Pale Ale     DaPeculierDane             3.0           1.5   \n",
       "2382        Pale Ale     brewerburgundy             3.0           3.0   \n",
       "\n",
       "      review_palate  review_taste  review_appearance  \n",
       "798             4.0           4.5                4.0  \n",
       "1559            3.5           3.5                4.0  \n",
       "1560            4.0           3.5                4.0  \n",
       "2225            2.0           1.5                4.5  \n",
       "2382            3.0           3.5                4.0  "
      ]
     },
     "execution_count": 5,
     "metadata": {},
     "output_type": "execute_result"
    }
   ],
   "source": [
    "reviews_by_beer = beer_reviews.groupby(['beer_name']).apply(lambda x: len(x))\n",
    "reviews_by_beer = reviews_by_beer[reviews_by_beer > 1800].index.tolist()\n",
    "\n",
    "reviews_by_user = beer_reviews.groupby(['review_profilename']).apply(lambda x: len(x))\n",
    "reviews_by_user = reviews_by_user[reviews_by_user > 5].index.tolist()\n",
    "\n",
    "mask = (beer_reviews.beer_name.isin(reviews_by_beer)) & (beer_reviews.review_profilename.isin(reviews_by_user))\n",
    "\n",
    "beer_reviews = beer_reviews[['beer_name', 'review_profilename', 'review_overall', 'review_aroma', 'review_palate', 'review_taste', 'review_appearance']][mask]\n",
    "beer_reviews.head()"
   ]
  },
  {
   "cell_type": "markdown",
   "metadata": {},
   "source": [
    "## Funciones\n",
    "\n",
    "### Obtención de la evaluación de cervezas"
   ]
  },
  {
   "cell_type": "code",
   "execution_count": 6,
   "metadata": {},
   "outputs": [
    {
     "data": {
      "text/html": [
       "<div>\n",
       "<style scoped>\n",
       "    .dataframe tbody tr th:only-of-type {\n",
       "        vertical-align: middle;\n",
       "    }\n",
       "\n",
       "    .dataframe tbody tr th {\n",
       "        vertical-align: top;\n",
       "    }\n",
       "\n",
       "    .dataframe thead th {\n",
       "        text-align: right;\n",
       "    }\n",
       "</style>\n",
       "<table border=\"1\" class=\"dataframe\">\n",
       "  <thead>\n",
       "    <tr style=\"text-align: right;\">\n",
       "      <th></th>\n",
       "      <th>beer_name</th>\n",
       "      <th>review_profilename</th>\n",
       "      <th>review_overall</th>\n",
       "      <th>review_aroma</th>\n",
       "      <th>review_palate</th>\n",
       "      <th>review_taste</th>\n",
       "      <th>review_appearance</th>\n",
       "    </tr>\n",
       "  </thead>\n",
       "  <tbody>\n",
       "    <tr>\n",
       "      <th>1559</th>\n",
       "      <td>Pale Ale</td>\n",
       "      <td>blitheringidiot</td>\n",
       "      <td>4.0</td>\n",
       "      <td>3.5</td>\n",
       "      <td>3.5</td>\n",
       "      <td>3.5</td>\n",
       "      <td>4.0</td>\n",
       "    </tr>\n",
       "    <tr>\n",
       "      <th>1560</th>\n",
       "      <td>Pale Ale</td>\n",
       "      <td>NeroFiddled</td>\n",
       "      <td>4.0</td>\n",
       "      <td>2.5</td>\n",
       "      <td>4.0</td>\n",
       "      <td>3.5</td>\n",
       "      <td>4.0</td>\n",
       "    </tr>\n",
       "  </tbody>\n",
       "</table>\n",
       "</div>"
      ],
      "text/plain": [
       "     beer_name review_profilename  review_overall  review_aroma  \\\n",
       "1559  Pale Ale    blitheringidiot             4.0           3.5   \n",
       "1560  Pale Ale        NeroFiddled             4.0           2.5   \n",
       "\n",
       "      review_palate  review_taste  review_appearance  \n",
       "1559            3.5           3.5                4.0  \n",
       "1560            4.0           3.5                4.0  "
      ]
     },
     "execution_count": 6,
     "metadata": {},
     "output_type": "execute_result"
    }
   ],
   "source": [
    "def get_beer_reviews(beer, users):\n",
    "    reviews = beer_reviews[(beer_reviews.review_profilename.isin(users)) & (beer_reviews.beer_name == beer)]\n",
    "    reviews = reviews[reviews.review_profilename.duplicated() == False]\n",
    "    return reviews\n",
    "\n",
    "get_beer_reviews('Pale Ale', ['blitheringidiot', 'NeroFiddled'])"
   ]
  },
  {
   "cell_type": "markdown",
   "metadata": {},
   "source": [
    "### Similaritud"
   ]
  },
  {
   "cell_type": "code",
   "execution_count": 8,
   "metadata": {},
   "outputs": [
    {
     "name": "stdout",
     "output_type": "stream",
     "text": [
      "[23.323807579381203]\n",
      "[427.0]\n",
      "[0.03030021850243525]\n",
      "[-0.017235126331882216]\n"
     ]
    }
   ],
   "source": [
    "from sklearn.metrics.pairwise import euclidean_distances\n",
    "from sklearn.metrics.pairwise import manhattan_distances\n",
    "from sklearn.metrics.pairwise import cosine_distances\n",
    "from scipy.stats.stats import pearsonr\n",
    "\n",
    "def calculate_similarity(beer1, beer2, features = ['review_overall'], distance = 'euclidean'):\n",
    "    beer_1_reviewers = beer_reviews[beer_reviews.beer_name==beer1].review_profilename.unique()\n",
    "    beer_2_reviewers = beer_reviews[beer_reviews.beer_name==beer2].review_profilename.unique()\n",
    "    common_reviewers = set(beer_1_reviewers).intersection(beer_2_reviewers)\n",
    "    \n",
    "    beer_1_reviews = get_beer_reviews(beer1, common_reviewers)\n",
    "    beer_2_reviews = get_beer_reviews(beer2, common_reviewers)\n",
    "    \n",
    "    dists = []\n",
    "    for f in features:\n",
    "        review_1 = beer_1_reviews[f].values.reshape(1, -1)\n",
    "        review_2 = beer_2_reviews[f].values.reshape(1, -1)\n",
    "        if distance == 'euclidean':\n",
    "            dists.append(euclidean_distances(review_1, review_2)[0][0])\n",
    "        elif distance == 'manhattan':\n",
    "            dists.append(manhattan_distances(review_1, review_2)[0][0])\n",
    "        elif distance == 'cosine':\n",
    "            dists.append(cosine_distances(review_1, review_2)[0][0])\n",
    "        elif distance == 'pearsonr':\n",
    "            dists.append(pearsonr(beer_1_reviews[f], beer_2_reviews[f])[0])\n",
    "        else:\n",
    "            dists.append(euclidean_distances(review_1, review_2)[0][0])\n",
    "    \n",
    "    return dists\n",
    "\n",
    "print(calculate_similarity('Pale Ale', 'Imperial Stout', distance = 'euclidean'))\n",
    "print(calculate_similarity('Pale Ale', 'Imperial Stout', distance = 'manhattan'))\n",
    "print(calculate_similarity('Pale Ale', 'Imperial Stout', distance = 'cosine'))\n",
    "print(calculate_similarity('Pale Ale', 'Imperial Stout', distance = 'pearsonr'))"
   ]
  },
  {
   "cell_type": "code",
   "execution_count": 9,
   "metadata": {},
   "outputs": [
    {
     "name": "stdout",
     "output_type": "stream",
     "text": [
      "[22.38302928559939]\n",
      "[423.0]\n",
      "[0.018435759699908738]\n",
      "[0.06688644957714024]\n"
     ]
    }
   ],
   "source": [
    "print(calculate_similarity('Pale Ale', 'Imperial Stout', features = ['review_aroma'], distance = 'euclidean'))\n",
    "print(calculate_similarity('Pale Ale', 'Imperial Stout', features = ['review_aroma'], distance = 'manhattan'))\n",
    "print(calculate_similarity('Pale Ale', 'Imperial Stout', features = ['review_aroma'], distance = 'cosine'))\n",
    "print(calculate_similarity('Pale Ale', 'Imperial Stout', features = ['review_aroma'], distance = 'pearsonr'))"
   ]
  },
  {
   "cell_type": "code",
   "execution_count": 10,
   "metadata": {},
   "outputs": [
    {
     "name": "stdout",
     "output_type": "stream",
     "text": [
      "[23.323807579381203, 22.38302928559939]\n",
      "[427.0, 423.0]\n",
      "[0.03030021850243525, 0.018435759699908738]\n",
      "[-0.017235126331882216, 0.06688644957714024]\n"
     ]
    }
   ],
   "source": [
    "print(calculate_similarity('Pale Ale', 'Imperial Stout', features = ['review_overall', 'review_aroma'], distance = 'euclidean'))\n",
    "print(calculate_similarity('Pale Ale', 'Imperial Stout', features = ['review_overall', 'review_aroma'], distance = 'manhattan'))\n",
    "print(calculate_similarity('Pale Ale', 'Imperial Stout', features = ['review_overall', 'review_aroma'], distance = 'cosine'))\n",
    "print(calculate_similarity('Pale Ale', 'Imperial Stout', features = ['review_overall', 'review_aroma'], distance = 'pearsonr'))"
   ]
  },
  {
   "cell_type": "markdown",
   "metadata": {},
   "source": [
    "# Sistema de recomendación por similaritud"
   ]
  },
  {
   "cell_type": "code",
   "execution_count": 11,
   "metadata": {},
   "outputs": [
    {
     "data": {
      "text/html": [
       "<div>\n",
       "<style scoped>\n",
       "    .dataframe tbody tr th:only-of-type {\n",
       "        vertical-align: middle;\n",
       "    }\n",
       "\n",
       "    .dataframe tbody tr th {\n",
       "        vertical-align: top;\n",
       "    }\n",
       "\n",
       "    .dataframe thead th {\n",
       "        text-align: right;\n",
       "    }\n",
       "</style>\n",
       "<table border=\"1\" class=\"dataframe\">\n",
       "  <thead>\n",
       "    <tr style=\"text-align: right;\">\n",
       "      <th></th>\n",
       "      <th>beer1</th>\n",
       "      <th>beer2</th>\n",
       "      <th>overall_dist</th>\n",
       "    </tr>\n",
       "  </thead>\n",
       "  <tbody>\n",
       "    <tr>\n",
       "      <th>816</th>\n",
       "      <td>Weihenstephaner Hefeweissbier</td>\n",
       "      <td>Pliny The Elder</td>\n",
       "      <td>17.080691</td>\n",
       "    </tr>\n",
       "    <tr>\n",
       "      <th>704</th>\n",
       "      <td>Tröegs Nugget Nectar</td>\n",
       "      <td>Samuel Smith's Oatmeal Stout</td>\n",
       "      <td>17.190113</td>\n",
       "    </tr>\n",
       "    <tr>\n",
       "      <th>350</th>\n",
       "      <td>Sierra Nevada Pale Ale</td>\n",
       "      <td>Tröegs Nugget Nectar</td>\n",
       "      <td>17.712990</td>\n",
       "    </tr>\n",
       "    <tr>\n",
       "      <th>504</th>\n",
       "      <td>Chimay Grande Réserve (Blue)</td>\n",
       "      <td>Bell's Hopslam Ale</td>\n",
       "      <td>18.041619</td>\n",
       "    </tr>\n",
       "    <tr>\n",
       "      <th>706</th>\n",
       "      <td>Tröegs Nugget Nectar</td>\n",
       "      <td>Weihenstephaner Hefeweissbier</td>\n",
       "      <td>18.069311</td>\n",
       "    </tr>\n",
       "  </tbody>\n",
       "</table>\n",
       "</div>"
      ],
      "text/plain": [
       "                             beer1                          beer2  \\\n",
       "816  Weihenstephaner Hefeweissbier                Pliny The Elder   \n",
       "704           Tröegs Nugget Nectar   Samuel Smith's Oatmeal Stout   \n",
       "350         Sierra Nevada Pale Ale           Tröegs Nugget Nectar   \n",
       "504   Chimay Grande Réserve (Blue)             Bell's Hopslam Ale   \n",
       "706           Tröegs Nugget Nectar  Weihenstephaner Hefeweissbier   \n",
       "\n",
       "     overall_dist  \n",
       "816     17.080691  \n",
       "704     17.190113  \n",
       "350     17.712990  \n",
       "504     18.041619  \n",
       "706     18.069311  "
      ]
     },
     "execution_count": 11,
     "metadata": {},
     "output_type": "execute_result"
    }
   ],
   "source": [
    "unique_beer          = beer_reviews.beer_name.unique();\n",
    "num_beer             = len(unique_beer) \n",
    "euclidean_similarity = []\n",
    "\n",
    "for id_1 in range(0, num_beer - 1):\n",
    "    for id_2 in range(id_1 + 1, num_beer):\n",
    "        beer_1 = unique_beer[id_1]\n",
    "        beer_2 = unique_beer[id_2]\n",
    "        euclidean_similarity.append([beer_1, beer_2] + calculate_similarity(beer_1, beer_2))\n",
    "\n",
    "euclidean_similarity = pd.DataFrame(euclidean_similarity,\n",
    "                                    columns = [\"beer1\", \"beer2\", \"overall_dist\"])\n",
    "euclidean_similarity = euclidean_similarity.sort_values(by = 'overall_dist', ascending = True)\n",
    "\n",
    "euclidean_similarity.head()"
   ]
  },
  {
   "cell_type": "code",
   "execution_count": 12,
   "metadata": {},
   "outputs": [
    {
     "data": {
      "text/html": [
       "<div>\n",
       "<style scoped>\n",
       "    .dataframe tbody tr th:only-of-type {\n",
       "        vertical-align: middle;\n",
       "    }\n",
       "\n",
       "    .dataframe tbody tr th {\n",
       "        vertical-align: top;\n",
       "    }\n",
       "\n",
       "    .dataframe thead th {\n",
       "        text-align: right;\n",
       "    }\n",
       "</style>\n",
       "<table border=\"1\" class=\"dataframe\">\n",
       "  <thead>\n",
       "    <tr style=\"text-align: right;\">\n",
       "      <th></th>\n",
       "      <th>beer1</th>\n",
       "      <th>beer2</th>\n",
       "      <th>overall_dist</th>\n",
       "    </tr>\n",
       "  </thead>\n",
       "  <tbody>\n",
       "    <tr>\n",
       "      <th>991</th>\n",
       "      <td>Duvel</td>\n",
       "      <td>Pliny The Elder</td>\n",
       "      <td>20.796634</td>\n",
       "    </tr>\n",
       "    <tr>\n",
       "      <th>1000</th>\n",
       "      <td>Duvel</td>\n",
       "      <td>Prima Pils</td>\n",
       "      <td>23.600847</td>\n",
       "    </tr>\n",
       "    <tr>\n",
       "      <th>990</th>\n",
       "      <td>Duvel</td>\n",
       "      <td>Ayinger Celebrator Doppelbock</td>\n",
       "      <td>23.953079</td>\n",
       "    </tr>\n",
       "    <tr>\n",
       "      <th>998</th>\n",
       "      <td>Duvel</td>\n",
       "      <td>HopDevil Ale</td>\n",
       "      <td>24.474477</td>\n",
       "    </tr>\n",
       "    <tr>\n",
       "      <th>1002</th>\n",
       "      <td>Duvel</td>\n",
       "      <td>Hop Wallop</td>\n",
       "      <td>25.019992</td>\n",
       "    </tr>\n",
       "  </tbody>\n",
       "</table>\n",
       "</div>"
      ],
      "text/plain": [
       "      beer1                          beer2  overall_dist\n",
       "991   Duvel                Pliny The Elder     20.796634\n",
       "1000  Duvel                     Prima Pils     23.600847\n",
       "990   Duvel  Ayinger Celebrator Doppelbock     23.953079\n",
       "998   Duvel                   HopDevil Ale     24.474477\n",
       "1002  Duvel                     Hop Wallop     25.019992"
      ]
     },
     "execution_count": 12,
     "metadata": {},
     "output_type": "execute_result"
    }
   ],
   "source": [
    "euclidean_similarity[euclidean_similarity.beer1 == \"Duvel\"].head()"
   ]
  },
  {
   "cell_type": "code",
   "execution_count": 13,
   "metadata": {},
   "outputs": [
    {
     "data": {
      "text/html": [
       "<div>\n",
       "<style scoped>\n",
       "    .dataframe tbody tr th:only-of-type {\n",
       "        vertical-align: middle;\n",
       "    }\n",
       "\n",
       "    .dataframe tbody tr th {\n",
       "        vertical-align: top;\n",
       "    }\n",
       "\n",
       "    .dataframe thead th {\n",
       "        text-align: right;\n",
       "    }\n",
       "</style>\n",
       "<table border=\"1\" class=\"dataframe\">\n",
       "  <thead>\n",
       "    <tr style=\"text-align: right;\">\n",
       "      <th></th>\n",
       "      <th>beer1</th>\n",
       "      <th>beer2</th>\n",
       "      <th>review_aroma</th>\n",
       "    </tr>\n",
       "  </thead>\n",
       "  <tbody>\n",
       "    <tr>\n",
       "      <th>706</th>\n",
       "      <td>Tröegs Nugget Nectar</td>\n",
       "      <td>Weihenstephaner Hefeweissbier</td>\n",
       "      <td>15.676415</td>\n",
       "    </tr>\n",
       "    <tr>\n",
       "      <th>708</th>\n",
       "      <td>Tröegs Nugget Nectar</td>\n",
       "      <td>Schneider Aventinus</td>\n",
       "      <td>16.194135</td>\n",
       "    </tr>\n",
       "    <tr>\n",
       "      <th>389</th>\n",
       "      <td>Sierra Nevada Torpedo Extra IPA</td>\n",
       "      <td>Samuel Smith's Oatmeal Stout</td>\n",
       "      <td>16.301840</td>\n",
       "    </tr>\n",
       "    <tr>\n",
       "      <th>717</th>\n",
       "      <td>Tröegs Nugget Nectar</td>\n",
       "      <td>Ayinger Celebrator Doppelbock</td>\n",
       "      <td>16.363068</td>\n",
       "    </tr>\n",
       "    <tr>\n",
       "      <th>8</th>\n",
       "      <td>Imperial Stout</td>\n",
       "      <td>Sierra Nevada Torpedo Extra IPA</td>\n",
       "      <td>16.552945</td>\n",
       "    </tr>\n",
       "  </tbody>\n",
       "</table>\n",
       "</div>"
      ],
      "text/plain": [
       "                               beer1                            beer2  \\\n",
       "706             Tröegs Nugget Nectar    Weihenstephaner Hefeweissbier   \n",
       "708             Tröegs Nugget Nectar              Schneider Aventinus   \n",
       "389  Sierra Nevada Torpedo Extra IPA     Samuel Smith's Oatmeal Stout   \n",
       "717             Tröegs Nugget Nectar    Ayinger Celebrator Doppelbock   \n",
       "8                     Imperial Stout  Sierra Nevada Torpedo Extra IPA   \n",
       "\n",
       "     review_aroma  \n",
       "706     15.676415  \n",
       "708     16.194135  \n",
       "389     16.301840  \n",
       "717     16.363068  \n",
       "8       16.552945  "
      ]
     },
     "execution_count": 13,
     "metadata": {},
     "output_type": "execute_result"
    }
   ],
   "source": [
    "unique_beer          = beer_reviews.beer_name.unique();\n",
    "num_beer             = len(unique_beer) \n",
    "euclidean_similarity = []\n",
    "\n",
    "for id_1 in range(0, num_beer - 1):\n",
    "    for id_2 in range(id_1 + 1, num_beer):\n",
    "        beer_1 = unique_beer[id_1]\n",
    "        beer_2 = unique_beer[id_2]\n",
    "        euclidean_similarity.append([beer_1, beer_2] + calculate_similarity(beer_1, beer_2,  features = ['review_aroma']))\n",
    "\n",
    "euclidean_similarity = pd.DataFrame(euclidean_similarity,\n",
    "                                    columns = [\"beer1\", \"beer2\", \"review_aroma\"])\n",
    "euclidean_similarity = euclidean_similarity.sort_values(by = 'review_aroma', ascending = True)\n",
    "\n",
    "euclidean_similarity.head()"
   ]
  },
  {
   "cell_type": "code",
   "execution_count": 14,
   "metadata": {},
   "outputs": [
    {
     "data": {
      "text/html": [
       "<div>\n",
       "<style scoped>\n",
       "    .dataframe tbody tr th:only-of-type {\n",
       "        vertical-align: middle;\n",
       "    }\n",
       "\n",
       "    .dataframe tbody tr th {\n",
       "        vertical-align: top;\n",
       "    }\n",
       "\n",
       "    .dataframe thead th {\n",
       "        text-align: right;\n",
       "    }\n",
       "</style>\n",
       "<table border=\"1\" class=\"dataframe\">\n",
       "  <thead>\n",
       "    <tr style=\"text-align: right;\">\n",
       "      <th></th>\n",
       "      <th>beer1</th>\n",
       "      <th>beer2</th>\n",
       "      <th>review_aroma</th>\n",
       "    </tr>\n",
       "  </thead>\n",
       "  <tbody>\n",
       "    <tr>\n",
       "      <th>1002</th>\n",
       "      <td>Duvel</td>\n",
       "      <td>Hop Wallop</td>\n",
       "      <td>21.089097</td>\n",
       "    </tr>\n",
       "    <tr>\n",
       "      <th>1000</th>\n",
       "      <td>Duvel</td>\n",
       "      <td>Prima Pils</td>\n",
       "      <td>21.219095</td>\n",
       "    </tr>\n",
       "    <tr>\n",
       "      <th>998</th>\n",
       "      <td>Duvel</td>\n",
       "      <td>HopDevil Ale</td>\n",
       "      <td>21.377558</td>\n",
       "    </tr>\n",
       "    <tr>\n",
       "      <th>990</th>\n",
       "      <td>Duvel</td>\n",
       "      <td>Ayinger Celebrator Doppelbock</td>\n",
       "      <td>21.406775</td>\n",
       "    </tr>\n",
       "    <tr>\n",
       "      <th>999</th>\n",
       "      <td>Duvel</td>\n",
       "      <td>Brooklyn Black Chocolate Stout</td>\n",
       "      <td>21.737065</td>\n",
       "    </tr>\n",
       "  </tbody>\n",
       "</table>\n",
       "</div>"
      ],
      "text/plain": [
       "      beer1                           beer2  review_aroma\n",
       "1002  Duvel                      Hop Wallop     21.089097\n",
       "1000  Duvel                      Prima Pils     21.219095\n",
       "998   Duvel                    HopDevil Ale     21.377558\n",
       "990   Duvel   Ayinger Celebrator Doppelbock     21.406775\n",
       "999   Duvel  Brooklyn Black Chocolate Stout     21.737065"
      ]
     },
     "execution_count": 14,
     "metadata": {},
     "output_type": "execute_result"
    }
   ],
   "source": [
    "euclidean_similarity[euclidean_similarity.beer1 == \"Duvel\"].head()"
   ]
  },
  {
   "cell_type": "markdown",
   "metadata": {},
   "source": [
    "# Matrices de coocurencia\n",
    "\n",
    "Creación de la matriz de coocurencia para estimar la puntuación de los usuarios"
   ]
  },
  {
   "cell_type": "code",
   "execution_count": 15,
   "metadata": {},
   "outputs": [],
   "source": [
    "review_profilename = beer_reviews.review_profilename.unique()\n",
    "coocuMatrix        = np.zeros(shape = (num_beer, num_beer))\n",
    "\n",
    "for user in review_profilename:\n",
    "    beer_list = beer_reviews[beer_reviews.review_profilename == user].beer_name.unique()\n",
    "    for beer_1 in beer_list:\n",
    "        for beer_2 in beer_list:\n",
    "            pos_1 = [i for i, x in enumerate(unique_beer) if x == beer_1]\n",
    "            pos_2 = [i for i, x in enumerate(unique_beer) if x == beer_2]\n",
    "            coocuMatrix[pos_1, pos_2] += 1"
   ]
  },
  {
   "cell_type": "markdown",
   "metadata": {},
   "source": [
    "## Algortimo de recomendación "
   ]
  },
  {
   "cell_type": "code",
   "execution_count": 16,
   "metadata": {},
   "outputs": [
    {
     "name": "stdout",
     "output_type": "stream",
     "text": [
      "recomendada ['Old Rasputin Russian Imperial Stout']\n"
     ]
    }
   ],
   "source": [
    "evaluateMatrix = np.zeros(shape = (num_beer))\n",
    "\n",
    "user         = review_profilename[1]\n",
    "user_reviews = beer_reviews[beer_reviews.review_profilename == user]\n",
    "user_reviews = user_reviews.groupby('beer_name').apply(lambda x: mean(x))\n",
    "\n",
    "for n in range(num_beer):\n",
    "    pos = [i for i, x in enumerate(user_reviews.index) if x == unique_beer[n]]\n",
    "    if len(pos) == 1:\n",
    "        evaluateMatrix[n] = user_reviews['review_overall'][pos]\n",
    "        \n",
    "recomendation                     = np.dot(coocuMatrix, evaluateMatrix)\n",
    "recomendation[evaluateMatrix > 0] = 0\n",
    "recomendation                     = [i for i, x in enumerate(recomendation) if x == max(recomendation)]\n",
    "\n",
    "print('recomendada', unique_beer[recomendation])"
   ]
  },
  {
   "cell_type": "code",
   "execution_count": 17,
   "metadata": {},
   "outputs": [
    {
     "name": "stdout",
     "output_type": "stream",
     "text": [
      "recomendada ['Old Rasputin Russian Imperial Stout']\n"
     ]
    }
   ],
   "source": [
    "print('recomendada', unique_beer[recomendation])"
   ]
  },
  {
   "cell_type": "code",
   "execution_count": 18,
   "metadata": {},
   "outputs": [
    {
     "name": "stdout",
     "output_type": "stream",
     "text": [
      "recomendada ['Old Rasputin Russian Imperial Stout']\n"
     ]
    }
   ],
   "source": [
    "evaluateMatrix = np.zeros(shape = (num_beer))\n",
    "evaluateMatrix[30] = 1\n",
    "evaluateMatrix[10] = 5\n",
    "evaluateMatrix[2] = 5\n",
    "evaluateMatrix[5] = 5\n",
    "evaluateMatrix[40] = 5\n",
    "\n",
    "recomendation                     = np.dot(coocuMatrix, evaluateMatrix)\n",
    "recomendation[evaluateMatrix > 0] = 0\n",
    "recomendation                     = [i for i, x in enumerate(recomendation) if x == max(recomendation)]\n",
    "\n",
    "print('recomendada', unique_beer[recomendation])"
   ]
  },
  {
   "cell_type": "code",
   "execution_count": null,
   "metadata": {},
   "outputs": [],
   "source": []
  }
 ],
 "metadata": {
  "anaconda-cloud": {},
  "hide_input": false,
  "kernelspec": {
   "display_name": "Python 3",
   "language": "python",
   "name": "python3"
  },
  "language_info": {
   "codemirror_mode": {
    "name": "ipython",
    "version": 3
   },
   "file_extension": ".py",
   "mimetype": "text/x-python",
   "name": "python",
   "nbconvert_exporter": "python",
   "pygments_lexer": "ipython3",
   "version": "3.7.6"
  },
  "varInspector": {
   "cols": {
    "lenName": 16,
    "lenType": 16,
    "lenVar": 40
   },
   "kernels_config": {
    "python": {
     "delete_cmd_postfix": "",
     "delete_cmd_prefix": "del ",
     "library": "var_list.py",
     "varRefreshCmd": "print(var_dic_list())"
    },
    "r": {
     "delete_cmd_postfix": ") ",
     "delete_cmd_prefix": "rm(",
     "library": "var_list.r",
     "varRefreshCmd": "cat(var_dic_list()) "
    }
   },
   "types_to_exclude": [
    "module",
    "function",
    "builtin_function_or_method",
    "instance",
    "_Feature"
   ],
   "window_display": false
  }
 },
 "nbformat": 4,
 "nbformat_minor": 1
}
