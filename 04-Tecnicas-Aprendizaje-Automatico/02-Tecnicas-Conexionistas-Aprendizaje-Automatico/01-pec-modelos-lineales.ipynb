{
 "cells": [
  {
   "cell_type": "markdown",
   "metadata": {},
   "source": [
    "# Modelos lineales"
   ]
  },
  {
   "cell_type": "markdown",
   "metadata": {},
   "source": [
    "En primer lugar eliminamos los warnings, y establecemos una semilla para que los resultados sean reproducibles y considerando que el objetivo de estos ejercicios es meramente educativo:"
   ]
  },
  {
   "cell_type": "code",
   "execution_count": 1,
   "metadata": {},
   "outputs": [],
   "source": [
    "import warnings\n",
    "warnings.filterwarnings('ignore')"
   ]
  },
  {
   "cell_type": "code",
   "execution_count": 2,
   "metadata": {},
   "outputs": [],
   "source": [
    "name = 'Miguel Pérez'\n",
    "seed = sum(ord(s) for s in name)"
   ]
  },
  {
   "cell_type": "markdown",
   "metadata": {},
   "source": [
    "## Regresión lineal, método directo (OLS)"
   ]
  },
  {
   "cell_type": "markdown",
   "metadata": {},
   "source": [
    "### Programación de la solución directa"
   ]
  },
  {
   "cell_type": "markdown",
   "metadata": {},
   "source": [
    "Partimos del dataset de ejemplo que se utilizó en los apuntes: edad vs salario:"
   ]
  },
  {
   "cell_type": "code",
   "execution_count": 3,
   "metadata": {},
   "outputs": [],
   "source": [
    "import numpy as np\n",
    "x = np.array([21, 25, 26, 29, 30, 30, 31, 37, 38, 40, 44, 47, 50, 55, 58, 61])\n",
    "X = x.reshape((-1, 1))\n",
    "y = np.array([22000, 30000, 25000, 24000, 28000, 33000, 26000, 35000, 52000, 36000, 55000, 69000, 42000, 80000, 65000, 85000])"
   ]
  },
  {
   "cell_type": "markdown",
   "metadata": {},
   "source": [
    "Lo primero es pintar los datos para hacernos una idea de si es buena idea intentar aproximarlos con una línea recta:"
   ]
  },
  {
   "cell_type": "code",
   "execution_count": 4,
   "metadata": {},
   "outputs": [
    {
     "data": {
      "text/plain": [
       "<matplotlib.axes._subplots.AxesSubplot at 0x7f9cdbae3f90>"
      ]
     },
     "execution_count": 4,
     "metadata": {},
     "output_type": "execute_result"
    },
    {
     "data": {
      "image/png": "[encoded data removed]",
      "text/plain": [
       "<Figure size 432x288 with 1 Axes>"
      ]
     },
     "metadata": {
      "needs_background": "light"
     },
     "output_type": "display_data"
    }
   ],
   "source": [
    "import seaborn as sns\n",
    "sns.regplot(X, y, fit_reg=False)"
   ]
  },
  {
   "cell_type": "markdown",
   "metadata": {},
   "source": [
    "En principio parece que sí podría ser factible, ya que se ve una relación (más o menos) lineal entre las dos variables.\n",
    "\n",
    "Intenta programar el método directo de Ordinary Least Squares. Recuerda que un vector columna de unos se declara así:"
   ]
  },
  {
   "cell_type": "code",
   "execution_count": 5,
   "metadata": {},
   "outputs": [],
   "source": [
    "ones = np.ones((len(X), 1))"
   ]
  },
  {
   "cell_type": "markdown",
   "metadata": {},
   "source": [
    "y que se puede pegar los unos como primera columna a X así:"
   ]
  },
  {
   "cell_type": "code",
   "execution_count": 6,
   "metadata": {},
   "outputs": [],
   "source": [
    "X = np.append(ones, X, axis=1)"
   ]
  },
  {
   "cell_type": "markdown",
   "metadata": {},
   "source": [
    "Partiendo de aquí, y teniendo presente que el operador multiplicación de matrices es la @, calcula Beta y las predicciones del modelo a partir de las X:"
   ]
  },
  {
   "cell_type": "markdown",
   "metadata": {},
   "source": [
    "Para el cálculo de Beta debemos resolver la siguiente ecuación matricial:\n",
    "\n",
    "$$ \\beta = (X^{T} \\cdot X)^{-1} \\cdot X^{T} \\cdot Y $$"
   ]
  },
  {
   "cell_type": "code",
   "execution_count": 7,
   "metadata": {},
   "outputs": [],
   "source": [
    "# Se calcula la matriz transpuesta de X\n",
    "XT = np.matrix.transpose(X)\n",
    "\n",
    "# Se calcula la multiplicación de X por su transpuesta\n",
    "XT_X = XT@X\n",
    "\n",
    "# Se calcula la multiplicación de la transpuesta de X por y\n",
    "XT_y = XT@y\n",
    "\n",
    "# Se calcula beta\n",
    "beta = np.linalg.inv(XT_X)@XT_y"
   ]
  },
  {
   "cell_type": "code",
   "execution_count": 8,
   "metadata": {},
   "outputs": [],
   "source": [
    "# Se calculan las predicciones\n",
    "preds = X@beta"
   ]
  },
  {
   "cell_type": "markdown",
   "metadata": {},
   "source": [
    "Se puede comprobar que el modelo está bien programado viendo si realmente aproxima los datos correctamente:"
   ]
  },
  {
   "cell_type": "code",
   "execution_count": 9,
   "metadata": {},
   "outputs": [
    {
     "data": {
      "text/plain": [
       "<matplotlib.axes._subplots.AxesSubplot at 0x7f9cdbbdf190>"
      ]
     },
     "execution_count": 9,
     "metadata": {},
     "output_type": "execute_result"
    },
    {
     "data": {
      "image/png": "[encoded data removed]",
      "text/plain": [
       "<Figure size 432x288 with 1 Axes>"
      ]
     },
     "metadata": {
      "needs_background": "light"
     },
     "output_type": "display_data"
    }
   ],
   "source": [
    "import seaborn as sns\n",
    "X = x\n",
    "sns.regplot(X, preds, fit_reg=False)\n",
    "sns.regplot(X, y, fit_reg=False)"
   ]
  },
  {
   "cell_type": "markdown",
   "metadata": {},
   "source": [
    "En cuanto al error que comete el modelo en sus predicciones, las métricas más habituales para regresión son el [Mean Squared Error](scikit-learn.org/stable/modules/generated/sklearn.metrics.mean_squared_error.html) y el [Mean Absolute Error](scikit-learn.org/stable/modules/generated/sklearn.metrics.median_absolute_error.html): "
   ]
  },
  {
   "cell_type": "code",
   "execution_count": 10,
   "metadata": {},
   "outputs": [
    {
     "name": "stdout",
     "output_type": "stream",
     "text": [
      "MSE: 71814865.44440871 MAE: 7209.405489439264\n"
     ]
    }
   ],
   "source": [
    "from sklearn.metrics import mean_absolute_error, mean_squared_error\n",
    "mse = mean_squared_error(y, preds)\n",
    "mae = mean_absolute_error(y, preds)\n",
    "print(\"MSE: \" + str(mse) + \" MAE: \" + str(mae))"
   ]
  },
  {
   "cell_type": "markdown",
   "metadata": {},
   "source": [
    "### Clase LinearRegression de Scikit-learn"
   ]
  },
  {
   "cell_type": "markdown",
   "metadata": {},
   "source": [
    "La clase correspondiente en Scikit-learn al método que hemos programado es [LinearRegression](scikit-learn.org/stable/modules/generated/sklearn.linear_model.LinearRegression.html). Podemos comprobar que nuestro modelo es correcto entrenando, haciendo predicciones y viendo si los resultados coinciden:"
   ]
  },
  {
   "cell_type": "code",
   "execution_count": 11,
   "metadata": {},
   "outputs": [],
   "source": [
    "from sklearn.linear_model import LinearRegression\n",
    "X = x.reshape((-1, 1))\n",
    "olsr = LinearRegression()\n",
    "olsr.fit(X, y)\n",
    "preds_lr = olsr.predict(X)"
   ]
  },
  {
   "cell_type": "markdown",
   "metadata": {},
   "source": [
    "Pinta una gráfica con los datos y las predicciones:"
   ]
  },
  {
   "cell_type": "code",
   "execution_count": 12,
   "metadata": {},
   "outputs": [
    {
     "data": {
      "text/plain": [
       "<matplotlib.axes._subplots.AxesSubplot at 0x7f9cdbf05410>"
      ]
     },
     "execution_count": 12,
     "metadata": {},
     "output_type": "execute_result"
    },
    {
     "data": {
      "image/png": "[encoded data removed]",
      "text/plain": [
       "<Figure size 432x288 with 1 Axes>"
      ]
     },
     "metadata": {
      "needs_background": "light"
     },
     "output_type": "display_data"
    }
   ],
   "source": [
    "# Con valores de X, preds e y, se puede utilizar el código anterior para pintar los datos y las predicciones\n",
    "sns.regplot(X, preds_lr, fit_reg=False)\n",
    "sns.regplot(X, y, fit_reg=False)"
   ]
  },
  {
   "cell_type": "markdown",
   "metadata": {},
   "source": [
    "Y calcula el MSE y el MAE:"
   ]
  },
  {
   "cell_type": "code",
   "execution_count": 13,
   "metadata": {},
   "outputs": [
    {
     "name": "stdout",
     "output_type": "stream",
     "text": [
      "MSE: 71814865.44440871 MAE: 7209.405489439262\n"
     ]
    }
   ],
   "source": [
    "# Con los valores de preds e y, se pueden calcular las métricas igual que anteriormente.\n",
    "mse = mean_squared_error(y, preds_lr)\n",
    "mae = mean_absolute_error(y, preds_lr)\n",
    "print(\"MSE: \" + str(mse) + \" MAE: \" + str(mae))"
   ]
  },
  {
   "cell_type": "markdown",
   "metadata": {},
   "source": [
    "Se puede comprobar que los resultados coinciden."
   ]
  },
  {
   "cell_type": "markdown",
   "metadata": {},
   "source": [
    "### Programación de un wrapper compatible con scikit-learn"
   ]
  },
  {
   "cell_type": "markdown",
   "metadata": {},
   "source": [
    "Intenta programar una clase OLSRegressor para el método directo que sea compatible con Scikit-learn. Para ello, la clase debe heredar de las clases sklearn.base.BaseEstimator y sklearn.base.RegressorMixin.\n",
    "\n",
    "También debe implementar un método fit(self, X, y) que calcule el beta a partir de X e y y lo guarde en un atributo self.beta_ y un método predict(self, X) que utilice el atributo self.beta_ calculado en fit para realizar predicciones a partir de la X."
   ]
  },
  {
   "cell_type": "code",
   "execution_count": 14,
   "metadata": {},
   "outputs": [],
   "source": [
    "from sklearn.base import BaseEstimator, RegressorMixin\n",
    "import numpy as np\n",
    "\n",
    "class OLSRegressor(BaseEstimator, RegressorMixin):\n",
    "\n",
    "    # No es necesario modificar el __init__ heredado de BaseEstimator ya que no tenemos ningún metaparámetro o estado inicial que añadir\n",
    "\n",
    "    def fit(self, X, y):\n",
    "        # Transformar la matriz al formato necesario, es decir, una columna en caso de que no tenga.\n",
    "        if len(X.shape) == 1: \n",
    "            X = x.reshape((-1, 1))\n",
    "            \n",
    "        # Añadir la constante\n",
    "        ones = np.ones((len(X), 1))\n",
    "        X1 = np.append(ones, X, axis=1)\n",
    "        \n",
    "        # Calcular Beta\n",
    "        XT = np.matrix.transpose(X1)\n",
    "        XT_X = XT@X1\n",
    "        XT_y = XT@y\n",
    "        self.beta_ = np.linalg.inv(XT_X)@XT_y\n",
    "\n",
    "    def predict(self, X):\n",
    "        # Transformar la matriz al formato necesario\n",
    "        if len(X.shape) == 1: \n",
    "            X = x.reshape((-1, 1))\n",
    "        \n",
    "        # Añadir la constante\n",
    "        ones = np.ones((len(X), 1))\n",
    "        X1 = np.append(ones, X, axis=1)\n",
    "        \n",
    "        # Calcular las predicciones\n",
    "        preds = X1@self.beta_\n",
    "        return preds"
   ]
  },
  {
   "cell_type": "markdown",
   "metadata": {},
   "source": [
    "Comprueba que funciona:"
   ]
  },
  {
   "cell_type": "code",
   "execution_count": 15,
   "metadata": {},
   "outputs": [],
   "source": [
    "X = x\n",
    "olsr = OLSRegressor()\n",
    "olsr.fit(X, y)\n",
    "preds_olsr = olsr.predict(X)"
   ]
  },
  {
   "cell_type": "markdown",
   "metadata": {},
   "source": [
    "Y haz una gráfica con los datos y las predicciones, y calcula el MSE y el MAE:"
   ]
  },
  {
   "cell_type": "code",
   "execution_count": 16,
   "metadata": {},
   "outputs": [
    {
     "data": {
      "text/plain": [
       "<matplotlib.axes._subplots.AxesSubplot at 0x7f9cdbf8b790>"
      ]
     },
     "execution_count": 16,
     "metadata": {},
     "output_type": "execute_result"
    },
    {
     "data": {
      "image/png": "[encoded data removed]",
      "text/plain": [
       "<Figure size 432x288 with 1 Axes>"
      ]
     },
     "metadata": {
      "needs_background": "light"
     },
     "output_type": "display_data"
    }
   ],
   "source": [
    "sns.regplot(X, preds_olsr, fit_reg=False)\n",
    "sns.regplot(X, y, fit_reg=False)"
   ]
  },
  {
   "cell_type": "code",
   "execution_count": 17,
   "metadata": {},
   "outputs": [
    {
     "name": "stdout",
     "output_type": "stream",
     "text": [
      "MSE: 71814865.44440871 MAE: 7209.405489439264\n"
     ]
    }
   ],
   "source": [
    "# Con los valores de preds_olsr e y, se pueden calcular las métricas igual que anteriormente.\n",
    "mse = mean_squared_error(y, preds_olsr)\n",
    "mae = mean_absolute_error(y, preds_olsr)\n",
    "print(\"MSE: \" + str(mse) + \" MAE: \" + str(mae))"
   ]
  },
  {
   "cell_type": "markdown",
   "metadata": {},
   "source": [
    "Nuevamente obtenemos el mismo resultado, como era de esperar."
   ]
  },
  {
   "cell_type": "markdown",
   "metadata": {},
   "source": [
    "Prueba ahora con el dataset de Boston Housing, que está disponible en Scikit-learn:"
   ]
  },
  {
   "cell_type": "code",
   "execution_count": 18,
   "metadata": {},
   "outputs": [],
   "source": [
    "from sklearn.datasets import load_boston\n",
    "X_boston, y_boston = load_boston(return_X_y=True)\n",
    "olsr_boston = OLSRegressor()\n",
    "olsr_boston.fit(X_boston, y_boston)\n",
    "preds_boston = olsr_boston.predict(X_boston)"
   ]
  },
  {
   "cell_type": "markdown",
   "metadata": {},
   "source": [
    "En este caso hay más de una variable explicativa, así que vamos a hacer la [descomposición PCA](scikit-learn.org/stable/modules/generated/sklearn.decomposition.PCA.html) de X para quedarnos sólo con una dimensión y poder pintar una gráfica:"
   ]
  },
  {
   "cell_type": "code",
   "execution_count": 19,
   "metadata": {},
   "outputs": [
    {
     "data": {
      "text/plain": [
       "<matplotlib.axes._subplots.AxesSubplot at 0x7f9cdc28aad0>"
      ]
     },
     "execution_count": 19,
     "metadata": {},
     "output_type": "execute_result"
    },
    {
     "data": {
      "image/png": "[encoded data removed]",
      "text/plain": [
       "<Figure size 432x288 with 1 Axes>"
      ]
     },
     "metadata": {
      "needs_background": "light"
     },
     "output_type": "display_data"
    }
   ],
   "source": [
    "import seaborn as sns\n",
    "from sklearn.decomposition import PCA\n",
    "X_pca = PCA(random_state=seed).fit_transform(X_boston)[:, 0]\n",
    "sns.regplot(X_pca, preds_boston, fit_reg=False)\n",
    "sns.regplot(X_pca, y_boston, fit_reg=False)"
   ]
  },
  {
   "cell_type": "code",
   "execution_count": 20,
   "metadata": {},
   "outputs": [
    {
     "name": "stdout",
     "output_type": "stream",
     "text": [
      "MSE: 21.8948311817292 MAE: 3.270862810899728\n"
     ]
    }
   ],
   "source": [
    "from sklearn.metrics import mean_absolute_error, mean_squared_error\n",
    "mse = mean_squared_error(y_boston, preds_boston)\n",
    "mae = mean_absolute_error(y_boston, preds_boston)\n",
    "print(\"MSE: \" + str(mse) + \" MAE: \" + str(mae))"
   ]
  },
  {
   "cell_type": "markdown",
   "metadata": {},
   "source": [
    "## Regresión lineal, método iterativo (SGD)"
   ]
  },
  {
   "cell_type": "markdown",
   "metadata": {},
   "source": [
    "### Clase SGDRegressor"
   ]
  },
  {
   "cell_type": "markdown",
   "metadata": {},
   "source": [
    "El método directo funciona y en sencillo de programar, pero tiene los problemas que se mencionan en los apuntes:\n",
    "* las matrices pueden ser singulares y por tanto no tener inversa, lo que invalida el método\n",
    "* si el conjunto de datos es muy grande, el coste de calcular la matriz inversa es demasiado alto\n",
    "Por ello vamos a probar el método iterativo de descenso por gradiente (SGD). En Scikit-learn se corresponde con la clase [SGDRegressor](scikit-learn.org/stable/modules/generated/sklearn.linear_model.SGDRegressor.html). Carga el dataset de regresión [Boston Housing](http://scikit-learn.org/stable/modules/generated/sklearn.datasets.load_boston.html) e intenta entrenar y predecir con el modelo SGDRegressor:"
   ]
  },
  {
   "cell_type": "code",
   "execution_count": 21,
   "metadata": {},
   "outputs": [],
   "source": [
    "from sklearn.datasets import load_boston\n",
    "X_boston, y_boston = load_boston(return_X_y=True)"
   ]
  },
  {
   "cell_type": "code",
   "execution_count": 22,
   "metadata": {},
   "outputs": [],
   "source": [
    "# Se importa el modelo\n",
    "from sklearn.linear_model import SGDRegressor\n",
    "\n",
    "# Se carga el modelo, se ajusta a los datos y se predice\n",
    "model_reg_boston = SGDRegressor()\n",
    "model_reg_boston.fit(X_boston,y_boston)\n",
    "preds_reg_boston = model_reg_boston.predict(X_boston)"
   ]
  },
  {
   "cell_type": "markdown",
   "metadata": {},
   "source": [
    "Como en este dataset hay más de una variable explicativa, vamos a hacer [PCA](scikit-learn.org/stable/modules/generated/sklearn.decomposition.PCA.html) de X para quedarnos sólo con una dimensión y poder pintar una gráfica:"
   ]
  },
  {
   "cell_type": "code",
   "execution_count": 23,
   "metadata": {},
   "outputs": [
    {
     "data": {
      "text/plain": [
       "<matplotlib.axes._subplots.AxesSubplot at 0x7f9cdc3f2d50>"
      ]
     },
     "execution_count": 23,
     "metadata": {},
     "output_type": "execute_result"
    },
    {
     "data": {
      "image/png": "[encoded data removed]",
      "text/plain": [
       "<Figure size 432x288 with 1 Axes>"
      ]
     },
     "metadata": {
      "needs_background": "light"
     },
     "output_type": "display_data"
    }
   ],
   "source": [
    "import seaborn as sns\n",
    "from sklearn.decomposition import PCA\n",
    "X_pca = PCA(random_state=seed).fit_transform(X_boston)[:, 0]\n",
    "sns.regplot(X_pca, preds_reg_boston, fit_reg=False)\n",
    "sns.regplot(X_pca, y_boston, fit_reg=False)"
   ]
  },
  {
   "cell_type": "markdown",
   "metadata": {},
   "source": [
    "Las predicciones no parecen nada buenas. Veamos los errores:"
   ]
  },
  {
   "cell_type": "code",
   "execution_count": 24,
   "metadata": {},
   "outputs": [
    {
     "name": "stdout",
     "output_type": "stream",
     "text": [
      "MSE: 4.1450621443272005e+28 MAE: 198397507953194.0\n"
     ]
    }
   ],
   "source": [
    "from sklearn.metrics import mean_absolute_error, mean_squared_error\n",
    "mse = mean_squared_error(y_boston, preds_reg_boston)\n",
    "mae = mean_absolute_error(y_boston, preds_reg_boston)\n",
    "print(\"MSE: \" + str(mse) + \" MAE: \" + str(mae))"
   ]
  },
  {
   "cell_type": "markdown",
   "metadata": {},
   "source": [
    "Esta vez los resultados son muy malos. En los apuntes se indicó que al utilzar un método basado en descenso por gradiente hay que tomar una precaución porque el método tiene mucha sensibilidad a la escala de las variables explicativas. ¿Sabrías explicar de qué precaución se trata?"
   ]
  },
  {
   "cell_type": "markdown",
   "metadata": {},
   "source": [
    "**Respuesta:** El descenso por gradiente tiene sus inconvenientes. Principalmente, la necesidad de elegir meta-parámetros como la tasa de aprendizaje o su sensibilidad a la escala de las variables. Para evitar problemas con esto último, es habitual estandarizar los datos antes de usarlos para entrenar un modelo mediante descenso por gradiente."
   ]
  },
  {
   "cell_type": "markdown",
   "metadata": {},
   "source": [
    "A continuación se resuelve el problema utilizando el preprocesador de datos apropiado:"
   ]
  },
  {
   "cell_type": "code",
   "execution_count": 25,
   "metadata": {},
   "outputs": [],
   "source": [
    "from sklearn.datasets import load_boston\n",
    "from sklearn.linear_model import SGDRegressor\n",
    "from sklearn.pipeline import Pipeline\n",
    "from sklearn.preprocessing import StandardScaler\n",
    "X, y = load_boston(return_X_y=True)\n",
    "lr = Pipeline([('stds', StandardScaler()), ('sgdr', SGDRegressor())])\n",
    "lr.fit(X, y)\n",
    "preds = lr.predict(X)"
   ]
  },
  {
   "cell_type": "code",
   "execution_count": 26,
   "metadata": {},
   "outputs": [
    {
     "data": {
      "text/plain": [
       "<matplotlib.axes._subplots.AxesSubplot at 0x7f9cdcf4b890>"
      ]
     },
     "execution_count": 26,
     "metadata": {},
     "output_type": "execute_result"
    },
    {
     "data": {
      "image/png": "[encoded data removed]",
      "text/plain": [
       "<Figure size 432x288 with 1 Axes>"
      ]
     },
     "metadata": {
      "needs_background": "light"
     },
     "output_type": "display_data"
    }
   ],
   "source": [
    "import seaborn as sns\n",
    "from sklearn.decomposition import PCA\n",
    "X_pca = PCA(random_state=seed).fit_transform(X)[:, 0]\n",
    "sns.regplot(X_pca, preds, fit_reg=False)\n",
    "sns.regplot(X_pca, y, fit_reg=False)"
   ]
  },
  {
   "cell_type": "code",
   "execution_count": 27,
   "metadata": {},
   "outputs": [
    {
     "name": "stdout",
     "output_type": "stream",
     "text": [
      "MSE: 22.032490337724244 MAE: 3.282790446237866\n"
     ]
    }
   ],
   "source": [
    "from sklearn.metrics import mean_absolute_error, mean_squared_error\n",
    "mse = mean_squared_error(y, preds)\n",
    "mae = mean_absolute_error(y, preds)\n",
    "print(\"MSE: \" + str(mse) + \" MAE: \" + str(mae))"
   ]
  },
  {
   "cell_type": "markdown",
   "metadata": {},
   "source": [
    "Y se puede comprobar que los resultados son correctos."
   ]
  },
  {
   "cell_type": "markdown",
   "metadata": {},
   "source": [
    "## Regresión logística"
   ]
  },
  {
   "cell_type": "markdown",
   "metadata": {},
   "source": [
    "### Clase SGDClassifier"
   ]
  },
  {
   "cell_type": "markdown",
   "metadata": {},
   "source": [
    "Al igual que para regresión tenemos la clase SGDRegressor, para clasificación tenemos la clase [SGDClassifier](http://scikit-learn.org/stable/modules/generated/sklearn.linear_model.SGDClassifier.html). Prueba a cargar los datos del dataset [Iris](scikit-learn.org/stable/modules/generated/sklearn.datasets.load_iris.html) para clasificación (también disponibles en sklearn.datasets) y a entrenar y predecir con un modelo SGDClassifier:"
   ]
  },
  {
   "cell_type": "code",
   "execution_count": 28,
   "metadata": {},
   "outputs": [],
   "source": [
    "from sklearn.datasets import load_iris\n",
    "X_iris, y_iris = load_iris(return_X_y=True)"
   ]
  },
  {
   "cell_type": "code",
   "execution_count": 29,
   "metadata": {},
   "outputs": [],
   "source": [
    "from sklearn.linear_model import SGDClassifier\n",
    "from sklearn.preprocessing import StandardScaler\n",
    "from sklearn.pipeline import Pipeline\n",
    "\n",
    "iris_classifier = Pipeline([('stds', StandardScaler()), ('sgdc', SGDClassifier())])\n",
    "iris_classifier.fit(X_iris, y_iris)\n",
    "preds_iris = iris_classifier.predict(X_iris)"
   ]
  },
  {
   "cell_type": "markdown",
   "metadata": {},
   "source": [
    "Haz una gráfica con la primera dimensión de PCA, los targets y las predicciones del modelo, como en los ejercicios anteriores:"
   ]
  },
  {
   "cell_type": "code",
   "execution_count": 30,
   "metadata": {},
   "outputs": [
    {
     "data": {
      "text/plain": [
       "<matplotlib.axes._subplots.AxesSubplot at 0x7f9cdd022850>"
      ]
     },
     "execution_count": 30,
     "metadata": {},
     "output_type": "execute_result"
    },
    {
     "data": {
      "image/png": "[encoded data removed]",
      "text/plain": [
       "<Figure size 432x288 with 1 Axes>"
      ]
     },
     "metadata": {
      "needs_background": "light"
     },
     "output_type": "display_data"
    }
   ],
   "source": [
    "import seaborn as sns\n",
    "from sklearn.decomposition import PCA\n",
    "X_pca_iris = PCA(random_state=seed).fit_transform(X_iris)[:, 0]\n",
    "sns.regplot(X_pca_iris, preds_iris, fit_reg=False)\n",
    "sns.regplot(X_pca_iris, y_iris, fit_reg=False)"
   ]
  },
  {
   "cell_type": "markdown",
   "metadata": {},
   "source": [
    "Y utiliza la métrica accuracy_score de sklearn.metrics para ver si el resultado es bueno:"
   ]
  },
  {
   "cell_type": "code",
   "execution_count": 31,
   "metadata": {},
   "outputs": [
    {
     "name": "stdout",
     "output_type": "stream",
     "text": [
      "0.9333333333333333\n"
     ]
    }
   ],
   "source": [
    "from sklearn.metrics import accuracy_score\n",
    "print(accuracy_score(y_iris, preds_iris))"
   ]
  },
  {
   "cell_type": "markdown",
   "metadata": {},
   "source": [
    "Parece un resultado bueno, pero mejorable."
   ]
  },
  {
   "cell_type": "markdown",
   "metadata": {},
   "source": [
    "### Clase LogisticRegression"
   ]
  },
  {
   "cell_type": "markdown",
   "metadata": {},
   "source": [
    "Scikit-learn también proporciona la clase [LogisticRegression](scikit-learn.org/stable/modules/generated/sklearn.linear_model.LogisticRegression.html) que cuenta con métodos de entrenamiento más avanzados, regularizadores, etc. Repite el proceso con esta nueva clase:"
   ]
  },
  {
   "cell_type": "code",
   "execution_count": 32,
   "metadata": {},
   "outputs": [],
   "source": [
    "from sklearn.linear_model import LogisticRegression\n",
    "lr_iris = LogisticRegression(random_state = seed).fit(X_iris, y_iris)\n",
    "preds_lr_iris = lr_iris.predict(X_iris)"
   ]
  },
  {
   "cell_type": "code",
   "execution_count": 33,
   "metadata": {},
   "outputs": [
    {
     "data": {
      "text/plain": [
       "<matplotlib.axes._subplots.AxesSubplot at 0x7f9cdd0224d0>"
      ]
     },
     "execution_count": 33,
     "metadata": {},
     "output_type": "execute_result"
    },
    {
     "data": {
      "image/png": "[encoded data removed]",
      "text/plain": [
       "<Figure size 432x288 with 1 Axes>"
      ]
     },
     "metadata": {
      "needs_background": "light"
     },
     "output_type": "display_data"
    }
   ],
   "source": [
    "import seaborn as sns\n",
    "from sklearn.decomposition import PCA\n",
    "X_pca_iris = PCA(random_state=seed).fit_transform(X_iris)[:, 0]\n",
    "sns.regplot(X_pca_iris, preds_lr_iris, fit_reg=False)\n",
    "sns.regplot(X_pca_iris, y_iris, fit_reg=False)"
   ]
  },
  {
   "cell_type": "code",
   "execution_count": 34,
   "metadata": {},
   "outputs": [
    {
     "name": "stdout",
     "output_type": "stream",
     "text": [
      "0.9733333333333334\n"
     ]
    }
   ],
   "source": [
    "from sklearn.metrics import accuracy_score\n",
    "print(accuracy_score(y_iris, preds_lr_iris))"
   ]
  },
  {
   "cell_type": "markdown",
   "metadata": {},
   "source": [
    "## Evaluación correcta del modelo"
   ]
  },
  {
   "cell_type": "markdown",
   "metadata": {},
   "source": [
    "### Particiones de train y test"
   ]
  },
  {
   "cell_type": "markdown",
   "metadata": {},
   "source": [
    "En los ejercicios previos hemos cometido un error metodológico importante a la hora de evaluar la calidad de los modelos: hemos calculado las métricas de error con el mismo dataset que hemos usado para entrenar. Esto puede hacer que los modelos caigan en sobreajuste y la estimación del error sea totalmente irreal. Para evitarlo, lo habitual es hacer una partición del dataset en train y test, o realizar una validación cruzada.\n",
    "\n",
    "Scikit-learn ofrece una forma sencilla de separar train y test con la función [train_test_split](scikit-learn.org/stable/modules/generated/sklearn.model_selection.train_test_split.html). Entrena el modelo SGDRegressor sobre Boston Housing usando una partición de train y luego calcula MSE y MAE de sus predicciones sobre test:"
   ]
  },
  {
   "cell_type": "code",
   "execution_count": 35,
   "metadata": {},
   "outputs": [],
   "source": [
    "from sklearn.datasets import load_boston\n",
    "from sklearn.linear_model import SGDRegressor\n",
    "from sklearn.pipeline import Pipeline\n",
    "from sklearn.preprocessing import StandardScaler\n",
    "from sklearn.model_selection import train_test_split\n",
    "\n",
    "X_boston, y_boston = load_boston(return_X_y=True)\n",
    "X_train_boston, X_test_boston, y_train_boston, y_test_boston = train_test_split(X_boston, y_boston, test_size=0.3, random_state=seed)\n",
    "\n",
    "lr = Pipeline([('stds', StandardScaler()), ('sgdr', SGDRegressor())])\n",
    "lr.fit(X_train_boston, y_train_boston)\n",
    "preds_boston_test = lr.predict(X_test_boston)"
   ]
  },
  {
   "cell_type": "code",
   "execution_count": 36,
   "metadata": {},
   "outputs": [
    {
     "name": "stdout",
     "output_type": "stream",
     "text": [
      "MSE: 22.754969358295607 MAE: 3.2864720393932485\n"
     ]
    }
   ],
   "source": [
    "from sklearn.metrics import mean_absolute_error, mean_squared_error\n",
    "mse = mean_squared_error(y_test_boston, preds_boston_test)\n",
    "mae = mean_absolute_error(y_test_boston, preds_boston_test)\n",
    "print(\"MSE: \" + str(mse) + \" MAE: \" + str(mae))"
   ]
  },
  {
   "cell_type": "markdown",
   "metadata": {},
   "source": [
    "Vemos que los valores de MSE y de MAE no difieren mucho de los obtenidos sin haber dividido el set de datos en entrenamiento y test, y se considera que los resultados son positivos."
   ]
  },
  {
   "cell_type": "code",
   "execution_count": null,
   "metadata": {},
   "outputs": [],
   "source": []
  }
 ],
 "metadata": {
  "kernelspec": {
   "display_name": "Python 3",
   "language": "python",
   "name": "python3"
  },
  "language_info": {
   "codemirror_mode": {
    "name": "ipython",
    "version": 3
   },
   "file_extension": ".py",
   "mimetype": "text/x-python",
   "name": "python",
   "nbconvert_exporter": "python",
   "pygments_lexer": "ipython3",
   "version": "3.7.6"
  }
 },
 "nbformat": 4,
 "nbformat_minor": 2
}
