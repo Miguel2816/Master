{
 "cells": [
  {
   "cell_type": "markdown",
   "id": "947cc965",
   "metadata": {},
   "source": [
    "## PEC Automated Machine Learning"
   ]
  },
  {
   "cell_type": "markdown",
   "id": "e992ae34",
   "metadata": {},
   "source": [
    "El objetivo de este notebook es generar un modelo de machine learning a través de la librería auto-sklearn para ver el funcionamiento del aprendizaje automático automatizado por parte de esta librería y compararlo posteriormente con un modelo generado a través de la herramienta Dataiku.\n",
    "\n",
    "Para ello se hará uso del dataset Telco_Churn_Customer, que recoge datos sobre clientes telco y el objetivo es poder predecir con el mayor acierto posible si un cliente cambiará de empresa o no en base a los datos del dataset. El cambio de empresa se recoge en la variable Churn, que será el target."
   ]
  },
  {
   "cell_type": "markdown",
   "id": "897b65ac",
   "metadata": {},
   "source": [
    "En primer lugar se importan las librerías:"
   ]
  },
  {
   "cell_type": "code",
   "execution_count": 57,
   "id": "47b4c55a",
   "metadata": {},
   "outputs": [],
   "source": [
    "import sklearn\n",
    "import pandas as pd\n",
    "import autosklearn.classification"
   ]
  },
  {
   "cell_type": "markdown",
   "id": "fc04f92a",
   "metadata": {},
   "source": [
    "Se carga el dataset. Del mismo ya se conoce la existencia de valores nulos en una de las variables ya que la herramienta Dataiku lo detectó, y será necesario tratarlo."
   ]
  },
  {
   "cell_type": "code",
   "execution_count": 41,
   "id": "9552531d",
   "metadata": {},
   "outputs": [
    {
     "data": {
      "text/html": [
       "<div>\n",
       "<style scoped>\n",
       "    .dataframe tbody tr th:only-of-type {\n",
       "        vertical-align: middle;\n",
       "    }\n",
       "\n",
       "    .dataframe tbody tr th {\n",
       "        vertical-align: top;\n",
       "    }\n",
       "\n",
       "    .dataframe thead th {\n",
       "        text-align: right;\n",
       "    }\n",
       "</style>\n",
       "<table border=\"1\" class=\"dataframe\">\n",
       "  <thead>\n",
       "    <tr style=\"text-align: right;\">\n",
       "      <th></th>\n",
       "      <th>customerID</th>\n",
       "      <th>gender</th>\n",
       "      <th>SeniorCitizen</th>\n",
       "      <th>Partner</th>\n",
       "      <th>Dependents</th>\n",
       "      <th>tenure</th>\n",
       "      <th>PhoneService</th>\n",
       "      <th>MultipleLines</th>\n",
       "      <th>InternetService</th>\n",
       "      <th>OnlineSecurity</th>\n",
       "      <th>...</th>\n",
       "      <th>DeviceProtection</th>\n",
       "      <th>TechSupport</th>\n",
       "      <th>StreamingTV</th>\n",
       "      <th>StreamingMovies</th>\n",
       "      <th>Contract</th>\n",
       "      <th>PaperlessBilling</th>\n",
       "      <th>PaymentMethod</th>\n",
       "      <th>MonthlyCharges</th>\n",
       "      <th>TotalCharges</th>\n",
       "      <th>Churn</th>\n",
       "    </tr>\n",
       "  </thead>\n",
       "  <tbody>\n",
       "    <tr>\n",
       "      <th>0</th>\n",
       "      <td>7590-VHVEG</td>\n",
       "      <td>Female</td>\n",
       "      <td>0</td>\n",
       "      <td>Yes</td>\n",
       "      <td>No</td>\n",
       "      <td>1</td>\n",
       "      <td>No</td>\n",
       "      <td>No phone service</td>\n",
       "      <td>DSL</td>\n",
       "      <td>No</td>\n",
       "      <td>...</td>\n",
       "      <td>No</td>\n",
       "      <td>No</td>\n",
       "      <td>No</td>\n",
       "      <td>No</td>\n",
       "      <td>Month-to-month</td>\n",
       "      <td>Yes</td>\n",
       "      <td>Electronic check</td>\n",
       "      <td>29.85</td>\n",
       "      <td>29.85</td>\n",
       "      <td>No</td>\n",
       "    </tr>\n",
       "    <tr>\n",
       "      <th>1</th>\n",
       "      <td>5575-GNVDE</td>\n",
       "      <td>Male</td>\n",
       "      <td>0</td>\n",
       "      <td>No</td>\n",
       "      <td>No</td>\n",
       "      <td>34</td>\n",
       "      <td>Yes</td>\n",
       "      <td>No</td>\n",
       "      <td>DSL</td>\n",
       "      <td>Yes</td>\n",
       "      <td>...</td>\n",
       "      <td>Yes</td>\n",
       "      <td>No</td>\n",
       "      <td>No</td>\n",
       "      <td>No</td>\n",
       "      <td>One year</td>\n",
       "      <td>No</td>\n",
       "      <td>Mailed check</td>\n",
       "      <td>56.95</td>\n",
       "      <td>1889.5</td>\n",
       "      <td>No</td>\n",
       "    </tr>\n",
       "    <tr>\n",
       "      <th>2</th>\n",
       "      <td>3668-QPYBK</td>\n",
       "      <td>Male</td>\n",
       "      <td>0</td>\n",
       "      <td>No</td>\n",
       "      <td>No</td>\n",
       "      <td>2</td>\n",
       "      <td>Yes</td>\n",
       "      <td>No</td>\n",
       "      <td>DSL</td>\n",
       "      <td>Yes</td>\n",
       "      <td>...</td>\n",
       "      <td>No</td>\n",
       "      <td>No</td>\n",
       "      <td>No</td>\n",
       "      <td>No</td>\n",
       "      <td>Month-to-month</td>\n",
       "      <td>Yes</td>\n",
       "      <td>Mailed check</td>\n",
       "      <td>53.85</td>\n",
       "      <td>108.15</td>\n",
       "      <td>Yes</td>\n",
       "    </tr>\n",
       "    <tr>\n",
       "      <th>3</th>\n",
       "      <td>7795-CFOCW</td>\n",
       "      <td>Male</td>\n",
       "      <td>0</td>\n",
       "      <td>No</td>\n",
       "      <td>No</td>\n",
       "      <td>45</td>\n",
       "      <td>No</td>\n",
       "      <td>No phone service</td>\n",
       "      <td>DSL</td>\n",
       "      <td>Yes</td>\n",
       "      <td>...</td>\n",
       "      <td>Yes</td>\n",
       "      <td>Yes</td>\n",
       "      <td>No</td>\n",
       "      <td>No</td>\n",
       "      <td>One year</td>\n",
       "      <td>No</td>\n",
       "      <td>Bank transfer (automatic)</td>\n",
       "      <td>42.30</td>\n",
       "      <td>1840.75</td>\n",
       "      <td>No</td>\n",
       "    </tr>\n",
       "    <tr>\n",
       "      <th>4</th>\n",
       "      <td>9237-HQITU</td>\n",
       "      <td>Female</td>\n",
       "      <td>0</td>\n",
       "      <td>No</td>\n",
       "      <td>No</td>\n",
       "      <td>2</td>\n",
       "      <td>Yes</td>\n",
       "      <td>No</td>\n",
       "      <td>Fiber optic</td>\n",
       "      <td>No</td>\n",
       "      <td>...</td>\n",
       "      <td>No</td>\n",
       "      <td>No</td>\n",
       "      <td>No</td>\n",
       "      <td>No</td>\n",
       "      <td>Month-to-month</td>\n",
       "      <td>Yes</td>\n",
       "      <td>Electronic check</td>\n",
       "      <td>70.70</td>\n",
       "      <td>151.65</td>\n",
       "      <td>Yes</td>\n",
       "    </tr>\n",
       "  </tbody>\n",
       "</table>\n",
       "<p>5 rows × 21 columns</p>\n",
       "</div>"
      ],
      "text/plain": [
       "   customerID  gender  SeniorCitizen Partner Dependents  tenure PhoneService  \\\n",
       "0  7590-VHVEG  Female              0     Yes         No       1           No   \n",
       "1  5575-GNVDE    Male              0      No         No      34          Yes   \n",
       "2  3668-QPYBK    Male              0      No         No       2          Yes   \n",
       "3  7795-CFOCW    Male              0      No         No      45           No   \n",
       "4  9237-HQITU  Female              0      No         No       2          Yes   \n",
       "\n",
       "      MultipleLines InternetService OnlineSecurity  ... DeviceProtection  \\\n",
       "0  No phone service             DSL             No  ...               No   \n",
       "1                No             DSL            Yes  ...              Yes   \n",
       "2                No             DSL            Yes  ...               No   \n",
       "3  No phone service             DSL            Yes  ...              Yes   \n",
       "4                No     Fiber optic             No  ...               No   \n",
       "\n",
       "  TechSupport StreamingTV StreamingMovies        Contract PaperlessBilling  \\\n",
       "0          No          No              No  Month-to-month              Yes   \n",
       "1          No          No              No        One year               No   \n",
       "2          No          No              No  Month-to-month              Yes   \n",
       "3         Yes          No              No        One year               No   \n",
       "4          No          No              No  Month-to-month              Yes   \n",
       "\n",
       "               PaymentMethod MonthlyCharges  TotalCharges Churn  \n",
       "0           Electronic check          29.85         29.85    No  \n",
       "1               Mailed check          56.95        1889.5    No  \n",
       "2               Mailed check          53.85        108.15   Yes  \n",
       "3  Bank transfer (automatic)          42.30       1840.75    No  \n",
       "4           Electronic check          70.70        151.65   Yes  \n",
       "\n",
       "[5 rows x 21 columns]"
      ]
     },
     "execution_count": 41,
     "metadata": {},
     "output_type": "execute_result"
    }
   ],
   "source": [
    "df = pd.read_csv(\"Telco-Customer-Churn.csv\")\n",
    "df.head()"
   ]
  },
  {
   "cell_type": "code",
   "execution_count": 42,
   "id": "38e6e78e",
   "metadata": {},
   "outputs": [
    {
     "data": {
      "text/plain": [
       "(7043, 21)"
      ]
     },
     "execution_count": 42,
     "metadata": {},
     "output_type": "execute_result"
    }
   ],
   "source": [
    "# Se comprueba el tamaño del dataset\n",
    "df.shape"
   ]
  },
  {
   "cell_type": "code",
   "execution_count": 43,
   "id": "a557479b",
   "metadata": {},
   "outputs": [
    {
     "data": {
      "text/plain": [
       "customerID           object\n",
       "gender               object\n",
       "SeniorCitizen         int64\n",
       "Partner              object\n",
       "Dependents           object\n",
       "tenure                int64\n",
       "PhoneService         object\n",
       "MultipleLines        object\n",
       "InternetService      object\n",
       "OnlineSecurity       object\n",
       "OnlineBackup         object\n",
       "DeviceProtection     object\n",
       "TechSupport          object\n",
       "StreamingTV          object\n",
       "StreamingMovies      object\n",
       "Contract             object\n",
       "PaperlessBilling     object\n",
       "PaymentMethod        object\n",
       "MonthlyCharges      float64\n",
       "TotalCharges         object\n",
       "Churn                object\n",
       "dtype: object"
      ]
     },
     "execution_count": 43,
     "metadata": {},
     "output_type": "execute_result"
    }
   ],
   "source": [
    "# Se comprueban los tipos de las columnas\n",
    "df.dtypes"
   ]
  },
  {
   "cell_type": "markdown",
   "id": "c9e2824d",
   "metadata": {},
   "source": [
    "Sorprende que la columna TotalCharges, la cuál contenía valores vacíos, se ha detectado como de tipo object, en vez de tipo numérico. Se convierte dicha columna a tipo numérico."
   ]
  },
  {
   "cell_type": "code",
   "execution_count": 44,
   "id": "00be2265",
   "metadata": {},
   "outputs": [],
   "source": [
    "df['TotalCharges'] = pd.to_numeric(df['TotalCharges'], errors = 'coerce')"
   ]
  },
  {
   "cell_type": "markdown",
   "id": "059f911b",
   "metadata": {},
   "source": [
    "Al aplicar el cambio de tipo sin especificar el atributo errors = 'coerce', resultaba en el error:\n",
    "\n",
    "ValueError: Unable to parse string \" \"\n",
    "\n",
    "Por lo tanto, parece ser que los valores nulos del dataset que en Dataiku se habían detectado automáticamente, al cargar el dataset a través de pandas, se han leído como espacios blancos, que no pueden ser parseados a números, por lo que hay que incluir el atributo errors para convertirlo en NaN."
   ]
  },
  {
   "cell_type": "code",
   "execution_count": 45,
   "id": "4ac85de1",
   "metadata": {},
   "outputs": [
    {
     "data": {
      "text/plain": [
       "customerID           0\n",
       "gender               0\n",
       "SeniorCitizen        0\n",
       "Partner              0\n",
       "Dependents           0\n",
       "tenure               0\n",
       "PhoneService         0\n",
       "MultipleLines        0\n",
       "InternetService      0\n",
       "OnlineSecurity       0\n",
       "OnlineBackup         0\n",
       "DeviceProtection     0\n",
       "TechSupport          0\n",
       "StreamingTV          0\n",
       "StreamingMovies      0\n",
       "Contract             0\n",
       "PaperlessBilling     0\n",
       "PaymentMethod        0\n",
       "MonthlyCharges       0\n",
       "TotalCharges        11\n",
       "Churn                0\n",
       "dtype: int64"
      ]
     },
     "execution_count": 45,
     "metadata": {},
     "output_type": "execute_result"
    }
   ],
   "source": [
    "df.isnull().sum()"
   ]
  },
  {
   "cell_type": "markdown",
   "id": "7ce3ccf3",
   "metadata": {},
   "source": [
    "De los 7043 registros hay 11 que contienen valor para la variable TotalCharges, por lo que se eliminan."
   ]
  },
  {
   "cell_type": "code",
   "execution_count": 46,
   "id": "e13cf103",
   "metadata": {},
   "outputs": [
    {
     "data": {
      "text/plain": [
       "(7032, 21)"
      ]
     },
     "execution_count": 46,
     "metadata": {},
     "output_type": "execute_result"
    }
   ],
   "source": [
    "df.dropna(inplace=True)\n",
    "df.shape"
   ]
  },
  {
   "cell_type": "markdown",
   "id": "0119c8d6",
   "metadata": {},
   "source": [
    "Una vez el dataset está listo, se pueden modificar los tipos de las columnas. Para ello, en primer lugar se pueden imprimir los valores de cada variable:"
   ]
  },
  {
   "cell_type": "code",
   "execution_count": 47,
   "id": "a9b61783",
   "metadata": {
    "scrolled": true
   },
   "outputs": [
    {
     "name": "stdout",
     "output_type": "stream",
     "text": [
      "Los valores únicos para la variable customerID son: ['7590-VHVEG' '5575-GNVDE' '3668-QPYBK' ... '4801-JZAZL' '8361-LTMKD'\n",
      " '3186-AJIEK']\n",
      "\n",
      "Los valores únicos para la variable gender son: ['Female' 'Male']\n",
      "\n",
      "Los valores únicos para la variable SeniorCitizen son: [0 1]\n",
      "\n",
      "Los valores únicos para la variable Partner son: ['Yes' 'No']\n",
      "\n",
      "Los valores únicos para la variable Dependents son: ['No' 'Yes']\n",
      "\n",
      "Los valores únicos para la variable tenure son: [ 1 34  2 45  8 22 10 28 62 13 16 58 49 25 69 52 71 21 12 30 47 72 17 27\n",
      "  5 46 11 70 63 43 15 60 18 66  9  3 31 50 64 56  7 42 35 48 29 65 38 68\n",
      " 32 55 37 36 41  6  4 33 67 23 57 61 14 20 53 40 59 24 44 19 54 51 26 39]\n",
      "\n",
      "Los valores únicos para la variable PhoneService son: ['No' 'Yes']\n",
      "\n",
      "Los valores únicos para la variable MultipleLines son: ['No phone service' 'No' 'Yes']\n",
      "\n",
      "Los valores únicos para la variable InternetService son: ['DSL' 'Fiber optic' 'No']\n",
      "\n",
      "Los valores únicos para la variable OnlineSecurity son: ['No' 'Yes' 'No internet service']\n",
      "\n",
      "Los valores únicos para la variable OnlineBackup son: ['Yes' 'No' 'No internet service']\n",
      "\n",
      "Los valores únicos para la variable DeviceProtection son: ['No' 'Yes' 'No internet service']\n",
      "\n",
      "Los valores únicos para la variable TechSupport son: ['No' 'Yes' 'No internet service']\n",
      "\n",
      "Los valores únicos para la variable StreamingTV son: ['No' 'Yes' 'No internet service']\n",
      "\n",
      "Los valores únicos para la variable StreamingMovies son: ['No' 'Yes' 'No internet service']\n",
      "\n",
      "Los valores únicos para la variable Contract son: ['Month-to-month' 'One year' 'Two year']\n",
      "\n",
      "Los valores únicos para la variable PaperlessBilling son: ['Yes' 'No']\n",
      "\n",
      "Los valores únicos para la variable PaymentMethod son: ['Electronic check' 'Mailed check' 'Bank transfer (automatic)'\n",
      " 'Credit card (automatic)']\n",
      "\n",
      "Los valores únicos para la variable MonthlyCharges son: [29.85 56.95 53.85 ... 63.1  44.2  78.7 ]\n",
      "\n",
      "Los valores únicos para la variable TotalCharges son: [  29.85 1889.5   108.15 ...  346.45  306.6  6844.5 ]\n",
      "\n",
      "Los valores únicos para la variable Churn son: ['No' 'Yes']\n",
      "\n"
     ]
    }
   ],
   "source": [
    "for i in df.columns:\n",
    "    print(\"Los valores únicos para la variable {} son: {}\\n\".format(i, df[i].unique()))"
   ]
  },
  {
   "cell_type": "markdown",
   "id": "cb0c611b",
   "metadata": {},
   "source": [
    "Se elimina la variable customerID ya que no es necesaria para el modelo."
   ]
  },
  {
   "cell_type": "code",
   "execution_count": 48,
   "id": "87b33cd8",
   "metadata": {},
   "outputs": [],
   "source": [
    "df.drop('customerID', axis = 1, inplace = True)"
   ]
  },
  {
   "cell_type": "markdown",
   "id": "de576f60",
   "metadata": {},
   "source": [
    "Se modifican los tipos del resto de variables."
   ]
  },
  {
   "cell_type": "code",
   "execution_count": 49,
   "id": "2f284ff9",
   "metadata": {},
   "outputs": [],
   "source": [
    "desired_boolean_columns = ['gender']\n",
    "desired_categorical_columns = ['MultipleLines', 'InternetService', 'OnlineSecurity', 'OnlineBackup', 'DeviceProtection',\n",
    "                               'TechSupport', 'StreamingTV', 'StreamingMovies', 'Contract', 'PaymentMethod', 'SeniorCitizen', \n",
    "                               'Partner', 'Dependents', 'PhoneService', 'PaperlessBilling', 'Churn']\n",
    "desired_numerical_columns = ['tenure', 'MonthlyCharges', 'TotalCharges']\n",
    "\n",
    "for column in df.columns:\n",
    "    if column in desired_boolean_columns:\n",
    "        df[column] = df[column].astype('bool')\n",
    "    elif column in desired_categorical_columns:\n",
    "        df[column] = df[column].astype('category')\n",
    "    else:\n",
    "        df[column] = pd.to_numeric(df[column])"
   ]
  },
  {
   "cell_type": "code",
   "execution_count": 50,
   "id": "eb4f9d6a",
   "metadata": {},
   "outputs": [
    {
     "data": {
      "text/plain": [
       "gender                  bool\n",
       "SeniorCitizen       category\n",
       "Partner             category\n",
       "Dependents          category\n",
       "tenure                 int64\n",
       "PhoneService        category\n",
       "MultipleLines       category\n",
       "InternetService     category\n",
       "OnlineSecurity      category\n",
       "OnlineBackup        category\n",
       "DeviceProtection    category\n",
       "TechSupport         category\n",
       "StreamingTV         category\n",
       "StreamingMovies     category\n",
       "Contract            category\n",
       "PaperlessBilling    category\n",
       "PaymentMethod       category\n",
       "MonthlyCharges       float64\n",
       "TotalCharges         float64\n",
       "Churn               category\n",
       "dtype: object"
      ]
     },
     "execution_count": 50,
     "metadata": {},
     "output_type": "execute_result"
    }
   ],
   "source": [
    "# Se comprueba el cambio\n",
    "df.dtypes"
   ]
  },
  {
   "cell_type": "markdown",
   "id": "d1563db6",
   "metadata": {},
   "source": [
    "Una vez el dataset está preparado, se puede dividir entre entrenamiento y test"
   ]
  },
  {
   "cell_type": "code",
   "execution_count": 58,
   "id": "2d16f842",
   "metadata": {},
   "outputs": [],
   "source": [
    "y = df['Churn'].copy()\n",
    "X = df[df.columns[0:-1]].copy()\n",
    "X_train, X_test, y_train, y_test = sklearn.model_selection.train_test_split(X, y, random_state=42)"
   ]
  },
  {
   "cell_type": "markdown",
   "id": "8126382a",
   "metadata": {},
   "source": [
    "Se va a realizar un primer entrenamiento con un límite de tiempo bajo:"
   ]
  },
  {
   "cell_type": "code",
   "execution_count": 93,
   "id": "d56eba56",
   "metadata": {},
   "outputs": [],
   "source": [
    "automl = autosklearn.classification.AutoSklearnClassifier(\n",
    "    time_left_for_this_task=120,\n",
    "    per_run_time_limit=10,\n",
    "    tmp_folder='/tmp/autosklearn_classification_pec10_tmp',\n",
    "    output_folder='/tmp/autosklearn_classification_pec10_out',\n",
    "    delete_tmp_folder_after_terminate=True, \n",
    "    delete_output_folder_after_terminate=True\n",
    ")"
   ]
  },
  {
   "cell_type": "code",
   "execution_count": 94,
   "id": "17738fb0",
   "metadata": {},
   "outputs": [
    {
     "data": {
      "text/plain": [
       "AutoSklearnClassifier(output_folder='/tmp/autosklearn_classification_pec10_out',\n",
       "                      per_run_time_limit=10, time_left_for_this_task=120,\n",
       "                      tmp_folder='/tmp/autosklearn_classification_pec10_tmp')"
      ]
     },
     "execution_count": 94,
     "metadata": {},
     "output_type": "execute_result"
    }
   ],
   "source": [
    "automl.fit(X_train, y_train, dataset_name='Telco-Customer-Churn')"
   ]
  },
  {
   "cell_type": "markdown",
   "id": "9e9a9a15",
   "metadata": {},
   "source": [
    "Una vez entrenado, se imprimen por pantalla los modelos así como las estadísticas del entrenamiento."
   ]
  },
  {
   "cell_type": "code",
   "execution_count": 95,
   "id": "d849680e",
   "metadata": {},
   "outputs": [
    {
     "name": "stdout",
     "output_type": "stream",
     "text": [
      "[(1.000000, SimpleClassificationPipeline({'balancing:strategy': 'none', 'classifier:__choice__': 'random_forest', 'data_preprocessing:categorical_transformer:categorical_encoding:__choice__': 'one_hot_encoding', 'data_preprocessing:categorical_transformer:category_coalescence:__choice__': 'minority_coalescer', 'data_preprocessing:numerical_transformer:imputation:strategy': 'mean', 'data_preprocessing:numerical_transformer:rescaling:__choice__': 'standardize', 'feature_preprocessor:__choice__': 'no_preprocessing', 'classifier:random_forest:bootstrap': 'True', 'classifier:random_forest:criterion': 'gini', 'classifier:random_forest:max_depth': 'None', 'classifier:random_forest:max_features': 0.5, 'classifier:random_forest:max_leaf_nodes': 'None', 'classifier:random_forest:min_impurity_decrease': 0.0, 'classifier:random_forest:min_samples_leaf': 1, 'classifier:random_forest:min_samples_split': 2, 'classifier:random_forest:min_weight_fraction_leaf': 0.0, 'data_preprocessing:categorical_transformer:category_coalescence:minority_coalescer:minimum_fraction': 0.01},\n",
      "dataset_properties={\n",
      "  'task': 1,\n",
      "  'sparse': False,\n",
      "  'multilabel': False,\n",
      "  'multiclass': False,\n",
      "  'target_type': 'classification',\n",
      "  'signed': False})),\n",
      "]\n"
     ]
    }
   ],
   "source": [
    "print(automl.show_models())"
   ]
  },
  {
   "cell_type": "code",
   "execution_count": 96,
   "id": "176334ef",
   "metadata": {},
   "outputs": [
    {
     "name": "stdout",
     "output_type": "stream",
     "text": [
      "auto-sklearn results:\n",
      "  Dataset name: Telco-Customer-Churn\n",
      "  Metric: accuracy\n",
      "  Best validation score: 0.788627\n",
      "  Number of target algorithm runs: 13\n",
      "  Number of successful target algorithm runs: 4\n",
      "  Number of crashed target algorithm runs: 0\n",
      "  Number of target algorithms that exceeded the time limit: 9\n",
      "  Number of target algorithms that exceeded the memory limit: 0\n",
      "\n"
     ]
    }
   ],
   "source": [
    "print(automl.sprint_statistics())"
   ]
  },
  {
   "cell_type": "markdown",
   "id": "4b2c4313",
   "metadata": {},
   "source": [
    "Se observa como las restricciones de tiempo conllevan que muchos de los algortimos no se hayan podido entrenar satisfactoriamente. El algoritmo seleccionado en este caso ha sido simplemente el Random Forest.\n",
    "\n",
    "A continuación se calculan las métricas con las que se va a analizar el modelo:"
   ]
  },
  {
   "cell_type": "code",
   "execution_count": 97,
   "id": "1c306d83",
   "metadata": {},
   "outputs": [
    {
     "name": "stdout",
     "output_type": "stream",
     "text": [
      "Accuracy score: 0.7770193401592719\n",
      "F1 Score score: 0.5288461538461539\n"
     ]
    }
   ],
   "source": [
    "predictions = automl.predict(X_test)\n",
    "print(\"Accuracy score:\", sklearn.metrics.accuracy_score(y_test, predictions))\n",
    "print(\"F1 Score score:\", sklearn.metrics.f1_score(y_test, predictions, pos_label = 'Yes'))"
   ]
  },
  {
   "cell_type": "markdown",
   "id": "ed907e4e",
   "metadata": {},
   "source": [
    "Vemos que los resultados son mejorables.\n",
    "Se hace una segunda prueba con los valores por defecto para los atributos time_left_for_this_task y per_run_time_limit, que se incrementan considerablemente por lo que el rendimiento del modelo final debería mejorar."
   ]
  },
  {
   "cell_type": "code",
   "execution_count": 101,
   "id": "e19f958f",
   "metadata": {},
   "outputs": [],
   "source": [
    "automl2 = autosklearn.classification.AutoSklearnClassifier(\n",
    "    time_left_for_this_task=3600,\n",
    "    per_run_time_limit=360,\n",
    "    tmp_folder='/tmp/autosklearn_classification_pec36_tmp',\n",
    "    output_folder='/tmp/autosklearn_classification_pec36_out',\n",
    "    delete_tmp_folder_after_terminate=True, \n",
    "    delete_output_folder_after_terminate=True\n",
    ")"
   ]
  },
  {
   "cell_type": "code",
   "execution_count": 102,
   "id": "704ae4c1",
   "metadata": {},
   "outputs": [
    {
     "data": {
      "text/plain": [
       "AutoSklearnClassifier(output_folder='/tmp/autosklearn_classification_pec36_out',\n",
       "                      per_run_time_limit=360,\n",
       "                      tmp_folder='/tmp/autosklearn_classification_pec36_tmp')"
      ]
     },
     "execution_count": 102,
     "metadata": {},
     "output_type": "execute_result"
    }
   ],
   "source": [
    "automl2.fit(X_train, y_train, dataset_name='Telco-Customer-Churn')"
   ]
  },
  {
   "cell_type": "code",
   "execution_count": 103,
   "id": "1f8ad8cf",
   "metadata": {},
   "outputs": [
    {
     "name": "stdout",
     "output_type": "stream",
     "text": [
      "[(0.780000, SimpleClassificationPipeline({'balancing:strategy': 'none', 'classifier:__choice__': 'adaboost', 'data_preprocessing:categorical_transformer:categorical_encoding:__choice__': 'no_encoding', 'data_preprocessing:categorical_transformer:category_coalescence:__choice__': 'no_coalescense', 'data_preprocessing:numerical_transformer:imputation:strategy': 'most_frequent', 'data_preprocessing:numerical_transformer:rescaling:__choice__': 'quantile_transformer', 'feature_preprocessor:__choice__': 'polynomial', 'classifier:adaboost:algorithm': 'SAMME', 'classifier:adaboost:learning_rate': 0.025032327219520423, 'classifier:adaboost:max_depth': 6, 'classifier:adaboost:n_estimators': 124, 'data_preprocessing:numerical_transformer:rescaling:quantile_transformer:n_quantiles': 950, 'data_preprocessing:numerical_transformer:rescaling:quantile_transformer:output_distribution': 'normal', 'feature_preprocessor:polynomial:degree': 2, 'feature_preprocessor:polynomial:include_bias': 'True', 'feature_preprocessor:polynomial:interaction_only': 'False'},\n",
      "dataset_properties={\n",
      "  'task': 1,\n",
      "  'sparse': False,\n",
      "  'multilabel': False,\n",
      "  'multiclass': False,\n",
      "  'target_type': 'classification',\n",
      "  'signed': False})),\n",
      "(0.080000, SimpleClassificationPipeline({'balancing:strategy': 'none', 'classifier:__choice__': 'random_forest', 'data_preprocessing:categorical_transformer:categorical_encoding:__choice__': 'one_hot_encoding', 'data_preprocessing:categorical_transformer:category_coalescence:__choice__': 'minority_coalescer', 'data_preprocessing:numerical_transformer:imputation:strategy': 'mean', 'data_preprocessing:numerical_transformer:rescaling:__choice__': 'standardize', 'feature_preprocessor:__choice__': 'no_preprocessing', 'classifier:random_forest:bootstrap': 'True', 'classifier:random_forest:criterion': 'gini', 'classifier:random_forest:max_depth': 'None', 'classifier:random_forest:max_features': 0.5, 'classifier:random_forest:max_leaf_nodes': 'None', 'classifier:random_forest:min_impurity_decrease': 0.0, 'classifier:random_forest:min_samples_leaf': 1, 'classifier:random_forest:min_samples_split': 2, 'classifier:random_forest:min_weight_fraction_leaf': 0.0, 'data_preprocessing:categorical_transformer:category_coalescence:minority_coalescer:minimum_fraction': 0.01},\n",
      "dataset_properties={\n",
      "  'task': 1,\n",
      "  'sparse': False,\n",
      "  'multilabel': False,\n",
      "  'multiclass': False,\n",
      "  'target_type': 'classification',\n",
      "  'signed': False})),\n",
      "(0.080000, SimpleClassificationPipeline({'balancing:strategy': 'none', 'classifier:__choice__': 'extra_trees', 'data_preprocessing:categorical_transformer:categorical_encoding:__choice__': 'one_hot_encoding', 'data_preprocessing:categorical_transformer:category_coalescence:__choice__': 'no_coalescense', 'data_preprocessing:numerical_transformer:imputation:strategy': 'most_frequent', 'data_preprocessing:numerical_transformer:rescaling:__choice__': 'normalize', 'feature_preprocessor:__choice__': 'polynomial', 'classifier:extra_trees:bootstrap': 'False', 'classifier:extra_trees:criterion': 'entropy', 'classifier:extra_trees:max_depth': 'None', 'classifier:extra_trees:max_features': 0.971348315581384, 'classifier:extra_trees:max_leaf_nodes': 'None', 'classifier:extra_trees:min_impurity_decrease': 0.0, 'classifier:extra_trees:min_samples_leaf': 2, 'classifier:extra_trees:min_samples_split': 19, 'classifier:extra_trees:min_weight_fraction_leaf': 0.0, 'feature_preprocessor:polynomial:degree': 2, 'feature_preprocessor:polynomial:include_bias': 'False', 'feature_preprocessor:polynomial:interaction_only': 'False'},\n",
      "dataset_properties={\n",
      "  'task': 1,\n",
      "  'sparse': False,\n",
      "  'multilabel': False,\n",
      "  'multiclass': False,\n",
      "  'target_type': 'classification',\n",
      "  'signed': False})),\n",
      "(0.060000, SimpleClassificationPipeline({'balancing:strategy': 'none', 'classifier:__choice__': 'random_forest', 'data_preprocessing:categorical_transformer:categorical_encoding:__choice__': 'no_encoding', 'data_preprocessing:categorical_transformer:category_coalescence:__choice__': 'no_coalescense', 'data_preprocessing:numerical_transformer:imputation:strategy': 'median', 'data_preprocessing:numerical_transformer:rescaling:__choice__': 'none', 'feature_preprocessor:__choice__': 'polynomial', 'classifier:random_forest:bootstrap': 'False', 'classifier:random_forest:criterion': 'gini', 'classifier:random_forest:max_depth': 'None', 'classifier:random_forest:max_features': 0.5904439656959901, 'classifier:random_forest:max_leaf_nodes': 'None', 'classifier:random_forest:min_impurity_decrease': 0.0, 'classifier:random_forest:min_samples_leaf': 12, 'classifier:random_forest:min_samples_split': 9, 'classifier:random_forest:min_weight_fraction_leaf': 0.0, 'feature_preprocessor:polynomial:degree': 3, 'feature_preprocessor:polynomial:include_bias': 'True', 'feature_preprocessor:polynomial:interaction_only': 'False'},\n",
      "dataset_properties={\n",
      "  'task': 1,\n",
      "  'sparse': False,\n",
      "  'multilabel': False,\n",
      "  'multiclass': False,\n",
      "  'target_type': 'classification',\n",
      "  'signed': False})),\n",
      "]\n"
     ]
    }
   ],
   "source": [
    "print(automl2.show_models())"
   ]
  },
  {
   "cell_type": "code",
   "execution_count": 104,
   "id": "8d4ea619",
   "metadata": {},
   "outputs": [
    {
     "name": "stdout",
     "output_type": "stream",
     "text": [
      "auto-sklearn results:\n",
      "  Dataset name: Telco-Customer-Churn\n",
      "  Metric: accuracy\n",
      "  Best validation score: 0.816772\n",
      "  Number of target algorithm runs: 17\n",
      "  Number of successful target algorithm runs: 8\n",
      "  Number of crashed target algorithm runs: 0\n",
      "  Number of target algorithms that exceeded the time limit: 9\n",
      "  Number of target algorithms that exceeded the memory limit: 0\n",
      "\n"
     ]
    }
   ],
   "source": [
    "print(automl2.sprint_statistics())"
   ]
  },
  {
   "cell_type": "markdown",
   "id": "879d0b57",
   "metadata": {},
   "source": [
    "Se observa como se han podido probar un mayor número de algoritmos, aunque nuevamente muchos de ellos han excedido el tiempo límite. Se comprueba como el tiempo es una gran barrera y es necesario incrementarlo para poder conseguir entrenar satisfactoriamente un mayor número de algortimos.\n",
    "\n",
    "En este caso se observa como el resultado final es un algortimo que es un ensemble de varios.\n",
    "\n",
    "Finalmente se analiza el rendimiento del modelo."
   ]
  },
  {
   "cell_type": "code",
   "execution_count": 105,
   "id": "277a45d8",
   "metadata": {},
   "outputs": [
    {
     "name": "stdout",
     "output_type": "stream",
     "text": [
      "Accuracy score: 0.79806598407281\n",
      "F1 Score score: 0.5523329129886507\n"
     ]
    }
   ],
   "source": [
    "predictions = automl2.predict(X_test)\n",
    "print(\"Accuracy score:\", sklearn.metrics.accuracy_score(y_test, predictions))\n",
    "print(\"F1 Score score:\", sklearn.metrics.f1_score(y_test, predictions, pos_label = 'Yes'))"
   ]
  },
  {
   "cell_type": "markdown",
   "id": "370f0fa5",
   "metadata": {},
   "source": [
    " Se observa como el rendimiento del modelo ha mejorado, pero es presumible que un incremento del tiempo de ejecución permitiría más pruebas que conllevarían mejores resultados finales."
   ]
  },
  {
   "cell_type": "code",
   "execution_count": null,
   "id": "f6e15470",
   "metadata": {},
   "outputs": [],
   "source": []
  }
 ],
 "metadata": {
  "kernelspec": {
   "display_name": "Python 3",
   "language": "python",
   "name": "python3"
  },
  "language_info": {
   "codemirror_mode": {
    "name": "ipython",
    "version": 3
   },
   "file_extension": ".py",
   "mimetype": "text/x-python",
   "name": "python",
   "nbconvert_exporter": "python",
   "pygments_lexer": "ipython3",
   "version": "3.6.9"
  }
 },
 "nbformat": 4,
 "nbformat_minor": 5
}
