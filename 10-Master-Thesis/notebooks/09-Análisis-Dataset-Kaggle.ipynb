{
 "cells": [
  {
   "cell_type": "markdown",
   "id": "bd73d6dd",
   "metadata": {},
   "source": [
    "# TFM Máster Data Science UAH 2020-2021\n",
    "\n",
    "### MIGUEL PÉREZ CARO\n",
    "\n",
    "Este notebook tiene como objetivo el análisis de un set de datos obtenido a través de Twitter en Febrero de 2015 que recoge tweets que hacen referencia a las principales aerolíneas estadounidenses y cuyo sentimiento ha sido clasificado manualmente. El set de datos se encuentra en: https://www.kaggle.com/crowdflower/twitter-airline-sentiment\n",
    "\n",
    "EL objetivo es comprobar dicho sentimiento y las diferencias que se encuentran con los resultados obtenidos en el dataset que se ha recogido durante el verano de 2021.\n",
    "\n",
    "En primer lugar se importan las librerías"
   ]
  },
  {
   "cell_type": "code",
   "execution_count": 58,
   "id": "d072abf3",
   "metadata": {},
   "outputs": [],
   "source": [
    "import os\n",
    "import re\n",
    "import string\n",
    "import numpy as np\n",
    "import pandas as pd\n",
    "from nltk.corpus import stopwords\n",
    "from emot.emo_unicode import EMOTICONS_EMO, UNICODE_EMOJI\n",
    "from vaderSentiment.vaderSentiment import SentimentIntensityAnalyzer"
   ]
  },
  {
   "cell_type": "markdown",
   "id": "701554c1",
   "metadata": {},
   "source": [
    "Se establece el directorio de trabajo."
   ]
  },
  {
   "cell_type": "code",
   "execution_count": 2,
   "id": "9deaee49",
   "metadata": {},
   "outputs": [],
   "source": [
    "directorio = os.path.dirname(os.getcwd())\n",
    "mydir = os.path.join(directorio, 'data')\n",
    "os.chdir(mydir)"
   ]
  },
  {
   "cell_type": "markdown",
   "id": "cff80876",
   "metadata": {},
   "source": [
    "Se carga el archivo."
   ]
  },
  {
   "cell_type": "code",
   "execution_count": 3,
   "id": "990d10f0",
   "metadata": {},
   "outputs": [],
   "source": [
    "df = pd.read_csv('kaggle.csv')"
   ]
  },
  {
   "cell_type": "markdown",
   "id": "496498aa",
   "metadata": {},
   "source": [
    "Se analiza el dataset."
   ]
  },
  {
   "cell_type": "code",
   "execution_count": 7,
   "id": "1e837c4e",
   "metadata": {},
   "outputs": [
    {
     "data": {
      "text/html": [
       "<div>\n",
       "<style scoped>\n",
       "    .dataframe tbody tr th:only-of-type {\n",
       "        vertical-align: middle;\n",
       "    }\n",
       "\n",
       "    .dataframe tbody tr th {\n",
       "        vertical-align: top;\n",
       "    }\n",
       "\n",
       "    .dataframe thead th {\n",
       "        text-align: right;\n",
       "    }\n",
       "</style>\n",
       "<table border=\"1\" class=\"dataframe\">\n",
       "  <thead>\n",
       "    <tr style=\"text-align: right;\">\n",
       "      <th></th>\n",
       "      <th>tweet_id</th>\n",
       "      <th>airline_sentiment</th>\n",
       "      <th>airline_sentiment_confidence</th>\n",
       "      <th>negativereason</th>\n",
       "      <th>negativereason_confidence</th>\n",
       "      <th>airline</th>\n",
       "      <th>airline_sentiment_gold</th>\n",
       "      <th>name</th>\n",
       "      <th>negativereason_gold</th>\n",
       "      <th>retweet_count</th>\n",
       "      <th>text</th>\n",
       "      <th>tweet_coord</th>\n",
       "      <th>tweet_created</th>\n",
       "      <th>tweet_location</th>\n",
       "      <th>user_timezone</th>\n",
       "    </tr>\n",
       "  </thead>\n",
       "  <tbody>\n",
       "    <tr>\n",
       "      <th>0</th>\n",
       "      <td>570306133677760513</td>\n",
       "      <td>neutral</td>\n",
       "      <td>1.0000</td>\n",
       "      <td>NaN</td>\n",
       "      <td>NaN</td>\n",
       "      <td>Virgin America</td>\n",
       "      <td>NaN</td>\n",
       "      <td>cairdin</td>\n",
       "      <td>NaN</td>\n",
       "      <td>0</td>\n",
       "      <td>@VirginAmerica What @dhepburn said.</td>\n",
       "      <td>NaN</td>\n",
       "      <td>2015-02-24 11:35:52 -0800</td>\n",
       "      <td>NaN</td>\n",
       "      <td>Eastern Time (US &amp; Canada)</td>\n",
       "    </tr>\n",
       "    <tr>\n",
       "      <th>1</th>\n",
       "      <td>570301130888122368</td>\n",
       "      <td>positive</td>\n",
       "      <td>0.3486</td>\n",
       "      <td>NaN</td>\n",
       "      <td>0.0000</td>\n",
       "      <td>Virgin America</td>\n",
       "      <td>NaN</td>\n",
       "      <td>jnardino</td>\n",
       "      <td>NaN</td>\n",
       "      <td>0</td>\n",
       "      <td>@VirginAmerica plus you've added commercials t...</td>\n",
       "      <td>NaN</td>\n",
       "      <td>2015-02-24 11:15:59 -0800</td>\n",
       "      <td>NaN</td>\n",
       "      <td>Pacific Time (US &amp; Canada)</td>\n",
       "    </tr>\n",
       "    <tr>\n",
       "      <th>2</th>\n",
       "      <td>570301083672813571</td>\n",
       "      <td>neutral</td>\n",
       "      <td>0.6837</td>\n",
       "      <td>NaN</td>\n",
       "      <td>NaN</td>\n",
       "      <td>Virgin America</td>\n",
       "      <td>NaN</td>\n",
       "      <td>yvonnalynn</td>\n",
       "      <td>NaN</td>\n",
       "      <td>0</td>\n",
       "      <td>@VirginAmerica I didn't today... Must mean I n...</td>\n",
       "      <td>NaN</td>\n",
       "      <td>2015-02-24 11:15:48 -0800</td>\n",
       "      <td>Lets Play</td>\n",
       "      <td>Central Time (US &amp; Canada)</td>\n",
       "    </tr>\n",
       "    <tr>\n",
       "      <th>3</th>\n",
       "      <td>570301031407624196</td>\n",
       "      <td>negative</td>\n",
       "      <td>1.0000</td>\n",
       "      <td>Bad Flight</td>\n",
       "      <td>0.7033</td>\n",
       "      <td>Virgin America</td>\n",
       "      <td>NaN</td>\n",
       "      <td>jnardino</td>\n",
       "      <td>NaN</td>\n",
       "      <td>0</td>\n",
       "      <td>@VirginAmerica it's really aggressive to blast...</td>\n",
       "      <td>NaN</td>\n",
       "      <td>2015-02-24 11:15:36 -0800</td>\n",
       "      <td>NaN</td>\n",
       "      <td>Pacific Time (US &amp; Canada)</td>\n",
       "    </tr>\n",
       "    <tr>\n",
       "      <th>4</th>\n",
       "      <td>570300817074462722</td>\n",
       "      <td>negative</td>\n",
       "      <td>1.0000</td>\n",
       "      <td>Can't Tell</td>\n",
       "      <td>1.0000</td>\n",
       "      <td>Virgin America</td>\n",
       "      <td>NaN</td>\n",
       "      <td>jnardino</td>\n",
       "      <td>NaN</td>\n",
       "      <td>0</td>\n",
       "      <td>@VirginAmerica and it's a really big bad thing...</td>\n",
       "      <td>NaN</td>\n",
       "      <td>2015-02-24 11:14:45 -0800</td>\n",
       "      <td>NaN</td>\n",
       "      <td>Pacific Time (US &amp; Canada)</td>\n",
       "    </tr>\n",
       "  </tbody>\n",
       "</table>\n",
       "</div>"
      ],
      "text/plain": [
       "             tweet_id airline_sentiment  airline_sentiment_confidence  \\\n",
       "0  570306133677760513           neutral                        1.0000   \n",
       "1  570301130888122368          positive                        0.3486   \n",
       "2  570301083672813571           neutral                        0.6837   \n",
       "3  570301031407624196          negative                        1.0000   \n",
       "4  570300817074462722          negative                        1.0000   \n",
       "\n",
       "  negativereason  negativereason_confidence         airline  \\\n",
       "0            NaN                        NaN  Virgin America   \n",
       "1            NaN                     0.0000  Virgin America   \n",
       "2            NaN                        NaN  Virgin America   \n",
       "3     Bad Flight                     0.7033  Virgin America   \n",
       "4     Can't Tell                     1.0000  Virgin America   \n",
       "\n",
       "  airline_sentiment_gold        name negativereason_gold  retweet_count  \\\n",
       "0                    NaN     cairdin                 NaN              0   \n",
       "1                    NaN    jnardino                 NaN              0   \n",
       "2                    NaN  yvonnalynn                 NaN              0   \n",
       "3                    NaN    jnardino                 NaN              0   \n",
       "4                    NaN    jnardino                 NaN              0   \n",
       "\n",
       "                                                text tweet_coord  \\\n",
       "0                @VirginAmerica What @dhepburn said.         NaN   \n",
       "1  @VirginAmerica plus you've added commercials t...         NaN   \n",
       "2  @VirginAmerica I didn't today... Must mean I n...         NaN   \n",
       "3  @VirginAmerica it's really aggressive to blast...         NaN   \n",
       "4  @VirginAmerica and it's a really big bad thing...         NaN   \n",
       "\n",
       "               tweet_created tweet_location               user_timezone  \n",
       "0  2015-02-24 11:35:52 -0800            NaN  Eastern Time (US & Canada)  \n",
       "1  2015-02-24 11:15:59 -0800            NaN  Pacific Time (US & Canada)  \n",
       "2  2015-02-24 11:15:48 -0800      Lets Play  Central Time (US & Canada)  \n",
       "3  2015-02-24 11:15:36 -0800            NaN  Pacific Time (US & Canada)  \n",
       "4  2015-02-24 11:14:45 -0800            NaN  Pacific Time (US & Canada)  "
      ]
     },
     "execution_count": 7,
     "metadata": {},
     "output_type": "execute_result"
    }
   ],
   "source": [
    "df.head()"
   ]
  },
  {
   "cell_type": "code",
   "execution_count": 4,
   "id": "c5aca4ac",
   "metadata": {},
   "outputs": [
    {
     "data": {
      "text/plain": [
       "(14640, 15)"
      ]
     },
     "execution_count": 4,
     "metadata": {},
     "output_type": "execute_result"
    }
   ],
   "source": [
    "df.shape"
   ]
  },
  {
   "cell_type": "code",
   "execution_count": 6,
   "id": "7c5733ce",
   "metadata": {},
   "outputs": [
    {
     "name": "stdout",
     "output_type": "stream",
     "text": [
      "<class 'pandas.core.frame.DataFrame'>\n",
      "RangeIndex: 14640 entries, 0 to 14639\n",
      "Data columns (total 15 columns):\n",
      " #   Column                        Non-Null Count  Dtype  \n",
      "---  ------                        --------------  -----  \n",
      " 0   tweet_id                      14640 non-null  int64  \n",
      " 1   airline_sentiment             14640 non-null  object \n",
      " 2   airline_sentiment_confidence  14640 non-null  float64\n",
      " 3   negativereason                9178 non-null   object \n",
      " 4   negativereason_confidence     10522 non-null  float64\n",
      " 5   airline                       14640 non-null  object \n",
      " 6   airline_sentiment_gold        40 non-null     object \n",
      " 7   name                          14640 non-null  object \n",
      " 8   negativereason_gold           32 non-null     object \n",
      " 9   retweet_count                 14640 non-null  int64  \n",
      " 10  text                          14640 non-null  object \n",
      " 11  tweet_coord                   1019 non-null   object \n",
      " 12  tweet_created                 14640 non-null  object \n",
      " 13  tweet_location                9907 non-null   object \n",
      " 14  user_timezone                 9820 non-null   object \n",
      "dtypes: float64(2), int64(2), object(11)\n",
      "memory usage: 1.7+ MB\n"
     ]
    }
   ],
   "source": [
    "df.info()"
   ]
  },
  {
   "cell_type": "code",
   "execution_count": 8,
   "id": "2db68369",
   "metadata": {},
   "outputs": [
    {
     "data": {
      "text/plain": [
       "array(['Virgin America', 'United', 'Southwest', 'Delta', 'US Airways',\n",
       "       'American'], dtype=object)"
      ]
     },
     "execution_count": 8,
     "metadata": {},
     "output_type": "execute_result"
    }
   ],
   "source": [
    "df.airline.unique()"
   ]
  },
  {
   "cell_type": "markdown",
   "id": "3d0fa942",
   "metadata": {},
   "source": [
    "Solo interesan los campos:\n",
    "\n",
    "- airline_sentiment\n",
    "- negativereason\n",
    "- airline\n",
    "- text\n",
    "\n",
    "Y las aerolíneas analizadas en el estudio que son: American, Delta, Southwest y United"
   ]
  },
  {
   "cell_type": "code",
   "execution_count": 9,
   "id": "a90d057e",
   "metadata": {},
   "outputs": [
    {
     "data": {
      "text/html": [
       "<div>\n",
       "<style scoped>\n",
       "    .dataframe tbody tr th:only-of-type {\n",
       "        vertical-align: middle;\n",
       "    }\n",
       "\n",
       "    .dataframe tbody tr th {\n",
       "        vertical-align: top;\n",
       "    }\n",
       "\n",
       "    .dataframe thead th {\n",
       "        text-align: right;\n",
       "    }\n",
       "</style>\n",
       "<table border=\"1\" class=\"dataframe\">\n",
       "  <thead>\n",
       "    <tr style=\"text-align: right;\">\n",
       "      <th></th>\n",
       "      <th>airline_sentiment</th>\n",
       "      <th>negativereason</th>\n",
       "      <th>airline</th>\n",
       "      <th>text</th>\n",
       "    </tr>\n",
       "  </thead>\n",
       "  <tbody>\n",
       "    <tr>\n",
       "      <th>0</th>\n",
       "      <td>neutral</td>\n",
       "      <td>NaN</td>\n",
       "      <td>Virgin America</td>\n",
       "      <td>@VirginAmerica What @dhepburn said.</td>\n",
       "    </tr>\n",
       "    <tr>\n",
       "      <th>1</th>\n",
       "      <td>positive</td>\n",
       "      <td>NaN</td>\n",
       "      <td>Virgin America</td>\n",
       "      <td>@VirginAmerica plus you've added commercials t...</td>\n",
       "    </tr>\n",
       "    <tr>\n",
       "      <th>2</th>\n",
       "      <td>neutral</td>\n",
       "      <td>NaN</td>\n",
       "      <td>Virgin America</td>\n",
       "      <td>@VirginAmerica I didn't today... Must mean I n...</td>\n",
       "    </tr>\n",
       "    <tr>\n",
       "      <th>3</th>\n",
       "      <td>negative</td>\n",
       "      <td>Bad Flight</td>\n",
       "      <td>Virgin America</td>\n",
       "      <td>@VirginAmerica it's really aggressive to blast...</td>\n",
       "    </tr>\n",
       "    <tr>\n",
       "      <th>4</th>\n",
       "      <td>negative</td>\n",
       "      <td>Can't Tell</td>\n",
       "      <td>Virgin America</td>\n",
       "      <td>@VirginAmerica and it's a really big bad thing...</td>\n",
       "    </tr>\n",
       "  </tbody>\n",
       "</table>\n",
       "</div>"
      ],
      "text/plain": [
       "  airline_sentiment negativereason         airline  \\\n",
       "0           neutral            NaN  Virgin America   \n",
       "1          positive            NaN  Virgin America   \n",
       "2           neutral            NaN  Virgin America   \n",
       "3          negative     Bad Flight  Virgin America   \n",
       "4          negative     Can't Tell  Virgin America   \n",
       "\n",
       "                                                text  \n",
       "0                @VirginAmerica What @dhepburn said.  \n",
       "1  @VirginAmerica plus you've added commercials t...  \n",
       "2  @VirginAmerica I didn't today... Must mean I n...  \n",
       "3  @VirginAmerica it's really aggressive to blast...  \n",
       "4  @VirginAmerica and it's a really big bad thing...  "
      ]
     },
     "execution_count": 9,
     "metadata": {},
     "output_type": "execute_result"
    }
   ],
   "source": [
    "df.drop(columns=['tweet_id', 'airline_sentiment_confidence', 'negativereason_confidence', 'airline_sentiment_gold',\n",
    "                 'name', 'negativereason_gold', 'retweet_count', 'tweet_coord', 'tweet_created', 'tweet_location',\n",
    "                 'user_timezone'], inplace = True)"
   ]
  },
  {
   "cell_type": "code",
   "execution_count": 11,
   "id": "2084f8b7",
   "metadata": {},
   "outputs": [],
   "source": [
    "df = df[df['airline'].isin(['United', 'Southwest', 'Delta', 'American'])]"
   ]
  },
  {
   "cell_type": "code",
   "execution_count": 12,
   "id": "2ced7aae",
   "metadata": {},
   "outputs": [
    {
     "data": {
      "text/plain": [
       "array(['United', 'Southwest', 'Delta', 'American'], dtype=object)"
      ]
     },
     "execution_count": 12,
     "metadata": {},
     "output_type": "execute_result"
    }
   ],
   "source": [
    "df.airline.unique()"
   ]
  },
  {
   "cell_type": "markdown",
   "id": "881b40e8",
   "metadata": {},
   "source": [
    "Se va a comprobar la distribución del sentimiento de los tweets por aerolínea:"
   ]
  },
  {
   "cell_type": "code",
   "execution_count": 19,
   "id": "c159247d",
   "metadata": {},
   "outputs": [
    {
     "name": "stdout",
     "output_type": "stream",
     "text": [
      "Cantidad total de tweets recogidos por aerolínea:\n",
      "\n",
      "airline\n",
      "American     2759\n",
      "Delta        2222\n",
      "Southwest    2420\n",
      "United       3822\n",
      "Name: text, dtype: int64\n"
     ]
    }
   ],
   "source": [
    "print(\"Cantidad total de tweets recogidos por aerolínea:\\n\")\n",
    "print(df.groupby('airline')['text'].count())"
   ]
  },
  {
   "cell_type": "code",
   "execution_count": 45,
   "id": "fc972a2f",
   "metadata": {},
   "outputs": [],
   "source": [
    "airlines= ['United','American','Southwest','Delta']\n",
    "columns1 = ['Positivo', 'Neutral', 'Negativo', 'Total']\n",
    "columns2 = ['Positivo', 'Neutral', 'Negativo']\n",
    "\n",
    "data_total = list()\n",
    "data_porcentaje = list()\n",
    "\n",
    "for i in airlines :\n",
    "\n",
    "    data1 = [list(df.loc[df.airline == i].airline_sentiment.value_counts().sort_index(ascending = False).values)+[df.loc[df.airline == i].shape[0]]]\n",
    "    data_total = data_total+data1\n",
    "    \n",
    "    data2 = np.array(df.loc[df.airline == i].airline_sentiment.value_counts().sort_index(ascending = False).values)/df.loc[df.airline == i].shape[0]\n",
    "    data2 = np.around(data2, decimals=4)*100\n",
    "    data_porcentaje.append(data2)  "
   ]
  },
  {
   "cell_type": "code",
   "execution_count": 48,
   "id": "992a9339",
   "metadata": {},
   "outputs": [
    {
     "data": {
      "text/html": [
       "<div>\n",
       "<style scoped>\n",
       "    .dataframe tbody tr th:only-of-type {\n",
       "        vertical-align: middle;\n",
       "    }\n",
       "\n",
       "    .dataframe tbody tr th {\n",
       "        vertical-align: top;\n",
       "    }\n",
       "\n",
       "    .dataframe thead th {\n",
       "        text-align: right;\n",
       "    }\n",
       "</style>\n",
       "<table border=\"1\" class=\"dataframe\">\n",
       "  <thead>\n",
       "    <tr style=\"text-align: right;\">\n",
       "      <th></th>\n",
       "      <th>Positivo</th>\n",
       "      <th>Neutral</th>\n",
       "      <th>Negativo</th>\n",
       "      <th>Total</th>\n",
       "    </tr>\n",
       "  </thead>\n",
       "  <tbody>\n",
       "    <tr>\n",
       "      <th>United</th>\n",
       "      <td>492</td>\n",
       "      <td>697</td>\n",
       "      <td>2633</td>\n",
       "      <td>3822</td>\n",
       "    </tr>\n",
       "    <tr>\n",
       "      <th>American</th>\n",
       "      <td>336</td>\n",
       "      <td>463</td>\n",
       "      <td>1960</td>\n",
       "      <td>2759</td>\n",
       "    </tr>\n",
       "    <tr>\n",
       "      <th>Southwest</th>\n",
       "      <td>570</td>\n",
       "      <td>664</td>\n",
       "      <td>1186</td>\n",
       "      <td>2420</td>\n",
       "    </tr>\n",
       "    <tr>\n",
       "      <th>Delta</th>\n",
       "      <td>544</td>\n",
       "      <td>723</td>\n",
       "      <td>955</td>\n",
       "      <td>2222</td>\n",
       "    </tr>\n",
       "  </tbody>\n",
       "</table>\n",
       "</div>"
      ],
      "text/plain": [
       "           Positivo  Neutral  Negativo  Total\n",
       "United          492      697      2633   3822\n",
       "American        336      463      1960   2759\n",
       "Southwest       570      664      1186   2420\n",
       "Delta           544      723       955   2222"
      ]
     },
     "execution_count": 48,
     "metadata": {},
     "output_type": "execute_result"
    }
   ],
   "source": [
    "df_total = pd.DataFrame(data_total, columns = columns1, index = airlines)\n",
    "df_total"
   ]
  },
  {
   "cell_type": "code",
   "execution_count": 49,
   "id": "5ecead10",
   "metadata": {},
   "outputs": [
    {
     "data": {
      "text/html": [
       "<div>\n",
       "<style scoped>\n",
       "    .dataframe tbody tr th:only-of-type {\n",
       "        vertical-align: middle;\n",
       "    }\n",
       "\n",
       "    .dataframe tbody tr th {\n",
       "        vertical-align: top;\n",
       "    }\n",
       "\n",
       "    .dataframe thead th {\n",
       "        text-align: right;\n",
       "    }\n",
       "</style>\n",
       "<table border=\"1\" class=\"dataframe\">\n",
       "  <thead>\n",
       "    <tr style=\"text-align: right;\">\n",
       "      <th></th>\n",
       "      <th>Positivo</th>\n",
       "      <th>Neutral</th>\n",
       "      <th>Negativo</th>\n",
       "    </tr>\n",
       "  </thead>\n",
       "  <tbody>\n",
       "    <tr>\n",
       "      <th>United</th>\n",
       "      <td>12.87</td>\n",
       "      <td>18.24</td>\n",
       "      <td>68.89</td>\n",
       "    </tr>\n",
       "    <tr>\n",
       "      <th>American</th>\n",
       "      <td>12.18</td>\n",
       "      <td>16.78</td>\n",
       "      <td>71.04</td>\n",
       "    </tr>\n",
       "    <tr>\n",
       "      <th>Southwest</th>\n",
       "      <td>23.55</td>\n",
       "      <td>27.44</td>\n",
       "      <td>49.01</td>\n",
       "    </tr>\n",
       "    <tr>\n",
       "      <th>Delta</th>\n",
       "      <td>24.48</td>\n",
       "      <td>32.54</td>\n",
       "      <td>42.98</td>\n",
       "    </tr>\n",
       "  </tbody>\n",
       "</table>\n",
       "</div>"
      ],
      "text/plain": [
       "           Positivo  Neutral  Negativo\n",
       "United        12.87    18.24     68.89\n",
       "American      12.18    16.78     71.04\n",
       "Southwest     23.55    27.44     49.01\n",
       "Delta         24.48    32.54     42.98"
      ]
     },
     "execution_count": 49,
     "metadata": {},
     "output_type": "execute_result"
    }
   ],
   "source": [
    "df_porcentaje = pd.DataFrame(data_porcentaje, columns = columns2, index = airlines)\n",
    "df_porcentaje"
   ]
  },
  {
   "cell_type": "markdown",
   "id": "e0747d3a",
   "metadata": {},
   "source": [
    "Una vez mostrados los resultados en cuanto al sentimiento por aerolínea, también interesa obtener los diferentes motivos a los que se debe el sentimiento negativo, lo cuál puede ser comparado con los patrones encontrados:"
   ]
  },
  {
   "cell_type": "code",
   "execution_count": 50,
   "id": "f0177260",
   "metadata": {},
   "outputs": [
    {
     "name": "stdout",
     "output_type": "stream",
     "text": [
      "Razones por las que un tweet se ha considerado como algo negativo:\n",
      "\n",
      "Customer Service Issue         2039\n",
      "Late Flight                    1195\n",
      "Can't Tell                      922\n",
      "Cancelled Flight                640\n",
      "Lost Luggage                    565\n",
      "Bad Flight                      457\n",
      "Flight Booking Problems         379\n",
      "Flight Attendant Complaints     353\n",
      "longlines                       125\n",
      "Damaged Luggage                  59\n",
      "Name: negativereason, dtype: int64\n"
     ]
    }
   ],
   "source": [
    "print('Razones por las que un tweet se ha considerado como algo negativo:\\n')\n",
    "print(df.negativereason.value_counts())"
   ]
  },
  {
   "cell_type": "markdown",
   "id": "1ab05ae4",
   "metadata": {},
   "source": [
    "Por curiosidad, se va a aplicar la limpieza realizada y a utilizar el analizador de Sentimientos VADER para ver si los resultados difieren en gran medida de los obtenidos.\n",
    "\n",
    "Se comienza por la limpieza"
   ]
  },
  {
   "cell_type": "code",
   "execution_count": 51,
   "id": "26c83195",
   "metadata": {},
   "outputs": [],
   "source": [
    "def clean_emoticons(text):\n",
    "    \"\"\"\n",
    "    Función generada para hacer la limpieza de emoticonos.\n",
    "    \n",
    "    param: text texto a limpiar\n",
    "    :return: texto limpio\n",
    "    \"\"\"\n",
    "    for emot in EMOTICONS_EMO:\n",
    "        if emot in text:\n",
    "            text = text.replace(emot, \" {} \".format(EMOTICONS_EMO[emot]))\n",
    "    return text"
   ]
  },
  {
   "cell_type": "code",
   "execution_count": 52,
   "id": "b1e23471",
   "metadata": {},
   "outputs": [],
   "source": [
    "def clean_emojis(text):\n",
    "    \"\"\"\n",
    "    Función generada para hacer la limpieza de emojis.\n",
    "    \n",
    "    param: text texto a limpiar\n",
    "    :return: texto limpio\n",
    "    \"\"\"\n",
    "    for emot in UNICODE_EMOJI:\n",
    "        if emot in text:\n",
    "            text = text.replace(emot, \" {} \".format(UNICODE_EMOJI[emot].replace(':',\"\").replace('_',' ')))\n",
    "    return text"
   ]
  },
  {
   "cell_type": "code",
   "execution_count": 54,
   "id": "5e8cb428",
   "metadata": {},
   "outputs": [],
   "source": [
    "lista_elementos_eliminar = ['#', ' rt ', '\\n', 'american airlines', 'delta airlines', 'united airlines', \n",
    "                            'southwest airlines', ' aa ', ' aal ', ' dl ', ' dal ', ' ua ', ' ual ', ' swa ',\n",
    "                            ' mi ', ' ft ', ' frm ', ' hrzn ', ' amp ']"
   ]
  },
  {
   "cell_type": "code",
   "execution_count": 55,
   "id": "2c94f0c4",
   "metadata": {},
   "outputs": [],
   "source": [
    "def cleaning_text_basico(df, lista_elementos_eliminar):\n",
    "    \"\"\"\n",
    "    Función generada para hacer una limpieza general del texto.\n",
    "    \n",
    "    param: df dataframe a limpiar\n",
    "    :return: lista con el texto limpiado. Un elemento por cada fila del dataframe.\n",
    "    \"\"\"\n",
    "    corpus = [' ' + text + ' ' for text in  df.text.tolist()] # Añadir espacio al principio y al final apra fcilitar limpieza\n",
    "    corpus = [re.sub('@[A-Za-z0-9_]+',' ', text) for text in corpus] # Eliminar usuarios\n",
    "    corpus = [re.sub(r'http\\S+', '', text) for text in corpus] # Eliminas enlaces web\n",
    "    corpus = [text.lower() for text in corpus] # Pasar a minúsculas\n",
    "    #corpus = [clean_emojis(text) for text in corpus] # Eliminar emojis\n",
    "    #corpus = [clean_emoticons(text) for text in corpus] # Eliminar emoticonos\n",
    "    #corpus = [''.join(ch for ch in text if ch not in string.punctuation) for text in corpus] # Eliminar signos de puntuación\n",
    "    corpus = [re.sub(r'[^a-z\\s]', '', text) for text in corpus] # Eliminar lo que no sea minúscula o espacio\n",
    "    for i in lista_elementos_eliminar:\n",
    "        corpus = [re.sub(i,' ', text) for text in corpus] # Eliminar elementos de la lista\n",
    "    corpus = [text.strip() for text in corpus] # Normalizar espacios\n",
    "    corpus = [re.sub(r' +', ' ', text) for text in corpus] # Normalizar espacios\n",
    "    corpus = [' '.join(word for word in text.split() if word not in stopwords.words('english')) for text in corpus] # Eliminar stopwords \n",
    "    return corpus"
   ]
  },
  {
   "cell_type": "code",
   "execution_count": 56,
   "id": "2f4a882f",
   "metadata": {},
   "outputs": [],
   "source": [
    "corpus_clean = cleaning_text_basico(df, lista_elementos_eliminar)"
   ]
  },
  {
   "cell_type": "code",
   "execution_count": 57,
   "id": "fd27aa43",
   "metadata": {},
   "outputs": [],
   "source": [
    "df['text_clean'] = corpus_clean"
   ]
  },
  {
   "cell_type": "markdown",
   "id": "395a4a4f",
   "metadata": {},
   "source": [
    "Se procede a realizar el análisis de sentimiento"
   ]
  },
  {
   "cell_type": "code",
   "execution_count": 61,
   "id": "9c918b97",
   "metadata": {},
   "outputs": [],
   "source": [
    "vader_analyzer = SentimentIntensityAnalyzer()"
   ]
  },
  {
   "cell_type": "code",
   "execution_count": 66,
   "id": "8a6a73f0",
   "metadata": {},
   "outputs": [],
   "source": [
    "def vader_sentiment_analysis(text):\n",
    "    \"\"\"\n",
    "    Función para calcular el sentimiento de los tweets a partir de la librería VADER.\n",
    "    \n",
    "    param: text texto a calcular su sentimiento.\n",
    "    :return: vader_sentiment resultado compound del análisis.\n",
    "    \"\"\"\n",
    "    vader_sentiment_full = vader_analyzer.polarity_scores(text)\n",
    "    vader_sentiment = vader_sentiment_full['compound']\n",
    "    return vader_sentiment"
   ]
  },
  {
   "cell_type": "code",
   "execution_count": 67,
   "id": "557f99d6",
   "metadata": {},
   "outputs": [],
   "source": [
    "df['vader_sentiment'] = df['text_clean'].apply(vader_sentiment_analysis)"
   ]
  },
  {
   "cell_type": "code",
   "execution_count": 68,
   "id": "96c1041e",
   "metadata": {},
   "outputs": [],
   "source": [
    "def vader_sentiment_texto(score): \n",
    "    \"\"\"\n",
    "    Función para pasar a texto el resultado del análisis de sentimiento.\n",
    "    \n",
    "    param: score el resultado del análisis.\n",
    "    :return: Valor en texto del resultado\n",
    "    \"\"\"\n",
    "    if score < -0.05:\n",
    "        return 'Negativo'\n",
    "    elif score > 0.05:\n",
    "        return 'Positivo'\n",
    "    else:\n",
    "        return 'Neutral'"
   ]
  },
  {
   "cell_type": "code",
   "execution_count": 69,
   "id": "bba2c541",
   "metadata": {},
   "outputs": [],
   "source": [
    "df['vader_sentiment_analysis'] = df['vader_sentiment'].apply(vader_sentiment_texto)"
   ]
  },
  {
   "cell_type": "markdown",
   "id": "32d45e84",
   "metadata": {},
   "source": [
    "Se obtienen los valores totales y porcentuales como se hizo anteriormente"
   ]
  },
  {
   "cell_type": "code",
   "execution_count": 70,
   "id": "fb62035a",
   "metadata": {},
   "outputs": [],
   "source": [
    "data_total_vader = list()\n",
    "data_porcentaje_vader = list()\n",
    "\n",
    "for i in airlines :\n",
    "    data1 = [list(df.loc[df.airline == i].vader_sentiment_analysis.value_counts().sort_index(ascending = False).values)+[df.loc[df.airline == i].shape[0]]]\n",
    "    data_total_vader = data_total_vader+data1\n",
    "    \n",
    "    data2 = np.array(df.loc[df.airline == i].vader_sentiment_analysis.value_counts().sort_index(ascending = False).values)/df.loc[df.airline == i].shape[0]\n",
    "    data2 = np.around(data2, decimals=4)*100\n",
    "    data_porcentaje_vader.append(data2)  \n",
    "    "
   ]
  },
  {
   "cell_type": "code",
   "execution_count": 73,
   "id": "97393c0a",
   "metadata": {},
   "outputs": [],
   "source": [
    "data_total_vader = pd.DataFrame(data_total_vader, columns = columns1, index = airlines)"
   ]
  },
  {
   "cell_type": "code",
   "execution_count": 74,
   "id": "33ac74a6",
   "metadata": {},
   "outputs": [],
   "source": [
    "data_porcentaje_vader = pd.DataFrame(data_porcentaje_vader, columns = columns2, index = airlines)"
   ]
  },
  {
   "cell_type": "code",
   "execution_count": 75,
   "id": "9b890500",
   "metadata": {},
   "outputs": [
    {
     "data": {
      "text/html": [
       "<div>\n",
       "<style scoped>\n",
       "    .dataframe tbody tr th:only-of-type {\n",
       "        vertical-align: middle;\n",
       "    }\n",
       "\n",
       "    .dataframe tbody tr th {\n",
       "        vertical-align: top;\n",
       "    }\n",
       "\n",
       "    .dataframe thead th {\n",
       "        text-align: right;\n",
       "    }\n",
       "</style>\n",
       "<table border=\"1\" class=\"dataframe\">\n",
       "  <thead>\n",
       "    <tr style=\"text-align: right;\">\n",
       "      <th></th>\n",
       "      <th>Positivo</th>\n",
       "      <th>Neutral</th>\n",
       "      <th>Negativo</th>\n",
       "      <th>Total</th>\n",
       "    </tr>\n",
       "  </thead>\n",
       "  <tbody>\n",
       "    <tr>\n",
       "      <th>United</th>\n",
       "      <td>492</td>\n",
       "      <td>697</td>\n",
       "      <td>2633</td>\n",
       "      <td>3822</td>\n",
       "    </tr>\n",
       "    <tr>\n",
       "      <th>American</th>\n",
       "      <td>336</td>\n",
       "      <td>463</td>\n",
       "      <td>1960</td>\n",
       "      <td>2759</td>\n",
       "    </tr>\n",
       "    <tr>\n",
       "      <th>Southwest</th>\n",
       "      <td>570</td>\n",
       "      <td>664</td>\n",
       "      <td>1186</td>\n",
       "      <td>2420</td>\n",
       "    </tr>\n",
       "    <tr>\n",
       "      <th>Delta</th>\n",
       "      <td>544</td>\n",
       "      <td>723</td>\n",
       "      <td>955</td>\n",
       "      <td>2222</td>\n",
       "    </tr>\n",
       "  </tbody>\n",
       "</table>\n",
       "</div>"
      ],
      "text/plain": [
       "           Positivo  Neutral  Negativo  Total\n",
       "United          492      697      2633   3822\n",
       "American        336      463      1960   2759\n",
       "Southwest       570      664      1186   2420\n",
       "Delta           544      723       955   2222"
      ]
     },
     "execution_count": 75,
     "metadata": {},
     "output_type": "execute_result"
    }
   ],
   "source": [
    "df_total"
   ]
  },
  {
   "cell_type": "code",
   "execution_count": 76,
   "id": "5d60115c",
   "metadata": {},
   "outputs": [
    {
     "data": {
      "text/html": [
       "<div>\n",
       "<style scoped>\n",
       "    .dataframe tbody tr th:only-of-type {\n",
       "        vertical-align: middle;\n",
       "    }\n",
       "\n",
       "    .dataframe tbody tr th {\n",
       "        vertical-align: top;\n",
       "    }\n",
       "\n",
       "    .dataframe thead th {\n",
       "        text-align: right;\n",
       "    }\n",
       "</style>\n",
       "<table border=\"1\" class=\"dataframe\">\n",
       "  <thead>\n",
       "    <tr style=\"text-align: right;\">\n",
       "      <th></th>\n",
       "      <th>Positivo</th>\n",
       "      <th>Neutral</th>\n",
       "      <th>Negativo</th>\n",
       "      <th>Total</th>\n",
       "    </tr>\n",
       "  </thead>\n",
       "  <tbody>\n",
       "    <tr>\n",
       "      <th>United</th>\n",
       "      <td>1666</td>\n",
       "      <td>878</td>\n",
       "      <td>1278</td>\n",
       "      <td>3822</td>\n",
       "    </tr>\n",
       "    <tr>\n",
       "      <th>American</th>\n",
       "      <td>1153</td>\n",
       "      <td>665</td>\n",
       "      <td>941</td>\n",
       "      <td>2759</td>\n",
       "    </tr>\n",
       "    <tr>\n",
       "      <th>Southwest</th>\n",
       "      <td>1213</td>\n",
       "      <td>611</td>\n",
       "      <td>596</td>\n",
       "      <td>2420</td>\n",
       "    </tr>\n",
       "    <tr>\n",
       "      <th>Delta</th>\n",
       "      <td>1015</td>\n",
       "      <td>694</td>\n",
       "      <td>513</td>\n",
       "      <td>2222</td>\n",
       "    </tr>\n",
       "  </tbody>\n",
       "</table>\n",
       "</div>"
      ],
      "text/plain": [
       "           Positivo  Neutral  Negativo  Total\n",
       "United         1666      878      1278   3822\n",
       "American       1153      665       941   2759\n",
       "Southwest      1213      611       596   2420\n",
       "Delta          1015      694       513   2222"
      ]
     },
     "execution_count": 76,
     "metadata": {},
     "output_type": "execute_result"
    }
   ],
   "source": [
    "data_total_vader"
   ]
  },
  {
   "cell_type": "code",
   "execution_count": 78,
   "id": "70505a43",
   "metadata": {},
   "outputs": [
    {
     "data": {
      "text/html": [
       "<div>\n",
       "<style scoped>\n",
       "    .dataframe tbody tr th:only-of-type {\n",
       "        vertical-align: middle;\n",
       "    }\n",
       "\n",
       "    .dataframe tbody tr th {\n",
       "        vertical-align: top;\n",
       "    }\n",
       "\n",
       "    .dataframe thead th {\n",
       "        text-align: right;\n",
       "    }\n",
       "</style>\n",
       "<table border=\"1\" class=\"dataframe\">\n",
       "  <thead>\n",
       "    <tr style=\"text-align: right;\">\n",
       "      <th></th>\n",
       "      <th>Positivo</th>\n",
       "      <th>Neutral</th>\n",
       "      <th>Negativo</th>\n",
       "    </tr>\n",
       "  </thead>\n",
       "  <tbody>\n",
       "    <tr>\n",
       "      <th>United</th>\n",
       "      <td>12.87</td>\n",
       "      <td>18.24</td>\n",
       "      <td>68.89</td>\n",
       "    </tr>\n",
       "    <tr>\n",
       "      <th>American</th>\n",
       "      <td>12.18</td>\n",
       "      <td>16.78</td>\n",
       "      <td>71.04</td>\n",
       "    </tr>\n",
       "    <tr>\n",
       "      <th>Southwest</th>\n",
       "      <td>23.55</td>\n",
       "      <td>27.44</td>\n",
       "      <td>49.01</td>\n",
       "    </tr>\n",
       "    <tr>\n",
       "      <th>Delta</th>\n",
       "      <td>24.48</td>\n",
       "      <td>32.54</td>\n",
       "      <td>42.98</td>\n",
       "    </tr>\n",
       "  </tbody>\n",
       "</table>\n",
       "</div>"
      ],
      "text/plain": [
       "           Positivo  Neutral  Negativo\n",
       "United        12.87    18.24     68.89\n",
       "American      12.18    16.78     71.04\n",
       "Southwest     23.55    27.44     49.01\n",
       "Delta         24.48    32.54     42.98"
      ]
     },
     "execution_count": 78,
     "metadata": {},
     "output_type": "execute_result"
    }
   ],
   "source": [
    "df_porcentaje"
   ]
  },
  {
   "cell_type": "code",
   "execution_count": 79,
   "id": "56c148e7",
   "metadata": {},
   "outputs": [
    {
     "data": {
      "text/html": [
       "<div>\n",
       "<style scoped>\n",
       "    .dataframe tbody tr th:only-of-type {\n",
       "        vertical-align: middle;\n",
       "    }\n",
       "\n",
       "    .dataframe tbody tr th {\n",
       "        vertical-align: top;\n",
       "    }\n",
       "\n",
       "    .dataframe thead th {\n",
       "        text-align: right;\n",
       "    }\n",
       "</style>\n",
       "<table border=\"1\" class=\"dataframe\">\n",
       "  <thead>\n",
       "    <tr style=\"text-align: right;\">\n",
       "      <th></th>\n",
       "      <th>Positivo</th>\n",
       "      <th>Neutral</th>\n",
       "      <th>Negativo</th>\n",
       "    </tr>\n",
       "  </thead>\n",
       "  <tbody>\n",
       "    <tr>\n",
       "      <th>United</th>\n",
       "      <td>43.59</td>\n",
       "      <td>22.97</td>\n",
       "      <td>33.44</td>\n",
       "    </tr>\n",
       "    <tr>\n",
       "      <th>American</th>\n",
       "      <td>41.79</td>\n",
       "      <td>24.10</td>\n",
       "      <td>34.11</td>\n",
       "    </tr>\n",
       "    <tr>\n",
       "      <th>Southwest</th>\n",
       "      <td>50.12</td>\n",
       "      <td>25.25</td>\n",
       "      <td>24.63</td>\n",
       "    </tr>\n",
       "    <tr>\n",
       "      <th>Delta</th>\n",
       "      <td>45.68</td>\n",
       "      <td>31.23</td>\n",
       "      <td>23.09</td>\n",
       "    </tr>\n",
       "  </tbody>\n",
       "</table>\n",
       "</div>"
      ],
      "text/plain": [
       "           Positivo  Neutral  Negativo\n",
       "United        43.59    22.97     33.44\n",
       "American      41.79    24.10     34.11\n",
       "Southwest     50.12    25.25     24.63\n",
       "Delta         45.68    31.23     23.09"
      ]
     },
     "execution_count": 79,
     "metadata": {},
     "output_type": "execute_result"
    }
   ],
   "source": [
    "data_porcentaje_vader"
   ]
  },
  {
   "cell_type": "code",
   "execution_count": null,
   "id": "a6e17894",
   "metadata": {},
   "outputs": [],
   "source": []
  }
 ],
 "metadata": {
  "kernelspec": {
   "display_name": "Python 3 (ipykernel)",
   "language": "python",
   "name": "python3"
  },
  "language_info": {
   "codemirror_mode": {
    "name": "ipython",
    "version": 3
   },
   "file_extension": ".py",
   "mimetype": "text/x-python",
   "name": "python",
   "nbconvert_exporter": "python",
   "pygments_lexer": "ipython3",
   "version": "3.7.7"
  }
 },
 "nbformat": 4,
 "nbformat_minor": 5
}
