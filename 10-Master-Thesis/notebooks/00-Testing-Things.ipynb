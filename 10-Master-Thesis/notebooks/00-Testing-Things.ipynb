{
 "cells": [
  {
   "cell_type": "markdown",
   "id": "addec242",
   "metadata": {},
   "source": [
    "Notebook dedicado a probar cosas que quiera implementar"
   ]
  },
  {
   "cell_type": "code",
   "execution_count": 1,
   "id": "0f9b90fe",
   "metadata": {},
   "outputs": [],
   "source": [
    "from datetime import date"
   ]
  },
  {
   "cell_type": "code",
   "execution_count": 2,
   "id": "1cf5dd38",
   "metadata": {},
   "outputs": [
    {
     "data": {
      "text/plain": [
       "datetime.date(2021, 8, 3)"
      ]
     },
     "execution_count": 2,
     "metadata": {},
     "output_type": "execute_result"
    }
   ],
   "source": [
    "date.today()"
   ]
  },
  {
   "cell_type": "code",
   "execution_count": 3,
   "id": "ddc530eb",
   "metadata": {},
   "outputs": [],
   "source": [
    "date = date.today()"
   ]
  },
  {
   "cell_type": "code",
   "execution_count": 9,
   "id": "bd8e241c",
   "metadata": {},
   "outputs": [],
   "source": [
    "a = 'jeje'"
   ]
  },
  {
   "cell_type": "code",
   "execution_count": 7,
   "id": "e4a67d1d",
   "metadata": {},
   "outputs": [],
   "source": [
    "date = date.strftime(\"%m-%d-%Y\")"
   ]
  },
  {
   "cell_type": "code",
   "execution_count": null,
   "id": "351bca46",
   "metadata": {},
   "outputs": [],
   "source": [
    "with open('%s_tweets.csv' % keyword, \"w\", newline='', encoding=\"utf-8\") as f: "
   ]
  },
  {
   "cell_type": "code",
   "execution_count": 13,
   "id": "bba75879",
   "metadata": {},
   "outputs": [
    {
     "name": "stdout",
     "output_type": "stream",
     "text": [
      "jeje_08-03-2021_tweets.csv\n"
     ]
    }
   ],
   "source": [
    "print('%s_%s_tweets.csv'%(a, date))"
   ]
  },
  {
   "cell_type": "code",
   "execution_count": 7,
   "id": "52503fe3",
   "metadata": {},
   "outputs": [],
   "source": [
    "import os "
   ]
  },
  {
   "cell_type": "code",
   "execution_count": 10,
   "id": "0d3bc3af",
   "metadata": {},
   "outputs": [
    {
     "data": {
      "text/plain": [
       "'/Users/miguel.perezibm.com/Desktop/MIGUEL/Courses/Master/10-TFM/tweets'"
      ]
     },
     "execution_count": 10,
     "metadata": {},
     "output_type": "execute_result"
    }
   ],
   "source": [
    "directorio = os.getcwd()\n",
    "os.path.join(directorio, 'tweets')"
   ]
  },
  {
   "cell_type": "code",
   "execution_count": null,
   "id": "f469b31d",
   "metadata": {},
   "outputs": [],
   "source": []
  }
 ],
 "metadata": {
  "kernelspec": {
   "display_name": "Python 3 (ipykernel)",
   "language": "python",
   "name": "python3"
  },
  "language_info": {
   "codemirror_mode": {
    "name": "ipython",
    "version": 3
   },
   "file_extension": ".py",
   "mimetype": "text/x-python",
   "name": "python",
   "nbconvert_exporter": "python",
   "pygments_lexer": "ipython3",
   "version": "3.7.7"
  }
 },
 "nbformat": 4,
 "nbformat_minor": 5
}
