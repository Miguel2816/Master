{
 "cells": [
  {
   "cell_type": "markdown",
   "metadata": {
    "ExecuteTime": {
     "end_time": "2021-06-24T11:15:46.327597Z",
     "start_time": "2021-06-24T11:15:46.312591Z"
    }
   },
   "source": [
    "# PEC 1: APRENDIJAZE POR REFUERZO\n",
    "\n",
    "Tomar el notebook 02_bandidos_contextuales_por_estados_adversarios_exp3.ipynb del Bloque 1 de los bandidos subido en el material del bloque 3 y realizar las siguientes tareas:\n",
    "\n",
    "* Documenta cada función y clase, explicando qué hacen.\n",
    "* Prueba distintos parámetros para el mismo problema de bandidos en el agente. ¿Con cuál obtienes mayor beneficio?\n"
   ]
  },
  {
   "cell_type": "markdown",
   "metadata": {},
   "source": [
    "Para la resolución de este ejercicio se usa como base el notebook comentando toda clase y función, y también el punto 2.0.2 Lanzamos un experimento para comparar con los resultados aleatorios. El resto del código se entiende que está ya comentado mediante el uso de celdas markdown para explicar lo que se está haciendo."
   ]
  },
  {
   "cell_type": "markdown",
   "metadata": {},
   "source": [
    "<h1>Table of Contents<span class=\"tocSkip\"></span></h1>\n",
    "<div class=\"toc\"><ul class=\"toc-item\"><li><span><a href=\"#Aprendizaje-por-refuerzo-simple\" data-toc-modified-id=\"Aprendizaje-por-refuerzo-simple-1\"><span class=\"toc-item-num\">1&nbsp;&nbsp;</span>Aprendizaje por refuerzo simple</a></span><ul class=\"toc-item\"><li><span><a href=\"#Bandido-multiarmado\" data-toc-modified-id=\"Bandido-multiarmado-1.1\"><span class=\"toc-item-num\">1.1&nbsp;&nbsp;</span>Bandido multiarmado</a></span></li><li><span><a href=\"#Bandidos-contextuales\" data-toc-modified-id=\"Bandidos-contextuales-1.2\"><span class=\"toc-item-num\">1.2&nbsp;&nbsp;</span>Bandidos contextuales</a></span><ul class=\"toc-item\"><li><span><a href=\"#Escenarios\" data-toc-modified-id=\"Escenarios-1.2.1\"><span class=\"toc-item-num\">1.2.1&nbsp;&nbsp;</span>Escenarios</a></span></li><li><span><a href=\"#Beneficio-de-realizar-la-elección-de-acciones-aleatoriamente\" data-toc-modified-id=\"Beneficio-de-realizar-la-elección-de-acciones-aleatoriamente-1.2.2\"><span class=\"toc-item-num\">1.2.2&nbsp;&nbsp;</span>Beneficio de realizar la elección de acciones aleatoriamente</a></span></li></ul></li></ul></li><li><span><a href=\"#Programamos-un-EXP3-para-comparar-con-el-problema-anterior\" data-toc-modified-id=\"Programamos-un-EXP3-para-comparar-con-el-problema-anterior-2\"><span class=\"toc-item-num\">2&nbsp;&nbsp;</span>Programamos un EXP3 para comparar con el problema anterior</a></span><ul class=\"toc-item\"><li><ul class=\"toc-item\"><li><span><a href=\"#Ejemplo-de-toma-de-acción-y-actualización-de-pesos\" data-toc-modified-id=\"Ejemplo-de-toma-de-acción-y-actualización-de-pesos-2.0.1\"><span class=\"toc-item-num\">2.0.1&nbsp;&nbsp;</span>Ejemplo de toma de acción y actualización de pesos</a></span></li><li><span><a href=\"#Lanzamos-un-experimento-para-comparar-con-los-resultados-aleatorios\" data-toc-modified-id=\"Lanzamos-un-experimento-para-comparar-con-los-resultados-aleatorios-2.0.2\"><span class=\"toc-item-num\">2.0.2&nbsp;&nbsp;</span>Lanzamos un experimento para comparar con los resultados aleatorios</a></span></li></ul></li></ul></li></ul></div>"
   ]
  },
  {
   "cell_type": "markdown",
   "metadata": {},
   "source": [
    "# Aprendizaje por refuerzo simple\n",
    "\n",
    "## Bandido multiarmado\n",
    "\n",
    "Es el ejemplo más básico de aprendizaje por refuerzo. Consiste en una serie de acciones y recompensas posibles en cada momento que verifican las siguientes condiciones:\n",
    "\n",
    "- Acciones distintas dan recompensas distintas.\n",
    "- Las recompensas son inmediatas o en el mismo período de elección antes de decidir la siguiente acción.\n",
    "- La recompensa por una acción no depende del estado del entorno.\n",
    "\n",
    "La idea del bandido multiarmado es que va probando sus distintas acciones posibles, y observa qué recocmpensas obtiene. Conforme se ejecutan acciones se tiene información de la recompensa de cada una, y el bandido va ejecutando con más frecuencia aquellas acciones cuya recompensa es más alta, pero sin dejar de pulsar aquellas cuya recompensa es menor de vez en cuando.\n",
    "\n",
    "Esto resuelve el dilema de **exploración y explotación**, con más información [aquí](https://steemit.com/technology/@mor/machine-learning-series-part-5-exploration-vs-exploitation-dilemma-in-reinforcement-learning) y [aquí](http://www.cogsci.ucsd.edu/~ajyu/Teaching/Cogs202_sp16/Slides/lect4.pdf). Básicamente consiste en explotar las opciones conocidas como mejores o explorar nuevas opciones que puedan mejorar las actuales, hay un coste de oportunidad implícito en ambas elecciones.\n",
    "\n",
    "Se recomienda la lectura del siguiente [enlace](https://medium.com/@awjuliani/super-simple-reinforcement-learning-tutorial-part-1-fd544fab149) antes de proseguir.\n",
    "\n",
    "## Bandidos contextuales\n",
    "\n",
    "Si queremos aplicar bandidos que actúen en distitons estados del entorno, podemos crear una serie de contextos y a cada contexto asignarle un bandido con sus correspondientes acciones que actúe sólo en ese escenario y aprenda independientemente del resto. Esto se conoce como **bandidos contextuales**."
   ]
  },
  {
   "cell_type": "markdown",
   "metadata": {},
   "source": [
    "### Escenarios\n",
    "Here we define our contextual bandits. In this example, we are using three four-armed bandit. What this means is that each bandit has four arms that can be pulled. Each bandit has different success probabilities for each arm, and as such requires different actions to obtain the best result. The pullBandit function generates a random number from a normal distribution with a mean of 0. The lower the bandit number, the more likely a positive reward will be returned. We want our agent to learn to always choose the bandit-arm that will most often give a positive reward, depending on the Bandit presented.\n",
    "\n",
    "En la siguiente clase creamos contextos y bandidos con opciones:\n",
    "\n",
    "- Cada contexto tiene generada aleatoriamente tantos valores de una distribución normal como acciones posibles tiene el bandido de ese contexto. \n",
    "- El dinero que gana cada bandido  ejcutando una acción es el el resultado de una extracción de una normal menos el valor guardado para la acción del contexto  correspondiente a ese bandido."
   ]
  },
  {
   "cell_type": "code",
   "execution_count": 4,
   "metadata": {
    "ExecuteTime": {
     "end_time": "2021-06-24T11:29:35.877347Z",
     "start_time": "2021-06-24T11:29:34.423822Z"
    }
   },
   "outputs": [],
   "source": [
    "import numpy as np\n",
    "from scipy.special import logsumexp\n",
    "import pandas as pd\n",
    "from tqdm import tqdm\n",
    "import seaborn as sns\n",
    "%matplotlib inline\n",
    "\n",
    "\n",
    "class ContextualBandits():\n",
    "    \"\"\"\n",
    "    Esta clase pretende emular el entorno.\n",
    "    \"\"\"\n",
    "\n",
    "    def __init__(self, num_bandits, num_actions):\n",
    "        \"\"\"\n",
    "        Método de inicialización.\n",
    "        \n",
    "        - num_bandits: número de estados.\n",
    "        - num_actions: número de acciones.\n",
    "        \"\"\"\n",
    "        self.state = 0\n",
    "        self.bandits = np.random.randn(num_bandits, num_actions)\n",
    "        self.num_bandits = num_bandits\n",
    "        self.num_actions = num_actions\n",
    "\n",
    "    def get_bandit(self):\n",
    "        \"\"\"\n",
    "        Método que devuelve un estado de forma aleatoria.\n",
    "        \"\"\"\n",
    "        # Returns a random state for each episode.\n",
    "        self.state = np.random.randint(0, self.num_bandits)\n",
    "        return self.state\n",
    "\n",
    "    def pull_arm(self, action):\n",
    "        \"\"\"\n",
    "        Método que devuelve una recompensa en función de la acción.\n",
    "        \n",
    "        - action: acción tomada de la que se quiere obtener la recompensa.\n",
    "        \n",
    "        \"\"\"\n",
    "\n",
    "        bandit = self.bandits[self.state, action]\n",
    "        result = np.random.randn(1)\n",
    "\n",
    "        return np.sum(result - bandit)\n",
    "\n",
    "    def reset_bandit(self):\n",
    "        \"\"\"\n",
    "        Método que reinicializa la matriz que define la recompensa. \n",
    "        Sirve para simular un cambio en la distribuciñón de las recompensas.\n",
    "        \"\"\"\n",
    "        num_res = np.random.randint(self.num_bandits)\n",
    "        bandits_reset = np.random.choice(np.arange(0, self.num_bandits), num_res, replace=False)\n",
    "        self.bandits[bandits_reset] = np.random.randn(num_res, self.num_actions)"
   ]
  },
  {
   "cell_type": "markdown",
   "metadata": {},
   "source": [
    "Creamos 10 contextos ó bandidos que tienen 3 acciones cada uno"
   ]
  },
  {
   "cell_type": "code",
   "execution_count": 5,
   "metadata": {
    "ExecuteTime": {
     "end_time": "2021-06-24T11:29:35.891067Z",
     "start_time": "2021-06-24T11:29:35.879448Z"
    }
   },
   "outputs": [
    {
     "data": {
      "text/plain": [
       "(10, 3)"
      ]
     },
     "execution_count": 5,
     "metadata": {},
     "output_type": "execute_result"
    }
   ],
   "source": [
    "N_BANDITS = 10\n",
    "N_ACTIONS = 3\n",
    "\n",
    "bands = ContextualBandits(10,3)\n",
    "bands.bandits.shape"
   ]
  },
  {
   "cell_type": "markdown",
   "metadata": {},
   "source": [
    "La siguiente matriz indica para cada una de las 10 filas (bandidos) cada uno de los estados de las 3 acciones. Conforme más negativo es el número asignado a una acción esta es más rentable. Esto es algo que desconoceremos en la realidad y querremos averiguar."
   ]
  },
  {
   "cell_type": "code",
   "execution_count": 6,
   "metadata": {
    "ExecuteTime": {
     "end_time": "2021-06-24T11:29:36.893877Z",
     "start_time": "2021-06-24T11:29:36.885156Z"
    }
   },
   "outputs": [
    {
     "data": {
      "text/plain": [
       "array([[ 0.08352039, -0.30207032, -2.46691321],\n",
       "       [ 0.90718611,  1.17599733,  0.02925788],\n",
       "       [-1.20103382, -1.17995521,  2.7776259 ],\n",
       "       [-1.08348984, -0.2947699 ,  1.30659976],\n",
       "       [-0.54854714,  0.85858571, -0.46756058],\n",
       "       [ 1.00502101,  0.61747007, -0.98947437],\n",
       "       [-0.31365481, -0.35648044,  0.07690909],\n",
       "       [-1.52994222, -1.69874909,  0.41916935],\n",
       "       [-0.17748496, -0.60360047,  2.31011721],\n",
       "       [-0.38977905, -1.27686009,  1.86225147]])"
      ]
     },
     "execution_count": 6,
     "metadata": {},
     "output_type": "execute_result"
    }
   ],
   "source": [
    "bands.bandits"
   ]
  },
  {
   "cell_type": "markdown",
   "metadata": {},
   "source": [
    "Método que extrae el contexto que toca en cada momento:"
   ]
  },
  {
   "cell_type": "code",
   "execution_count": 7,
   "metadata": {
    "ExecuteTime": {
     "end_time": "2021-06-24T11:29:37.941082Z",
     "start_time": "2021-06-24T11:29:37.934491Z"
    }
   },
   "outputs": [
    {
     "data": {
      "text/plain": [
       "0"
      ]
     },
     "execution_count": 7,
     "metadata": {},
     "output_type": "execute_result"
    }
   ],
   "source": [
    "bands.get_bandit()"
   ]
  },
  {
   "cell_type": "code",
   "execution_count": 8,
   "metadata": {
    "ExecuteTime": {
     "end_time": "2021-06-24T11:29:38.307874Z",
     "start_time": "2021-06-24T11:29:38.300638Z"
    }
   },
   "outputs": [
    {
     "data": {
      "text/plain": [
       "0"
      ]
     },
     "execution_count": 8,
     "metadata": {},
     "output_type": "execute_result"
    }
   ],
   "source": [
    "bands.state"
   ]
  },
  {
   "cell_type": "markdown",
   "metadata": {},
   "source": [
    "Para simular una situación real ponemos un método `.reset_bandits`"
   ]
  },
  {
   "cell_type": "code",
   "execution_count": 9,
   "metadata": {
    "ExecuteTime": {
     "end_time": "2021-06-24T11:29:39.108383Z",
     "start_time": "2021-06-24T11:29:39.102046Z"
    }
   },
   "outputs": [],
   "source": [
    "bands.reset_bandit()"
   ]
  },
  {
   "cell_type": "code",
   "execution_count": 10,
   "metadata": {
    "ExecuteTime": {
     "end_time": "2021-06-24T11:29:39.447168Z",
     "start_time": "2021-06-24T11:29:39.438762Z"
    }
   },
   "outputs": [
    {
     "data": {
      "text/plain": [
       "array([[ 0.08352039, -0.30207032, -2.46691321],\n",
       "       [ 0.67894648, -0.61054431,  1.09501751],\n",
       "       [-1.20103382, -1.17995521,  2.7776259 ],\n",
       "       [-1.08348984, -0.2947699 ,  1.30659976],\n",
       "       [-0.54854714,  0.85858571, -0.46756058],\n",
       "       [ 1.00502101,  0.61747007, -0.98947437],\n",
       "       [ 0.27071087,  0.30553965, -1.41531809],\n",
       "       [-1.52994222, -1.69874909,  0.41916935],\n",
       "       [-0.17748496, -0.60360047,  2.31011721],\n",
       "       [ 1.05591172,  0.03123861,  0.66899917]])"
      ]
     },
     "execution_count": 10,
     "metadata": {},
     "output_type": "execute_result"
    }
   ],
   "source": [
    "bands.bandits"
   ]
  },
  {
   "cell_type": "markdown",
   "metadata": {},
   "source": [
    "Elegir opción para el bandido actual y te dice el beneficio obtenido"
   ]
  },
  {
   "cell_type": "code",
   "execution_count": 11,
   "metadata": {
    "ExecuteTime": {
     "end_time": "2021-06-24T11:29:40.276063Z",
     "start_time": "2021-06-24T11:29:40.268320Z"
    }
   },
   "outputs": [
    {
     "data": {
      "text/plain": [
       "3.3321510460603316"
      ]
     },
     "execution_count": 11,
     "metadata": {},
     "output_type": "execute_result"
    }
   ],
   "source": [
    "bands.pull_arm(2)"
   ]
  },
  {
   "cell_type": "markdown",
   "metadata": {},
   "source": [
    "### Beneficio de realizar la elección de acciones aleatoriamente\n",
    "\n",
    "Creamos funciones que permiten ejecutar experimentos"
   ]
  },
  {
   "cell_type": "code",
   "execution_count": 12,
   "metadata": {
    "ExecuteTime": {
     "end_time": "2021-06-24T11:29:40.992143Z",
     "start_time": "2021-06-24T11:29:40.984471Z"
    }
   },
   "outputs": [],
   "source": [
    "def experimento_bandidos(bandido, episodios):\n",
    "    \"\"\"\n",
    "    Experimento que pretende calcular el beneficio que se obtendría si se hace una selección aleatoria.\n",
    "    \n",
    "    - bandido: el entorno.\n",
    "    - episidios: iteraciones.\n",
    "    \"\"\"\n",
    "    beneficio = 0\n",
    "\n",
    "    for k in range(episodios):\n",
    "        bandido.get_bandit()\n",
    "        beneficio += bandido.pull_arm(np.random.choice(bandido.num_actions))\n",
    "    return beneficio\n",
    "\n",
    "\n",
    "def simulaciones_bandidos(n, bandido, episodios):\n",
    "    \"\"\"\n",
    "    Simulación del experimento anterior para un número n de veces. \n",
    "    Almacena los resultados del experimento.\n",
    "    \n",
    "    - n: número de veces que se ejecuta el experimento.\n",
    "    - bandido: el entorno; parámetro de la función anterior.\n",
    "    - episidios: iteraciones; parámetro de la función anterior.\n",
    "    \"\"\"\n",
    "    lista = []\n",
    "    for i in tqdm(range(n), desc=\"RUNNING EXPERIMENTS\"):\n",
    "        lista.append(experimento_bandidos(bandido, episodios))\n",
    "    return lista"
   ]
  },
  {
   "cell_type": "markdown",
   "metadata": {},
   "source": [
    "Creamos una clase de bandidos con 100 contextos y 3 acciones posibles en cada contexto. Establecemos que haremos 2000 experimentos."
   ]
  },
  {
   "cell_type": "code",
   "execution_count": 13,
   "metadata": {
    "ExecuteTime": {
     "end_time": "2021-06-24T11:29:57.873972Z",
     "start_time": "2021-06-24T11:29:42.146504Z"
    }
   },
   "outputs": [
    {
     "name": "stderr",
     "output_type": "stream",
     "text": [
      "RUNNING EXPERIMENTS: 100%|██████████| 30/30 [00:15<00:00,  1.91it/s]\n"
     ]
    },
    {
     "data": {
      "text/plain": [
       "0    -444.747985\n",
       "1    -597.077611\n",
       "2    -447.441508\n",
       "3    -414.715762\n",
       "4    -532.173664\n",
       "5    -501.853328\n",
       "6    -500.360382\n",
       "7     -94.655578\n",
       "8    -511.894618\n",
       "9    -993.029395\n",
       "10   -402.917700\n",
       "11   -307.735917\n",
       "12   -663.561023\n",
       "13   -802.704075\n",
       "14   -510.551881\n",
       "15   -391.481272\n",
       "16   -774.442207\n",
       "17   -411.087147\n",
       "18   -662.897915\n",
       "19   -365.982646\n",
       "20   -438.239997\n",
       "21   -685.519581\n",
       "22   -551.559645\n",
       "23   -389.776119\n",
       "24   -653.863987\n",
       "25   -882.575717\n",
       "26   -530.433202\n",
       "27   -749.066331\n",
       "28    -94.135379\n",
       "29   -790.174332\n",
       "dtype: float64"
      ]
     },
     "execution_count": 13,
     "metadata": {},
     "output_type": "execute_result"
    }
   ],
   "source": [
    "N_CONTEXTS = 100\n",
    "N_ACTIONS = 3\n",
    "\n",
    "N_EXPERIMENTS = 30\n",
    "N_EPOCHS = 20000\n",
    "\n",
    "np.random.seed(0)\n",
    "cont_bandit = ContextualBandits(N_CONTEXTS, N_ACTIONS)\n",
    "\n",
    "sims = pd.Series(simulaciones_bandidos(N_EXPERIMENTS, cont_bandit, N_EPOCHS))\n",
    "sims"
   ]
  },
  {
   "cell_type": "markdown",
   "metadata": {
    "ExecuteTime": {
     "end_time": "2018-05-19T21:47:27.393872Z",
     "start_time": "2018-05-19T21:47:27.389189Z"
    }
   },
   "source": [
    "En cada uno de los experimentos con `N_EPOCHS` obtenemos una media de beneficio de "
   ]
  },
  {
   "cell_type": "code",
   "execution_count": 14,
   "metadata": {
    "ExecuteTime": {
     "end_time": "2021-06-24T11:29:57.888089Z",
     "start_time": "2021-06-24T11:29:57.878396Z"
    }
   },
   "outputs": [
    {
     "data": {
      "text/plain": [
       "-536.5551967928858"
      ]
     },
     "execution_count": 14,
     "metadata": {},
     "output_type": "execute_result"
    }
   ],
   "source": [
    "sims.mean()"
   ]
  },
  {
   "cell_type": "markdown",
   "metadata": {
    "ExecuteTime": {
     "end_time": "2018-05-19T22:22:55.691418Z",
     "start_time": "2018-05-19T22:22:55.686444Z"
    }
   },
   "source": [
    "Beneficio medio por acción:\n"
   ]
  },
  {
   "cell_type": "code",
   "execution_count": 15,
   "metadata": {
    "ExecuteTime": {
     "end_time": "2021-06-24T11:29:57.897455Z",
     "start_time": "2021-06-24T11:29:57.891304Z"
    }
   },
   "outputs": [
    {
     "data": {
      "text/plain": [
       "-0.02682775983964429"
      ]
     },
     "execution_count": 15,
     "metadata": {},
     "output_type": "execute_result"
    }
   ],
   "source": [
    "sims.mean() / N_EPOCHS"
   ]
  },
  {
   "cell_type": "code",
   "execution_count": 16,
   "metadata": {
    "ExecuteTime": {
     "end_time": "2021-06-24T11:29:57.913891Z",
     "start_time": "2021-06-24T11:29:57.899846Z"
    }
   },
   "outputs": [
    {
     "data": {
      "text/plain": [
       "count     30.000000\n",
       "mean    -536.555197\n",
       "std      205.973901\n",
       "min     -993.029395\n",
       "25%     -663.395246\n",
       "50%     -511.223250\n",
       "75%     -411.994301\n",
       "max      -94.135379\n",
       "dtype: float64"
      ]
     },
     "execution_count": 16,
     "metadata": {},
     "output_type": "execute_result"
    }
   ],
   "source": [
    "sims.describe()"
   ]
  },
  {
   "cell_type": "code",
   "execution_count": 17,
   "metadata": {
    "ExecuteTime": {
     "end_time": "2021-06-24T11:29:58.207374Z",
     "start_time": "2021-06-24T11:29:57.916374Z"
    }
   },
   "outputs": [
    {
     "name": "stderr",
     "output_type": "stream",
     "text": [
      "/usr/local/lib/python3.7/site-packages/seaborn/distributions.py:2557: FutureWarning: `distplot` is a deprecated function and will be removed in a future version. Please adapt your code to use either `displot` (a figure-level function with similar flexibility) or `histplot` (an axes-level function for histograms).\n",
      "  warnings.warn(msg, FutureWarning)\n"
     ]
    },
    {
     "data": {
      "text/plain": [
       "<AxesSubplot:ylabel='Density'>"
      ]
     },
     "execution_count": 17,
     "metadata": {},
     "output_type": "execute_result"
    },
    {
     "data": {
      "image/png": "[encoded data removed]",
      "text/plain": [
       "<Figure size 432x288 with 1 Axes>"
      ]
     },
     "metadata": {
      "needs_background": "light"
     },
     "output_type": "display_data"
    }
   ],
   "source": [
    "sns.distplot(sims, bins=20)"
   ]
  },
  {
   "cell_type": "markdown",
   "metadata": {},
   "source": [
    "# Programamos un EXP3 para comparar con el problema anterior\n",
    "\n",
    "Un tipo de agente que se adapta a cambios dinámicos en los rendimientos de las acciones de los contextos es el **algoritmo EXP3**. El agente comienza con iguales pesos para cada una de las acciones y va modificando estos pesos exponencialmente en función del beneficio de cada acción.\n",
    "\n",
    "Más información sobre bandidos adversarios [aquí](http://banditalgs.com/2016/10/01/adversarial-bandits/).\n",
    "\n",
    "El algoritmo que implementamos es el siguiente:\n",
    "\n",
    "<img src='EXP3.png'>\n",
    "\n",
    "Sólo que la implementación que realizamos usa pesos en la versión logarítmica para evitar el **overflow**. Además ponemos una probabilidad mínima para cada acción de modo que nunca dejamos de probar con cierta probabilidad cada posibilidad:"
   ]
  },
  {
   "cell_type": "code",
   "execution_count": 18,
   "metadata": {
    "ExecuteTime": {
     "end_time": "2021-06-24T11:30:04.049246Z",
     "start_time": "2021-06-24T11:30:04.037029Z"
    }
   },
   "outputs": [],
   "source": [
    "class agente_EXP3():\n",
    "    \n",
    "    \"\"\"\n",
    "    Clase que pretende emular un agente EXP3, que es un algoritmo de bandidos adversarios contextual.\n",
    "    Es decir, para cada estado hay unos parámetros\n",
    "    \"\"\"\n",
    "\n",
    "    def __init__(self, s_size, a_size, p_min, lr_speed=1):\n",
    "        \"\"\" lr_speed vale 1 por defecto, modificarla cambia la tasa de aprendizaje\"\"\"\n",
    "        \n",
    "        \"\"\"\n",
    "        Método de inicialización.\n",
    "        \n",
    "        - s_size: número de estados\n",
    "        - a_size: número de acciones\n",
    "        - p_min: probabilidad mínima\n",
    "        - lr_speed: velocidad de la tasa de aprendizaje. Valor 1 por defecto. A mayor valor, se acelera el aprendizaje.\n",
    "        \"\"\"\n",
    "        self.s_size = s_size\n",
    "        self.a_size = a_size\n",
    "        self.a_vector = np.arange(a_size)\n",
    "        self.p_min = p_min\n",
    "        self.gamma = p_min * a_size\n",
    "        self.lr_speed = p_min * lr_speed\n",
    "\n",
    "        # Inicializar matriz de pesos y probabilidades\n",
    "        self.W = np.zeros((s_size, a_size))\n",
    "#         self.P = (1 - self.gamma) * self.W / np.sum(self.W, axis=1).reshape(s_size,1) + self.p_min\n",
    "        # P: probabilidad de tomar cada acción en cada estado\n",
    "        self.P = (1 - self.gamma) * np.exp(self.W - logsumexp(self.W, axis=1).reshape(s_size, 1)) + self.p_min\n",
    "\n",
    "    def get_action(self, bandit):\n",
    "        \"\"\" El coeficiente velocidad de aprendizaje suele ser igual que p_min\"\"\"\n",
    "        \n",
    "        \"\"\"\n",
    "        Método que devuelve una acción que se toma aleatoriamente del vector de acciones con la probabilidad que\n",
    "        se obtiene de la tabla de probabilidades a partir del estado que se introduce como parámetro.\n",
    "        \n",
    "        - bandit: estado\n",
    "        \"\"\"\n",
    "#         w = self.W[bandit]\n",
    "#         P = (1 - self.gamma) * w / np.sum(w) + self.p_min\n",
    "        action = np.random.choice(self.a_vector, p=self.P[bandit])\n",
    "#         print('El estado %d tiene vector de probabilidades %r' %(bandit, self.P[bandit]))\n",
    "        return action\n",
    "\n",
    "    def update_with_reward(self, bandit, action, reward):\n",
    "        \"\"\"\n",
    "        Método que actualiza el estado interno a partir de un estado, con una acción, y la recompensa obtenida.\n",
    "        \n",
    "        - bandit: estado en el que se ha llevado la acción\n",
    "        - action: acción llevada a cabo\n",
    "        - reward: recompensa obtenida a partir de haber realizado una acción en un estado determinado.\n",
    "        \"\"\"\n",
    "        self.W[bandit, action] += self.lr_speed * reward / self.P[bandit, action]\n",
    "        self.P[bandit] = (1 - self.gamma) * self.W[bandit] / np.sum(self.W[bandit]) + self.p_min\n",
    "        self.P[bandit] = (1 - self.gamma) * np.exp(self.W[bandit] - logsumexp(self.W[bandit])) + self.p_min"
   ]
  },
  {
   "cell_type": "markdown",
   "metadata": {},
   "source": [
    "Pesos iniciales:"
   ]
  },
  {
   "cell_type": "code",
   "execution_count": 19,
   "metadata": {
    "ExecuteTime": {
     "end_time": "2021-06-24T11:30:07.206584Z",
     "start_time": "2021-06-24T11:30:07.197502Z"
    },
    "scrolled": true
   },
   "outputs": [
    {
     "data": {
      "text/plain": [
       "array([[0., 0., 0.],\n",
       "       [0., 0., 0.],\n",
       "       [0., 0., 0.],\n",
       "       [0., 0., 0.],\n",
       "       [0., 0., 0.],\n",
       "       [0., 0., 0.],\n",
       "       [0., 0., 0.],\n",
       "       [0., 0., 0.],\n",
       "       [0., 0., 0.],\n",
       "       [0., 0., 0.]])"
      ]
     },
     "execution_count": 19,
     "metadata": {},
     "output_type": "execute_result"
    }
   ],
   "source": [
    "# Se genera un agente\n",
    "agente = agente_EXP3(N_BANDITS, N_ACTIONS, 0.05, 5)\n",
    "agente.W"
   ]
  },
  {
   "cell_type": "markdown",
   "metadata": {},
   "source": [
    "El estado inicial de las probabilidades de cada acción para cada contexto o bandido. Al principio es igual para todos"
   ]
  },
  {
   "cell_type": "code",
   "execution_count": 20,
   "metadata": {
    "ExecuteTime": {
     "end_time": "2021-06-24T11:30:08.281634Z",
     "start_time": "2021-06-24T11:30:08.272543Z"
    }
   },
   "outputs": [
    {
     "data": {
      "text/plain": [
       "array([[0.33333333, 0.33333333, 0.33333333],\n",
       "       [0.33333333, 0.33333333, 0.33333333],\n",
       "       [0.33333333, 0.33333333, 0.33333333],\n",
       "       [0.33333333, 0.33333333, 0.33333333],\n",
       "       [0.33333333, 0.33333333, 0.33333333],\n",
       "       [0.33333333, 0.33333333, 0.33333333],\n",
       "       [0.33333333, 0.33333333, 0.33333333],\n",
       "       [0.33333333, 0.33333333, 0.33333333],\n",
       "       [0.33333333, 0.33333333, 0.33333333],\n",
       "       [0.33333333, 0.33333333, 0.33333333]])"
      ]
     },
     "execution_count": 20,
     "metadata": {},
     "output_type": "execute_result"
    }
   ],
   "source": [
    "# self.W / np.sum(self.W, axis=1).reshape(s_size,1)\n",
    "np.exp(agente.W - logsumexp(agente.W, axis=1).reshape(N_BANDITS, 1))"
   ]
  },
  {
   "cell_type": "markdown",
   "metadata": {},
   "source": [
    "### Ejemplo de toma de acción y actualización de pesos"
   ]
  },
  {
   "cell_type": "code",
   "execution_count": 21,
   "metadata": {
    "ExecuteTime": {
     "end_time": "2021-06-24T11:30:08.905067Z",
     "start_time": "2021-06-24T11:30:08.900309Z"
    }
   },
   "outputs": [],
   "source": [
    "# Generar un agente\n",
    "ag = agente_EXP3(500,3,0.1)"
   ]
  },
  {
   "cell_type": "markdown",
   "metadata": {},
   "source": [
    "El agente creado da una acción para cada contexto que le proporcionemos basada en la probabilidad de bondad de dicha acción almacenada en sus pesos_"
   ]
  },
  {
   "cell_type": "code",
   "execution_count": 22,
   "metadata": {
    "ExecuteTime": {
     "end_time": "2021-06-24T11:30:09.568836Z",
     "start_time": "2021-06-24T11:30:09.562830Z"
    }
   },
   "outputs": [
    {
     "data": {
      "text/plain": [
       "0"
      ]
     },
     "execution_count": 22,
     "metadata": {},
     "output_type": "execute_result"
    }
   ],
   "source": [
    "ag.get_action(3)"
   ]
  },
  {
   "cell_type": "markdown",
   "metadata": {},
   "source": [
    "Tras realizar una acción tenemos una recompensa y podemos actualizar los pesos:"
   ]
  },
  {
   "cell_type": "code",
   "execution_count": 23,
   "metadata": {
    "ExecuteTime": {
     "end_time": "2021-06-24T11:30:10.636821Z",
     "start_time": "2021-06-24T11:30:10.631566Z"
    }
   },
   "outputs": [],
   "source": [
    "ag.update_with_reward(2, 1, 5)"
   ]
  },
  {
   "cell_type": "code",
   "execution_count": 24,
   "metadata": {
    "ExecuteTime": {
     "end_time": "2021-06-24T11:30:10.909618Z",
     "start_time": "2021-06-24T11:30:10.901272Z"
    }
   },
   "outputs": [
    {
     "data": {
      "text/plain": [
       "array([[0. , 0. , 0. ],\n",
       "       [0. , 0. , 0. ],\n",
       "       [0. , 1.5, 0. ],\n",
       "       ...,\n",
       "       [0. , 0. , 0. ],\n",
       "       [0. , 0. , 0. ],\n",
       "       [0. , 0. , 0. ]])"
      ]
     },
     "execution_count": 24,
     "metadata": {},
     "output_type": "execute_result"
    }
   ],
   "source": [
    "ag.W"
   ]
  },
  {
   "cell_type": "markdown",
   "metadata": {},
   "source": [
    "### Lanzamos un experimento para comparar con los resultados aleatorios"
   ]
  },
  {
   "cell_type": "markdown",
   "metadata": {},
   "source": [
    "**Pregunta: Prueba distintos parámetros para el mismo problema de bandidos en el agente. ¿Con cuál obtienes mayor beneficio?**\n",
    "\n",
    "Para resolver esta pregunta se van a analizar diferentes combinaciones para los valores de probabilidad mínima y de velocidad de la taa de aprendizaje sobre el mismo entorno, por lo que se mantienen los parámetros N_CONTEXTS y N_ACTIONS sin modificar.\n"
   ]
  },
  {
   "cell_type": "code",
   "execution_count": 61,
   "metadata": {
    "ExecuteTime": {
     "end_time": "2021-06-24T12:57:42.232294Z",
     "start_time": "2021-06-24T12:56:34.966191Z"
    }
   },
   "outputs": [
    {
     "name": "stderr",
     "output_type": "stream",
     "text": [
      "100%|██████████| 20000/20000 [00:03<00:00, 6151.26it/s]\n",
      "100%|██████████| 20000/20000 [00:03<00:00, 6057.52it/s]\n",
      "100%|██████████| 20000/20000 [00:03<00:00, 6259.27it/s]\n",
      "100%|██████████| 20000/20000 [00:03<00:00, 6129.17it/s]\n",
      "100%|██████████| 20000/20000 [00:03<00:00, 5954.17it/s]\n",
      "100%|██████████| 20000/20000 [00:03<00:00, 5807.83it/s]\n",
      "100%|██████████| 20000/20000 [00:03<00:00, 5954.11it/s]\n",
      "100%|██████████| 20000/20000 [00:03<00:00, 5799.66it/s]\n",
      "100%|██████████| 20000/20000 [00:03<00:00, 5491.47it/s]\n",
      "100%|██████████| 20000/20000 [00:03<00:00, 5510.61it/s]\n",
      "100%|██████████| 20000/20000 [00:03<00:00, 6106.77it/s]\n",
      "100%|██████████| 20000/20000 [00:03<00:00, 5927.89it/s]\n",
      "100%|██████████| 20000/20000 [00:03<00:00, 5972.73it/s]\n",
      "100%|██████████| 20000/20000 [00:03<00:00, 6551.90it/s]\n",
      "100%|██████████| 20000/20000 [00:03<00:00, 5616.37it/s]\n",
      "100%|██████████| 20000/20000 [00:03<00:00, 5783.65it/s]\n",
      "100%|██████████| 20000/20000 [00:03<00:00, 5883.56it/s]\n",
      "100%|██████████| 20000/20000 [00:03<00:00, 6010.82it/s]\n",
      "100%|██████████| 20000/20000 [00:03<00:00, 6588.95it/s]\n",
      "100%|██████████| 20000/20000 [00:03<00:00, 6047.48it/s]\n"
     ]
    }
   ],
   "source": [
    "# Listas con los valores de los parámetros a probar\n",
    "lr_speed = [1,2,3,4,5]\n",
    "p_min = [0.05,0.1,0.15,0.2]\n",
    "\n",
    "# Dataframe base para almacenar los resultados\n",
    "df = pd.DataFrame(columns = [\"lr_speed\", \"p_min\", \"% aciertos\", \"beneficio medio\", \"beneficio acumulado\"])\n",
    "\n",
    "# Lista para almacenar los beneficios de cada experimento con las diferentes combinaciones de parámetros\n",
    "beneficio_total = []\n",
    "\n",
    "for i in lr_speed:\n",
    "    for j in p_min:\n",
    "        \n",
    "        # Generar bandido contextual, es decir, el entorno\n",
    "        cont_bandit = ContextualBandits(N_CONTEXTS, N_ACTIONS)\n",
    "\n",
    "        # Generar el agente\n",
    "        agente = agente_EXP3(N_CONTEXTS, N_ACTIONS, j, i)\n",
    "\n",
    "        # Generar una matriz de recompensas totales\n",
    "        total_reward = np.zeros([cont_bandit.num_bandits, cont_bandit.num_actions])\n",
    "\n",
    "        beneficio = []\n",
    "\n",
    "        # Comienzo del experimento\n",
    "        for k in tqdm(range(N_EPOCHS)):\n",
    "\n",
    "            # Obtener estado\n",
    "            s = cont_bandit.get_bandit()\n",
    "\n",
    "            # Obtener una acción para el estado\n",
    "            action = agente.get_action(s)\n",
    "\n",
    "            # Obtener la recompensa a partir de la acción\n",
    "            reward = cont_bandit.pull_arm(action)\n",
    "\n",
    "            # Añadir la recompensa a la lista para su almacenamiento\n",
    "            beneficio.append(reward)\n",
    "\n",
    "            # Modificar tabla de probabilidades y pesos a partir de la recompensa obtenida para la acción en el estado\n",
    "            agente.update_with_reward(s,action,reward)\n",
    "\n",
    "            # Añadir la recompensa a la tabla de recompensas totales para el estado y acción correspondiente.\n",
    "            total_reward[s,action] += reward\n",
    "\n",
    "            # Cada 500 iteraciones se resetea el contexto y la distribución de recompensas.\n",
    "            if k % 500 == 0:\n",
    "                cont_bandit.reset_bandit()\n",
    "            \n",
    "        aciertos = 0\n",
    "        for s in range(cont_bandit.num_bandits):\n",
    "            # Cálculo de métricas para evaluar los beneficios.\n",
    "            if np.argmax(agente.W[s]) == np.argmin(cont_bandit.bandits[s]):\n",
    "                aciertos += 1\n",
    "                \n",
    "        # Añadir los resultados al dataframe de resultados\n",
    "        new_row = {\"lr_speed\": str(i), \"p_min\": str(j), \"% aciertos\": aciertos/cont_bandit.num_bandits, \n",
    "                   \"beneficio medio\": np.mean(beneficio), \"beneficio acumulado\": np.sum(beneficio)}\n",
    "        df = df.append(new_row, ignore_index = True)\n",
    "        \n",
    "        # Añadir los beneficios a la lista de beneficios totales\n",
    "        beneficio_total.append(beneficio) \n",
    "        "
   ]
  },
  {
   "cell_type": "code",
   "execution_count": 62,
   "metadata": {
    "ExecuteTime": {
     "end_time": "2021-06-24T12:57:47.413899Z",
     "start_time": "2021-06-24T12:57:47.394284Z"
    }
   },
   "outputs": [
    {
     "data": {
      "text/html": [
       "<div>\n",
       "<style scoped>\n",
       "    .dataframe tbody tr th:only-of-type {\n",
       "        vertical-align: middle;\n",
       "    }\n",
       "\n",
       "    .dataframe tbody tr th {\n",
       "        vertical-align: top;\n",
       "    }\n",
       "\n",
       "    .dataframe thead th {\n",
       "        text-align: right;\n",
       "    }\n",
       "</style>\n",
       "<table border=\"1\" class=\"dataframe\">\n",
       "  <thead>\n",
       "    <tr style=\"text-align: right;\">\n",
       "      <th></th>\n",
       "      <th>lr_speed</th>\n",
       "      <th>p_min</th>\n",
       "      <th>% aciertos</th>\n",
       "      <th>beneficio medio</th>\n",
       "      <th>beneficio acumulado</th>\n",
       "    </tr>\n",
       "  </thead>\n",
       "  <tbody>\n",
       "    <tr>\n",
       "      <th>0</th>\n",
       "      <td>1</td>\n",
       "      <td>0.05</td>\n",
       "      <td>0.48</td>\n",
       "      <td>0.088298</td>\n",
       "      <td>1765.959579</td>\n",
       "    </tr>\n",
       "    <tr>\n",
       "      <th>1</th>\n",
       "      <td>1</td>\n",
       "      <td>0.1</td>\n",
       "      <td>0.34</td>\n",
       "      <td>0.115878</td>\n",
       "      <td>2317.558592</td>\n",
       "    </tr>\n",
       "    <tr>\n",
       "      <th>2</th>\n",
       "      <td>1</td>\n",
       "      <td>0.15</td>\n",
       "      <td>0.38</td>\n",
       "      <td>0.129139</td>\n",
       "      <td>2582.776335</td>\n",
       "    </tr>\n",
       "    <tr>\n",
       "      <th>3</th>\n",
       "      <td>1</td>\n",
       "      <td>0.2</td>\n",
       "      <td>0.43</td>\n",
       "      <td>0.067367</td>\n",
       "      <td>1347.345665</td>\n",
       "    </tr>\n",
       "    <tr>\n",
       "      <th>4</th>\n",
       "      <td>2</td>\n",
       "      <td>0.05</td>\n",
       "      <td>0.45</td>\n",
       "      <td>0.119982</td>\n",
       "      <td>2399.647110</td>\n",
       "    </tr>\n",
       "    <tr>\n",
       "      <th>5</th>\n",
       "      <td>2</td>\n",
       "      <td>0.1</td>\n",
       "      <td>0.42</td>\n",
       "      <td>0.129408</td>\n",
       "      <td>2588.159394</td>\n",
       "    </tr>\n",
       "    <tr>\n",
       "      <th>6</th>\n",
       "      <td>2</td>\n",
       "      <td>0.15</td>\n",
       "      <td>0.39</td>\n",
       "      <td>0.122525</td>\n",
       "      <td>2450.495435</td>\n",
       "    </tr>\n",
       "    <tr>\n",
       "      <th>7</th>\n",
       "      <td>2</td>\n",
       "      <td>0.2</td>\n",
       "      <td>0.41</td>\n",
       "      <td>0.062761</td>\n",
       "      <td>1255.211782</td>\n",
       "    </tr>\n",
       "    <tr>\n",
       "      <th>8</th>\n",
       "      <td>3</td>\n",
       "      <td>0.05</td>\n",
       "      <td>0.43</td>\n",
       "      <td>0.143904</td>\n",
       "      <td>2878.079874</td>\n",
       "    </tr>\n",
       "    <tr>\n",
       "      <th>9</th>\n",
       "      <td>3</td>\n",
       "      <td>0.1</td>\n",
       "      <td>0.33</td>\n",
       "      <td>0.137098</td>\n",
       "      <td>2741.952512</td>\n",
       "    </tr>\n",
       "    <tr>\n",
       "      <th>10</th>\n",
       "      <td>3</td>\n",
       "      <td>0.15</td>\n",
       "      <td>0.34</td>\n",
       "      <td>0.087702</td>\n",
       "      <td>1754.032547</td>\n",
       "    </tr>\n",
       "    <tr>\n",
       "      <th>11</th>\n",
       "      <td>3</td>\n",
       "      <td>0.2</td>\n",
       "      <td>0.39</td>\n",
       "      <td>0.087774</td>\n",
       "      <td>1755.475018</td>\n",
       "    </tr>\n",
       "    <tr>\n",
       "      <th>12</th>\n",
       "      <td>4</td>\n",
       "      <td>0.05</td>\n",
       "      <td>0.44</td>\n",
       "      <td>0.176879</td>\n",
       "      <td>3537.576410</td>\n",
       "    </tr>\n",
       "    <tr>\n",
       "      <th>13</th>\n",
       "      <td>4</td>\n",
       "      <td>0.1</td>\n",
       "      <td>0.39</td>\n",
       "      <td>0.135436</td>\n",
       "      <td>2708.722044</td>\n",
       "    </tr>\n",
       "    <tr>\n",
       "      <th>14</th>\n",
       "      <td>4</td>\n",
       "      <td>0.15</td>\n",
       "      <td>0.35</td>\n",
       "      <td>0.132558</td>\n",
       "      <td>2651.156240</td>\n",
       "    </tr>\n",
       "    <tr>\n",
       "      <th>15</th>\n",
       "      <td>4</td>\n",
       "      <td>0.2</td>\n",
       "      <td>0.52</td>\n",
       "      <td>0.045984</td>\n",
       "      <td>919.670007</td>\n",
       "    </tr>\n",
       "    <tr>\n",
       "      <th>16</th>\n",
       "      <td>5</td>\n",
       "      <td>0.05</td>\n",
       "      <td>0.47</td>\n",
       "      <td>0.159004</td>\n",
       "      <td>3180.076945</td>\n",
       "    </tr>\n",
       "    <tr>\n",
       "      <th>17</th>\n",
       "      <td>5</td>\n",
       "      <td>0.1</td>\n",
       "      <td>0.45</td>\n",
       "      <td>0.115982</td>\n",
       "      <td>2319.635687</td>\n",
       "    </tr>\n",
       "    <tr>\n",
       "      <th>18</th>\n",
       "      <td>5</td>\n",
       "      <td>0.15</td>\n",
       "      <td>0.43</td>\n",
       "      <td>0.126166</td>\n",
       "      <td>2523.321284</td>\n",
       "    </tr>\n",
       "    <tr>\n",
       "      <th>19</th>\n",
       "      <td>5</td>\n",
       "      <td>0.2</td>\n",
       "      <td>0.33</td>\n",
       "      <td>0.072973</td>\n",
       "      <td>1459.469002</td>\n",
       "    </tr>\n",
       "  </tbody>\n",
       "</table>\n",
       "</div>"
      ],
      "text/plain": [
       "   lr_speed p_min  % aciertos  beneficio medio  beneficio acumulado\n",
       "0         1  0.05        0.48         0.088298          1765.959579\n",
       "1         1   0.1        0.34         0.115878          2317.558592\n",
       "2         1  0.15        0.38         0.129139          2582.776335\n",
       "3         1   0.2        0.43         0.067367          1347.345665\n",
       "4         2  0.05        0.45         0.119982          2399.647110\n",
       "5         2   0.1        0.42         0.129408          2588.159394\n",
       "6         2  0.15        0.39         0.122525          2450.495435\n",
       "7         2   0.2        0.41         0.062761          1255.211782\n",
       "8         3  0.05        0.43         0.143904          2878.079874\n",
       "9         3   0.1        0.33         0.137098          2741.952512\n",
       "10        3  0.15        0.34         0.087702          1754.032547\n",
       "11        3   0.2        0.39         0.087774          1755.475018\n",
       "12        4  0.05        0.44         0.176879          3537.576410\n",
       "13        4   0.1        0.39         0.135436          2708.722044\n",
       "14        4  0.15        0.35         0.132558          2651.156240\n",
       "15        4   0.2        0.52         0.045984           919.670007\n",
       "16        5  0.05        0.47         0.159004          3180.076945\n",
       "17        5   0.1        0.45         0.115982          2319.635687\n",
       "18        5  0.15        0.43         0.126166          2523.321284\n",
       "19        5   0.2        0.33         0.072973          1459.469002"
      ]
     },
     "execution_count": 62,
     "metadata": {},
     "output_type": "execute_result"
    }
   ],
   "source": [
    "# Resultados\n",
    "df"
   ]
  },
  {
   "cell_type": "code",
   "execution_count": 56,
   "metadata": {
    "ExecuteTime": {
     "end_time": "2021-06-24T12:40:02.335205Z",
     "start_time": "2021-06-24T12:40:02.327359Z"
    }
   },
   "outputs": [
    {
     "name": "stdout",
     "output_type": "stream",
     "text": [
      "El mayor beneficio medio obtenido fue de 0.1771112340573745 con un benedificio acumulado de 3542.22468114749, y se obtuvo con una probabilidad mínima de 0.05 y una velocidad de tasa de aprendizaje igual a 4.\n"
     ]
    }
   ],
   "source": [
    "# Obtener el índice del experimento cuyo beneficio medio ha sido mayor\n",
    "max_ben_index = df[\"beneficio medio\"].idxmax()\n",
    "\n",
    "# Obtener la tasa de aprendizaje y la probabilidad mínica del experimento cuyo beneficio medio ha sido mayor\n",
    "lr_speed = int(df.loc[max_ben_index, \"lr_speed\"])\n",
    "p_min = float(df.loc[max_ben_index, \"p_min\"])\n",
    "\n",
    "print(\"El mayor beneficio medio obtenido fue de {} con un benedificio acumulado de {}, y se obtuvo con una \\\n",
    "probabilidad mínima de {} y una velocidad de tasa de aprendizaje igual a {}.\\\n",
    "\".format(df.loc[max_ben_index, \"beneficio medio\"], df.loc[max_ben_index, \"beneficio acumulado\"], p_min, lr_speed))"
   ]
  },
  {
   "cell_type": "markdown",
   "metadata": {},
   "source": [
    "Mostrar el cambio en la ditribución de los beneficios."
   ]
  },
  {
   "cell_type": "code",
   "execution_count": 69,
   "metadata": {
    "ExecuteTime": {
     "end_time": "2021-06-24T13:40:00.933703Z",
     "start_time": "2021-06-24T13:40:00.355810Z"
    }
   },
   "outputs": [
    {
     "name": "stderr",
     "output_type": "stream",
     "text": [
      "/usr/local/lib/python3.7/site-packages/seaborn/distributions.py:2557: FutureWarning: `distplot` is a deprecated function and will be removed in a future version. Please adapt your code to use either `displot` (a figure-level function with similar flexibility) or `histplot` (an axes-level function for histograms).\n",
      "  warnings.warn(msg, FutureWarning)\n"
     ]
    },
    {
     "data": {
      "image/png": "[encoded data removed]",
      "text/plain": [
       "<Figure size 1080x360 with 2 Axes>"
      ]
     },
     "metadata": {
      "needs_background": "light"
     },
     "output_type": "display_data"
    }
   ],
   "source": [
    "import matplotlib.pyplot as plt\n",
    "import seaborn as sns\n",
    "plt.style.use('ggplot')\n",
    "%matplotlib inline\n",
    "\n",
    "f,ax = plt.subplots(2,1,figsize=(15,5))\n",
    "ejes = ax.ravel()\n",
    "ejes[0].plot(np.cumsum(beneficio));\n",
    "ejes[0].set_xticks(np.linspace(0,20000,11))\n",
    "\n",
    "sns.distplot(beneficio_total[max_ben_index], ax=ejes[1]);\n",
    "# plt.close(g)"
   ]
  },
  {
   "cell_type": "code",
   "execution_count": null,
   "metadata": {},
   "outputs": [],
   "source": []
  }
 ],
 "metadata": {
  "anaconda-cloud": {},
  "hide_input": false,
  "kernelspec": {
   "display_name": "Python 3",
   "language": "python",
   "name": "python3"
  },
  "language_info": {
   "codemirror_mode": {
    "name": "ipython",
    "version": 3
   },
   "file_extension": ".py",
   "mimetype": "text/x-python",
   "name": "python",
   "nbconvert_exporter": "python",
   "pygments_lexer": "ipython3",
   "version": "3.7.6"
  },
  "toc": {
   "base_numbering": 1,
   "nav_menu": {
    "height": "135px",
    "width": "252px"
   },
   "number_sections": true,
   "sideBar": false,
   "skip_h1_title": true,
   "title_cell": "Table of Contents",
   "title_sidebar": "Contents",
   "toc_cell": false,
   "toc_position": {
    "height": "calc(100% - 180px)",
    "left": "10px",
    "top": "150px",
    "width": "165px"
   },
   "toc_section_display": true,
   "toc_window_display": false
  }
 },
 "nbformat": 4,
 "nbformat_minor": 1
}
